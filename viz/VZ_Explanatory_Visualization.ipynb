{
 "cells": [
  {
   "cell_type": "code",
   "execution_count": null,
   "metadata": {},
   "outputs": [],
   "source": [
    "%matplotlib inline\n",
    "import matplotlib\n",
    "import seaborn as sns\n",
    "sns.set()\n",
    "matplotlib.rcParams['figure.dpi'] = 144"
   ]
  },
  {
   "cell_type": "code",
   "execution_count": null,
   "metadata": {},
   "outputs": [],
   "source": [
    "import altair as alt\n",
    "from vega_datasets import data\n",
    "alt.renderers.enable('notebook')"
   ]
  },
  {
   "cell_type": "markdown",
   "metadata": {},
   "source": [
    "# Explanatory Visualization"
   ]
  },
  {
   "cell_type": "markdown",
   "metadata": {},
   "source": [
    "Data scientists often need to derive and communicate actionable conclusions from massive, complex information. Effective explanatory visualizations are central to this task.\n",
    "\n",
    "Although we focus in this notebook on *explanatory* visualization, many effective explanatory visualizations give the viewer the ability to interactively *explore* the results themselves. Interactivity in explanatory visualization should allow the viewer to track the narrative uncovered through the scientist's analysis. "
   ]
  },
  {
   "cell_type": "markdown",
   "metadata": {},
   "source": [
    "## Multiple interactive plots\n",
    "\n",
    "Often, a single visual cannot describe all the information we want to communicate to the viewer. Interactivity allows the viewer to make intuitive links between multiple features in data and reach conclusions more quickly. "
   ]
  },
  {
   "cell_type": "code",
   "execution_count": null,
   "metadata": {},
   "outputs": [],
   "source": [
    "df_cars = data.cars()\n",
    "df_cars['Year'] = df_cars[\"Year\"].dt.year"
   ]
  },
  {
   "cell_type": "markdown",
   "metadata": {},
   "source": [
    "### Repeat Plots"
   ]
  },
  {
   "cell_type": "markdown",
   "metadata": {},
   "source": [
    "Altair excels in creating multiple interactive views of data and linking them together. Below, we make use of Altair's `repeat` functionality, which allows us to specify one encoding across multiple features of the data, and display them in separate charts side-by-side.\n",
    "\n",
    "* We've set the X axis to take on a value of `alt.repeat(\"column\")`\n",
    "* We add a `repeat` method specifying which columns to repeat the chart over\n",
    "\n",
    "In addition, we've created a selection tool that links the selections across the charts.\n",
    "\n",
    "* We define an `alt.selection_interval` encoded by the X axis. \n",
    "* We use `alt.condition` to set the color and opacity of each of the marks based on the value of that selection.\n",
    "* We can reference the same selection object in another plot -- because the underlying data is the same, the selection applies to this plot as well!"
   ]
  },
  {
   "cell_type": "code",
   "execution_count": null,
   "metadata": {},
   "outputs": [],
   "source": [
    "brush = alt.selection_interval(encodings=['x'])\n",
    "\n",
    "repeat_chart = alt.Chart(df_cars).mark_point().encode(\n",
    "    alt.X(alt.repeat(\"column\"), type='quantitative'),\n",
    "    alt.Y('Miles_per_Gallon:Q'),\n",
    "    color=alt.condition(brush, 'Origin:N', alt.value('lightgray')),\n",
    "    opacity = alt.condition(brush, alt.value(1), alt.value(0.1))\n",
    ").properties(\n",
    "    width=150,\n",
    "    height=150\n",
    ").add_selection(\n",
    "    brush           \n",
    ").repeat(\n",
    "    column=['Weight_in_lbs', 'Acceleration', 'Horsepower']\n",
    ")\n",
    "\n",
    "year_chart = alt.Chart(df_cars, height=151, width = 200).mark_point().encode(\n",
    "    alt.X(\"Year:N\"),\n",
    "    alt.Y(\"Miles_per_Gallon:Q\"),\n",
    "    color=alt.condition(brush, \"Origin:N\", alt.value(\"lightgray\")),\n",
    "    opacity = alt.condition(brush, alt.value(1), alt.value(0.1))\n",
    "\n",
    ").add_selection(brush)\n",
    "\n",
    "\n",
    "\n",
    "repeat_chart | year_chart"
   ]
  },
  {
   "cell_type": "markdown",
   "metadata": {},
   "source": [
    "### Faceted plots"
   ]
  },
  {
   "cell_type": "markdown",
   "metadata": {},
   "source": [
    "We can also easily break one plot into multiple using Altair's `facet` method. This is as simple as calling the facet method and specifying which column to facet on."
   ]
  },
  {
   "cell_type": "code",
   "execution_count": null,
   "metadata": {},
   "outputs": [],
   "source": [
    "brush = alt.selection_interval()\n",
    "\n",
    "facet_chart = alt.Chart(df_cars).mark_point().encode(\n",
    "    alt.X('Year:N'),\n",
    "    alt.Y('Miles_per_Gallon:Q'),\n",
    "    color=alt.condition(brush, 'Origin:N', alt.value('lightgray'))\n",
    ").properties(\n",
    "    width=150,\n",
    "    height=150\n",
    ").add_selection(\n",
    "    brush           \n",
    ").facet(column=\"Origin\")\n",
    "\n",
    "\n",
    "facet_chart"
   ]
  },
  {
   "cell_type": "markdown",
   "metadata": {},
   "source": [
    "## Data transformations: filtering and aggregating"
   ]
  },
  {
   "cell_type": "markdown",
   "metadata": {},
   "source": [
    "We can also filter and aggregate data directly in Altair. Below, in addition to the faceted plot, we show a histogram of the number of cars from each origin currently selected.\n",
    "\n",
    "* Specifying `alt.y(\"count()\")` in the histogram chart gives us the count of all entries by each origin in this case\n",
    "* Adding `.transform_filter()` to the chart quickly filters by data points in the selection."
   ]
  },
  {
   "cell_type": "code",
   "execution_count": null,
   "metadata": {},
   "outputs": [],
   "source": [
    "brush = alt.selection_interval()\n",
    "\n",
    "facet_chart = alt.Chart(df_cars).mark_point().encode(\n",
    "    alt.X('Year:N'),\n",
    "    alt.Y('Miles_per_Gallon:Q'),\n",
    "    color=alt.condition(brush, 'Origin:N', alt.value('lightgray'))\n",
    ").properties(\n",
    "    width=150,\n",
    "    height=150\n",
    ").add_selection(\n",
    "    brush           \n",
    ").facet(column=\"Origin\")\n",
    "\n",
    "hist = alt.Chart(df_cars, height=151).mark_bar().encode(\n",
    "    alt.X('Origin'),\n",
    "    alt.Y(\"count()\"),\n",
    "    color=\"Origin\"\n",
    ").transform_filter(brush)\n",
    "\n",
    "facet_chart | hist\n"
   ]
  },
  {
   "cell_type": "markdown",
   "metadata": {},
   "source": [
    "### Creating tooltips"
   ]
  },
  {
   "cell_type": "markdown",
   "metadata": {},
   "source": [
    "Setting tooltips in Altair is extremely easy -- simply specify `tooltip = [list of columns]` in the encoding."
   ]
  },
  {
   "cell_type": "code",
   "execution_count": null,
   "metadata": {},
   "outputs": [],
   "source": [
    "chart = alt.Chart(df_cars).mark_point().encode(\n",
    "    x = 'Horsepower',\n",
    "    y = \"Miles_per_Gallon\",\n",
    "    color= \"Origin\",\n",
    "    tooltip = ['Name', 'Year', 'Origin']\n",
    "\n",
    ")\n",
    "chart"
   ]
  },
  {
   "cell_type": "markdown",
   "metadata": {},
   "source": [
    "## Layout and Design"
   ]
  },
  {
   "cell_type": "markdown",
   "metadata": {},
   "source": [
    "### Chart configurations"
   ]
  },
  {
   "cell_type": "markdown",
   "metadata": {},
   "source": [
    "Plots in Altair are highly customizable according to the Vega-Lite JSON specification. Configurations are performed as methods on `alt.Chart` objects. Like other methods in Altair, these return chart objects, so methods can be chained together.\n",
    "\n",
    "Some common options include:\n",
    "\n",
    "* `chart.configure()`\n",
    "    * `background=` : \n",
    "    \n",
    "* `chart.configure_title()`\n",
    "    * `fontSize=` : \n",
    "\n",
    "* `chart.configure_axis()`, `chart.configure_axisX()`, `chart.configure_axisY()`\n",
    "    * `labelFontSize=`\n",
    "    * `titleFontSize=`\n",
    "\n",
    "\n",
    "* `chart.configure_legend()`\n",
    "    * `orient=` e.g. top-right, bottom-left\n",
    "    * `labelFontSize=`\n",
    "    * `symbolSize=`\n",
    "    \n",
    "A more comprehensive covering of chart configurations can be found in the Altair [documentation](https://altair-viz.github.io/user_guide/configuration.html#config-chart)"
   ]
  },
  {
   "cell_type": "code",
   "execution_count": null,
   "metadata": {},
   "outputs": [],
   "source": [
    "chart = alt.Chart(df_cars, title=\"Miles per Gallon by Horsepower and Origin\").mark_point().encode(\n",
    "    x = 'Horsepower',\n",
    "    y = \"Miles_per_Gallon\",\n",
    "    color= \"Origin\",\n",
    "    tooltip = ['Name', 'Year', 'Origin']\n",
    "\n",
    ")\n",
    "\n",
    "chart = chart.configure(\n",
    ").configure_title(\n",
    "    fontSize=16\n",
    ").configure_axis(\n",
    "    titleFontSize=14,\n",
    "    labelFontSize=12\n",
    ").configure_legend(\n",
    "    titleFontSize=14,\n",
    "    labelFontSize=12,\n",
    "    symbolSize=400\n",
    ")\n",
    "\n",
    "chart"
   ]
  },
  {
   "cell_type": "markdown",
   "metadata": {},
   "source": [
    "### Themes"
   ]
  },
  {
   "cell_type": "markdown",
   "metadata": {},
   "source": [
    "Once we've gotten a chart perfectly configured for a project, there's a good chance that configuration will be useful for us again for subsequent charts in the same project. Rather than having to apply the same configuration methods to each new chart, we can specify a **theme** and automatically apply it to each new chart. \n",
    "\n",
    "A theme in Altair is simply a Python function that returns the `config` part of a specification. For a chart we have already generated, we can access this specification by calling `chart.to_dict()` and getting the `'config'` values."
   ]
  },
  {
   "cell_type": "code",
   "execution_count": null,
   "metadata": {},
   "outputs": [],
   "source": [
    "chart.to_dict()['config']"
   ]
  },
  {
   "cell_type": "code",
   "execution_count": null,
   "metadata": {},
   "outputs": [],
   "source": [
    "def extract_theme(chart):\n",
    "    return {'config': chart.to_dict()['config']}"
   ]
  },
  {
   "cell_type": "code",
   "execution_count": null,
   "metadata": {},
   "outputs": [],
   "source": [
    "extract_theme(chart)"
   ]
  },
  {
   "cell_type": "code",
   "execution_count": null,
   "metadata": {},
   "outputs": [],
   "source": [
    "def big_text():\n",
    "    return {'config': {'view': {'width': 400, 'height': 300},\n",
    "  'mark': {'tooltip': None},\n",
    "  'axis': {'labelFontSize': 12, 'titleFontSize': 14},\n",
    "  'legend': {'labelFontSize': 12, 'symbolSize': 400, 'titleFontSize': 14},\n",
    "  'title': {'fontSize': 16}}}"
   ]
  },
  {
   "cell_type": "code",
   "execution_count": null,
   "metadata": {},
   "outputs": [],
   "source": [
    "# register the custom theme under a chosen name\n",
    "alt.themes.register('big_text', big_text)\n",
    "\n",
    "# enable the newly registered theme\n",
    "# revert changes by alt.themes.enable('default')\n",
    "alt.themes.enable('big_text')"
   ]
  },
  {
   "cell_type": "code",
   "execution_count": null,
   "metadata": {},
   "outputs": [],
   "source": [
    "chart = alt.Chart(df_cars).mark_point().encode(\n",
    "    x = 'Horsepower',\n",
    "    y = \"Miles_per_Gallon\",\n",
    "    color= \"Origin\",\n",
    "    tooltip = ['Name', 'Year', 'Origin']\n",
    "\n",
    ")\n",
    "chart"
   ]
  },
  {
   "cell_type": "markdown",
   "metadata": {},
   "source": [
    "## Using Altair with large data sets"
   ]
  },
  {
   "cell_type": "code",
   "execution_count": null,
   "metadata": {},
   "outputs": [],
   "source": [
    "diam = sns.load_dataset(\"diamonds\")\n",
    "print(\"Rows: {}, Columns: {}\".format(diam.shape[0], diam.shape[1]))\n",
    "diam.head()"
   ]
  },
  {
   "cell_type": "markdown",
   "metadata": {},
   "source": [
    "The `diamonds` data set has over 50k rows. What happens if we try to plot its values in Altair?"
   ]
  },
  {
   "cell_type": "code",
   "execution_count": null,
   "metadata": {},
   "outputs": [],
   "source": [
    "chart = alt.Chart(diam).mark_point().encode(\n",
    "    x = 'carat',\n",
    "    y = 'price',\n",
    "    color='cut'\n",
    ")\n",
    "\n",
    "#The line below will return an error\n",
    "\n",
    "#chart"
   ]
  },
  {
   "cell_type": "markdown",
   "metadata": {},
   "source": [
    "### Using external JSON files\n",
    "\n",
    "To pass more than 5000 rows into an Altair chart, we can initialize the Chart with a link to a JSON file instead of directly supplying it a pandas DataFrame.\n",
    "\n",
    "Let's sample 10000 points from the `diamonds` data set randomly, save this to a JSON file, then construct an Altair chart by linking to the JSON file on our local directory."
   ]
  },
  {
   "cell_type": "code",
   "execution_count": null,
   "metadata": {},
   "outputs": [],
   "source": [
    "url = 'diam_data.json'\n",
    "diam.sample(10000).to_json(url, orient='records')\n"
   ]
  },
  {
   "cell_type": "code",
   "execution_count": null,
   "metadata": {},
   "outputs": [],
   "source": [
    "diam_chart = alt.Chart(url).mark_point(filled= True).encode(\n",
    "    x = 'carat:Q',\n",
    "    y = 'price:Q',\n",
    "    color = \"clarity:N\"\n",
    ")\n",
    "\n",
    "diam_chart.save('diam_chart.json')\n",
    "diam_chart.save('diam_chart.html')\n",
    "\n",
    "diam_chart"
   ]
  },
  {
   "cell_type": "code",
   "execution_count": null,
   "metadata": {},
   "outputs": [],
   "source": [
    "import json\n",
    "from pprint import pprint\n",
    "with open('diam_chart.json', 'rb') as f:\n",
    "    diam_chart_json = json.load(f)\n",
    "    pprint(diam_chart_json)"
   ]
  },
  {
   "cell_type": "markdown",
   "metadata": {},
   "source": [
    "## Exporting an Altair chart as HTML"
   ]
  },
  {
   "cell_type": "markdown",
   "metadata": {},
   "source": [
    "It should be noted that Altair doesn't actually *render* charts itself. This means the output produced by Altair is not in image form. Rather, Altair produces JSON (Javascript Object Notation) files which are interpreted by a number of other packages before being rendered with Javascript in the browser.\n",
    "\n",
    "We've been using Altair with Jupyter Notebook so far, but for explanatory visuals, you will often want to display charts in a web browser, either in standalone form or (more likely) embedded in a web page. Altair makes it very easy to do so. \n",
    "\n",
    "Altair can easily output an HTML file which functions as a standalone version of the chart, or a JSON file which can be embedded using Vega-Embed."
   ]
  },
  {
   "cell_type": "code",
   "execution_count": null,
   "metadata": {},
   "outputs": [],
   "source": [
    "import pandas as pd\n",
    "df = pd.DataFrame(data={'x':[1,2,0,1, 1.4, 1.2, 1.1, 2], 'y':[2,1,1,0, 1.1, 0.5, 1.2, 1]})\n",
    "\n",
    "chart = alt.Chart(df).mark_line( size=2).encode(\n",
    "    alt.X('x'),\n",
    "    alt.Y(\"y\")\n",
    ")\n",
    "chart.save(\"chart.json\")\n",
    "chart.save(\"chart.html\")\n",
    "chart"
   ]
  },
  {
   "cell_type": "markdown",
   "metadata": {},
   "source": [
    "### The exported HTML file\n",
    "We can see what this HTML file looks like. \n",
    "\n",
    "* Imports Vega, Vega-Lite, and Vega-Embed\n",
    "* Creates a `<div>` with `id=\"vis\"`\n",
    "* Writes a script, note the Vega-Embed function at the bottom that points to `#vis`"
   ]
  },
  {
   "cell_type": "code",
   "execution_count": null,
   "metadata": {},
   "outputs": [],
   "source": [
    "with open(\"chart.html\", \"rb\") as f:\n",
    "    for line in f.readlines():\n",
    "        print(line.decode(\"utf-8\").strip('\\n'))"
   ]
  },
  {
   "cell_type": "markdown",
   "metadata": {},
   "source": [
    "### The exported JSON file\n",
    "If we examine the JSON file we produced with `chart.save(\"chart.json\")`, we can see that it is identical to the JSON object appearing in the `<script>` at the bottom of the HTML document above.\n",
    "\n",
    "This file is specified according to Vega-Lite, and is interpreted by Vega-Lite in the above HTML. "
   ]
  },
  {
   "cell_type": "code",
   "execution_count": null,
   "metadata": {},
   "outputs": [],
   "source": [
    "import json\n",
    "with open(\"chart.json\", \"rb\") as f:\n",
    "    j = json.load(f)\n",
    "    #print(j)\n",
    "    print(json.dumps(j, indent=2))"
   ]
  },
  {
   "cell_type": "markdown",
   "metadata": {},
   "source": [
    "For the most part, the JSON file above looks a lot like the Altair commands we wrote. Note, however, that the entire data set is included at the end of the JSON file. Looking back at the exported JSON for the `diam_chart`, we see that the specification simply gives a link to the data set."
   ]
  },
  {
   "cell_type": "markdown",
   "metadata": {},
   "source": [
    "## Embedding a chart in an HTML document"
   ]
  },
  {
   "cell_type": "markdown",
   "metadata": {},
   "source": [
    "Altair's HTML export capability is easy and useful for producing a standalone HTML document containing only a plot, but we also want to be able to embed plots side-by-side with other information. \n",
    "\n",
    "Luckily, embedding a plot created by Altair in HTML is also very easy! Recall that Altair outputs JSON files according to the Vega-Lite specification, which in turn outputs JSON files according to the Vega specification. The Javascript library Vega-Embed is used for displaying these charts in the browser, and requires only a few steps:"
   ]
  },
  {
   "cell_type": "markdown",
   "metadata": {},
   "source": [
    "**1. Import Vega, Vega-Lite, and Vega-Embed**\n",
    "\n",
    "Place these in the `<head>` of your document:\n",
    "\n",
    "```  \n",
    "<script type=\"text/javascript\" src=\"https://cdn.jsdelivr.net/npm//vega@4\"></script>\n",
    " <script type=\"text/javascript\" src=\"https://cdn.jsdelivr.net/npm//vega-lite@3.2.1\"></script>\n",
    " <script type=\"text/javascript\" src=\"https://cdn.jsdelivr.net/npm//vega-embed@3\"></script> ```\n",
    "**2. Create a container for the plot**\n",
    "In the `<body>` of your document, create the `<div>` that will contain the Altair plot.\n",
    "\n",
    "`<div id='vis'></div>`\n",
    " * It doesn't matter what you specify for the `id`, but you will use this `id` to tell Vega-Embed where to embed the plot.\n",
    "\n",
    "\n",
    "**3. Call a script that embeds the plot**\n",
    "Then, at the bottom of `<body>`, place the following script (replace 'chart.json' with the path to your local Altair JSON file):\n",
    "\n",
    "```\n",
    "<script>\n",
    "      var spec = 'chart.json';\n",
    "      vegaEmbed(\"#vis\", spec);\n",
    " </script>\n",
    "```\n",
    "\n",
    " **NOTE:** For this embedding to work, spec must consist of a valid link to the chart.json file, or the contents itself. Moreover, if chart.json specifies a *link* to the underlying data source, this link must be valid as well."
   ]
  },
  {
   "cell_type": "markdown",
   "metadata": {},
   "source": [
    "## Plotting Geographic Data"
   ]
  },
  {
   "cell_type": "markdown",
   "metadata": {},
   "source": [
    "### Folium\n"
   ]
  },
  {
   "cell_type": "markdown",
   "metadata": {},
   "source": [
    "GitHub: https://github.com/python-visualization/folium\n",
    "\n",
    "Doc: http://python-visualization.github.io/folium/"
   ]
  },
  {
   "cell_type": "code",
   "execution_count": null,
   "metadata": {},
   "outputs": [],
   "source": [
    "import folium\n",
    "map = folium.Map(location=[38.9071923, -77.0368707])\n",
    "map"
   ]
  },
  {
   "cell_type": "code",
   "execution_count": null,
   "metadata": {},
   "outputs": [],
   "source": [
    "location = '1600 Pennsylvania Ave NW, Washington DC'"
   ]
  },
  {
   "cell_type": "code",
   "execution_count": null,
   "metadata": {},
   "outputs": [],
   "source": [
    "import requests\n",
    "def geocode(address):\n",
    "    params = { 'format'        :'json', \n",
    "               'addressdetails': 1, \n",
    "               'q'             : address}\n",
    "    r = requests.get('http://nominatim.openstreetmap.org/search', params=params).json()\n",
    "    return (float(r[0]['lat']), float(r[0]['lon']))\n",
    "latlng = geocode(location)\n",
    "latlng"
   ]
  },
  {
   "cell_type": "code",
   "execution_count": null,
   "metadata": {},
   "outputs": [],
   "source": [
    "map = folium.Map(location=latlng, zoom_start=15)\n",
    "folium.Marker(latlng, popup=folium.Popup(location, parse_html=True)).add_to(map)\n",
    "folium.CircleMarker(latlng, popup=folium.Popup(location, parse_html=True), radius=5, color='#3186cc', fill_color='#3186cc').add_to(map)\n",
    "map"
   ]
  },
  {
   "cell_type": "markdown",
   "metadata": {},
   "source": [
    "**Exercise**: You can add markers to the map programmatically. Try using requests to get lat/long data from an API or adding the location of tweets as they come in."
   ]
  },
  {
   "cell_type": "markdown",
   "metadata": {},
   "source": [
    "*Copyright &copy; 2019 The Data Incubator.  All rights reserved.*"
   ]
  }
 ],
 "metadata": {
  "kernelspec": {
   "display_name": "Python 3",
   "language": "python",
   "name": "python3"
  },
  "nbclean": true
 },
 "nbformat": 4,
 "nbformat_minor": 0
}
