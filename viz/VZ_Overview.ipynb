{
 "cells": [
  {
   "cell_type": "code",
   "execution_count": null,
   "metadata": {},
   "outputs": [],
   "source": [
    "%matplotlib inline\n",
    "import matplotlib\n",
    "import seaborn as sns\n",
    "sns.set()\n",
    "matplotlib.rcParams['figure.dpi'] = 144"
   ]
  },
  {
   "cell_type": "markdown",
   "metadata": {},
   "source": [
    "# Overview of Data Visualization"
   ]
  },
  {
   "cell_type": "code",
   "execution_count": null,
   "metadata": {},
   "outputs": [],
   "source": [
    "# Header graphic\n",
    "import pandas as pd\n",
    "tips = sns.load_dataset(\"tips\")\n",
    "pd.plotting.scatter_matrix(tips, alpha=0.2, figsize=(5, 5), diagonal='kde');"
   ]
  },
  {
   "cell_type": "markdown",
   "metadata": {},
   "source": [
    "## Introduction\n"
   ]
  },
  {
   "cell_type": "markdown",
   "metadata": {},
   "source": [
    "Data science is about helping humans understand the story behind the data, and visualizations provide a powerful tool for helping the analyst understand and communicate that story. \n",
    "\n",
    "Visualization can serve a dual purpose:\n",
    "* Data exploration\n",
    "* Data explanation \n",
    "\n",
    "**Data exploration** helps the data scientist understand the data at hand. This module teaches data exploration using select Python libraries like `matplotlib`, `seaborn`, `pandas`, and `altair` to highlight the process of dissecting a large data set to pull out meaningful relationships.\n",
    "\n",
    "When particular insights emerge and need to be **explained** to another audience, Javascript libraries are preferred tools for creating professional visualizations which can be presented on the web. To that end, we also include an introduction to `Altair`, a Python library that outputs JSON objects according to the `Vega` specification, which are then rendered using Javascript.\n",
    "\n",
    "Separate notebooks teach the technologies for each of those 2 approaches, as well as visualization **best practices**.\n",
    "\n",
    "Below, we present some quick examples of a few common libraries."
   ]
  },
  {
   "cell_type": "markdown",
   "metadata": {},
   "source": [
    "## Pandas plots"
   ]
  },
  {
   "cell_type": "code",
   "execution_count": null,
   "metadata": {},
   "outputs": [],
   "source": [
    "# working dataset\n",
    "tips.head()"
   ]
  },
  {
   "cell_type": "code",
   "execution_count": null,
   "metadata": {},
   "outputs": [],
   "source": [
    "tips_hist = tips.hist()    #pandas hist() function. tips is a DataFrame"
   ]
  },
  {
   "cell_type": "markdown",
   "metadata": {},
   "source": [
    "## Altair plots"
   ]
  },
  {
   "cell_type": "code",
   "execution_count": null,
   "metadata": {},
   "outputs": [],
   "source": [
    "import altair as alt\n",
    "alt.renderers.enable(\"notebook\")\n",
    "alt.Chart(tips).mark_point().encode(\n",
    "    x = 'total_bill',\n",
    "    y = 'tip',\n",
    "    color = 'smoker').interactive()"
   ]
  },
  {
   "cell_type": "markdown",
   "metadata": {},
   "source": [
    "*Copyright &copy; 2019 The Data Incubator.  All rights reserved.*"
   ]
  }
 ],
 "metadata": {
  "kernelspec": {
   "display_name": "Python 3",
   "language": "python",
   "name": "python3"
  },
  "nbclean": true
 },
 "nbformat": 4,
 "nbformat_minor": 0
}
