{
 "cells": [
  {
   "cell_type": "code",
   "execution_count": null,
   "metadata": {},
   "outputs": [],
   "source": [
    "%matplotlib inline\n",
    "import matplotlib\n",
    "import seaborn as sns\n",
    "sns.set()\n",
    "matplotlib.rcParams['figure.dpi'] = 144"
   ]
  },
  {
   "cell_type": "code",
   "execution_count": null,
   "metadata": {},
   "outputs": [],
   "source": [
    "import json\n",
    "import pandas as pd\n",
    "\n",
    "from static_grader import grader"
   ]
  },
  {
   "cell_type": "markdown",
   "metadata": {},
   "source": [
    "# Building a Dashboard\n"
   ]
  },
  {
   "cell_type": "markdown",
   "metadata": {},
   "source": [
    "In this miniproject, we're going to build an interactive web \"Bus dashboard\" app utilizing New York City's transit data. As such, we'll be focusing on explanatory visualization.\n",
    "\n",
    "- We're going to use [Bokeh](http://bokeh.pydata.org/en/latest/) to power our dashboard. \n",
    "- We'll use [Heroku](https://devcenter.heroku.com/articles/python-gunicorn) and [Flask](http://flask.pocoo.org/) for our web stack.\n",
    "- If you're a Fellow or Scholar, you'll recognize this stack from the 12-day milestone project. \n",
    "- The miniproject contains plenty of room to experiment front-end web technologies such as [Leaflet.js](http://leafletjs.com/) and [D3.js](https://d3js.org). If you're comfortable with Bokeh, consider trying these new technologies to broaden your skill set.\n",
    "\n",
    "Unlike some of the other miniprojects, this one is a bit less structured. The below outline and sample app are meant as a guideline. If there's a particular direction you'd like to explore with this data, by all means submit some custom visualizations! If you prefer, feel free to visualize the open bus data in your city of choice.\n"
   ]
  },
  {
   "cell_type": "markdown",
   "metadata": {},
   "source": [
    "## Data set and Plan [Do ASAP: Request Developer Access from MTA]\n"
   ]
  },
  {
   "cell_type": "markdown",
   "metadata": {},
   "source": [
    "We're going to use an [Archive of transit data](http://data.beta.nyc/dataset/unofficial-mta-transit-data-archive/resource/106dd52f-8755-40a0-aa3d-dfa6195a8d21) and the [Live Feed](http://bustime.mta.info/wiki/Developers/Index/) of MTA Bus data (you'll need to request an API key, stop reading and fill out the form for this now!).\n",
    "\n",
    "- The former is useful for determining overall reliability of a given bus line at a given time/location, the latter is useful for live stop information, of course!\n",
    "\n",
    "- Aside from the archived bus time data, also extremely useful is the [`GTFS` data](https://developers.google.com/transit/gtfs/) in the Archive (under the `gtfs` folder). This includes scheduled departure times, route information, stop ID locations, etc.\n",
    "\n",
    "\n",
    "- Want a pre-filtered data set to play with some visualizations? We've got you covered.\n",
    "`s3://dataincubator-course/viz-miniproject/manhattan.csv` contains 7 days' of nicely filtered data joined to some basic stop information.\n",
    "\n"
   ]
  },
  {
   "cell_type": "markdown",
   "metadata": {},
   "source": [
    "## An overview of the data \n"
   ]
  },
  {
   "cell_type": "markdown",
   "metadata": {},
   "source": [
    "### Historical Data"
   ]
  },
  {
   "cell_type": "markdown",
   "metadata": {},
   "source": [
    "The historical archive of data includes archives of real-time bus information (positions for each bus at a given time) as well as schedule data for each bus trip. It's a little messy. If you're using our data set, you can use the following snippet to quickly load the data with `datetime` indices."
   ]
  },
  {
   "cell_type": "code",
   "execution_count": null,
   "metadata": {},
   "outputs": [],
   "source": [
    "date_format_str = \"%Y-%m-%d %H:%M:%S\"\n",
    "date_parser = lambda u: pd.datetime.strptime(u, date_format_str)\n",
    "df = pd.read_csv(\"manhattan.csv\",  \n",
    "                 parse_dates=True,\n",
    "                 date_parser=date_parser,\n",
    "                 index_col=0) # peek into the csv: col 0 is 'timestamp'"
   ]
  },
  {
   "cell_type": "markdown",
   "metadata": {},
   "source": [
    "### Live Data "
   ]
  },
  {
   "cell_type": "markdown",
   "metadata": {},
   "source": [
    "This data is similarly formatted to the historical data, except live-updating every ~30 seconds (dependent on the physical bus transponders' reporting ability). You'll notice many of the values (stop IDs, trip IDs) fortunately use the same `GTFS` identifying information, so we can join without too much trouble (this is _not_ a given with open government data). We leave this as an exercise. The `VehicleMonitoring` endpoint ([link](http://bustime.mta.info/wiki/Developers/SIRIVehicleMonitoring)) is particularly useful.\n",
    "\n",
    "Here's some more code that will make your life easier - once you have an API key, fill that out along with the `MTA_API_BASE` constant and you should be able to query the API without too much extra code."
   ]
  },
  {
   "cell_type": "code",
   "execution_count": null,
   "metadata": {},
   "outputs": [],
   "source": [
    "def _flatten_dict(root_key, nested_dict, flattened_dict):\n",
    "    for key, value in nested_dict.iteritems():\n",
    "        next_key = root_key + \"_\" + key if root_key != \"\" else key\n",
    "        if isinstance(value, dict):\n",
    "            _flatten_dict(next_key, value, flattened_dict)\n",
    "        else:\n",
    "            flattened_dict[next_key] = value\n",
    "    return flattened_dict\n",
    "    \n",
    "#This is useful for the live MTA Data\n",
    "params = {\"key\": MTA_API_KEY, \"MaximumStopVisits\":2}\n",
    "def nyc_current():\n",
    "    resp = requests.get(MTA_API_BASE, params=params).json()\n",
    "    info = resp['Siri']['ServiceDelivery']['VehicleMonitoringDelivery'][0]['VehicleActivity']\n",
    "    return pd.DataFrame([_flatten_dict('', i, {}) for i in info])"
   ]
  },
  {
   "cell_type": "markdown",
   "metadata": {},
   "source": [
    "## Part 1: Initial Setup / Getting an App Live\n"
   ]
  },
  {
   "cell_type": "markdown",
   "metadata": {},
   "source": [
    "Your first step should be setting up a skeleton app with Flask and Bokeh. [This repository](https://github.com/thedataincubator/flask-demo) is a good place to start. \n",
    "\n",
    "One important note: we've found that the conda buildpack provided in that repository consumes lots of space during compilation (and runs up against Heroku space limitations quickly). We've had good luck with this [NumPy / SciPy buildpack](https://github.com/thenovices/heroku-buildpack-scipy). (*n.b.* Once you have NumPy, you have Pandas.) Using this buildpack, we were able to push the 80MB `manhattan.csv` file provided above as a static, low-fuss database that we load into Pandas during app start."
   ]
  },
  {
   "cell_type": "markdown",
   "metadata": {},
   "source": [
    "## Part 2: Plot Some Data [Python]"
   ]
  },
  {
   "cell_type": "markdown",
   "metadata": {},
   "source": [
    "Let's start our dashboard with a simple visualization: the number of unique buses on the road at any given time. \n",
    "- Download 4-5 days' worth of data from this [archive of live updates](http://data.mytransit.nyc/bus_time/) (or use our pre-filtered data set).\n",
    "- `vehicle_id` contains a number that uniquely identifies each vehicle on the road that's currently reporting information. You'll want to count this value to determine how many buses are on the road.\n",
    "- You'll want to sample counts at some fixed interval (e.g. every 15 minutes). The granularity is up to you. Our pre-filtered data set takes ~3 minute windows every 15 minutes.\n",
    "\n",
    "** Your visualization should**:\n",
    "1. Display a count of currently reporting vehicles at each time within a user-selected interval (eg. 2015-01-28 from 9AM EST to 12PM EST)\n",
    "2. Allow the user to select different days and intervals. \n",
    "3. Another interesting visualization might be a simple histogram of the distribution of sampled counts. What does this distribution look like? Following up with this histogram, can you create another visualization to explain the trends you're seeing in count frequency?\n",
    "\n",
    "**Making this production-ready**:\n",
    "If you do this miniproject \"from scratch\" (ie downloading and processing the data manually), you'll quickly find that you cannot deploy the entire data set to Heroku. You'll need to just provide the relevant, processed data for your visualization when you upload."
   ]
  },
  {
   "cell_type": "code",
   "execution_count": null,
   "metadata": {},
   "outputs": [],
   "source": [
    "counts_by_hour = \"http://a-b-c.herokuapp.com\"\n",
    "\n",
    "grader.score('viz__counts_by_hour', counts_by_hour)"
   ]
  },
  {
   "cell_type": "markdown",
   "metadata": {},
   "source": [
    "## Part 3: Integrating Live Data [Python]\n"
   ]
  },
  {
   "cell_type": "markdown",
   "metadata": {},
   "source": [
    "Now, add in the information from the live `VehicleMonitoring` endpoint. \n",
    "\n",
    "**Your visualization should** \n",
    "1. Display how many buses are currently on the road.\n",
    "2. Compare current bus counts with historical data - maybe download more days and aggregate counts (once you have the code to extract counts from one `.csv` file, you should be able to extract counts from any number of the `.csv` archive files. \n",
    "3. Consider adding a chart that groups by borough or route. A [box and whisker](http://www.datavizcatalogue.com/methods/box_plot.html) plot might be useful to help us understand the current vehicle count in the context of historical bus data."
   ]
  },
  {
   "cell_type": "code",
   "execution_count": null,
   "metadata": {},
   "outputs": [],
   "source": [
    "live_count_boxplot = \"http://a-b-c.herokuapp.com\"\n",
    "\n",
    "grader.score('viz__live_count_boxplot', live_count_boxplot)"
   ]
  },
  {
   "cell_type": "markdown",
   "metadata": {},
   "source": [
    "## Part 4: Map some data [JS, Python]\n"
   ]
  },
  {
   "cell_type": "markdown",
   "metadata": {},
   "source": [
    "Using the data set's geolocation information, let's make a heatmap of bus positions at a given time.\n",
    "\n",
    "You can do this in a fully web-based way using the following stack:\n",
    "\n",
    "**Frontend**\n",
    "- [Leaflet.js](http://leafletjs.com/)\n",
    "- [Leaflet.heat](https://github.com/Leaflet/Leaflet.heat)\n",
    "- [D3.js](https://d3js.org/)\n",
    "\n",
    "**Backend**\n",
    "- Pandas\n",
    "\n",
    "Your frontend code should use D3 to asynchronously query the server/load the location points for buses at a specified time. From there, pass those points into a Leaflet heatmap."
   ]
  },
  {
   "cell_type": "code",
   "execution_count": null,
   "metadata": {},
   "outputs": [],
   "source": [
    "map_static = \"http://a-b-c.herokuapp.com\"\n",
    "\n",
    "grader.score('viz__map_static', map_static)"
   ]
  },
  {
   "cell_type": "markdown",
   "metadata": {},
   "source": [
    "## Part 5: Animate the plot [JS, Python]\n"
   ]
  },
  {
   "cell_type": "markdown",
   "metadata": {},
   "source": [
    "Now, given the ability to look at the heatmap of any given time, let's suppose we want to visualize the ebb and flow of buses throughout a given day. Try animating the heatmap to develop something similar to this:\n",
    "![buses](http://i.imgur.com/DIid7p7.gif)"
   ]
  },
  {
   "cell_type": "code",
   "execution_count": null,
   "metadata": {},
   "outputs": [],
   "source": [
    "map_animated = \"http://a-b-c.herokuapp.com\"\n",
    "\n",
    "grader.score('viz__map_animated', map_animated)"
   ]
  },
  {
   "cell_type": "markdown",
   "metadata": {},
   "source": [
    "*Copyright &copy; 2019 The Data Incubator.  All rights reserved.*"
   ]
  }
 ],
 "metadata": {
  "kernelspec": {
   "display_name": "Python 3",
   "language": "python",
   "name": "python3"
  },
  "nbclean": true
 },
 "nbformat": 4,
 "nbformat_minor": 0
}
