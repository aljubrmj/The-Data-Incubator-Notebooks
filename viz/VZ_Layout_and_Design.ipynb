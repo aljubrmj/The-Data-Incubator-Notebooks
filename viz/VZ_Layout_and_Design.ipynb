{
 "cells": [
  {
   "cell_type": "code",
   "execution_count": null,
   "metadata": {},
   "outputs": [],
   "source": [
    "%matplotlib inline\n",
    "import matplotlib\n",
    "import seaborn as sns\n",
    "sns.set()\n",
    "matplotlib.rcParams['figure.dpi'] = 144"
   ]
  },
  {
   "cell_type": "code",
   "execution_count": null,
   "metadata": {},
   "outputs": [],
   "source": [
    "import numpy as np\n",
    "import matplotlib.pyplot as plt\n",
    "import pandas as pd\n",
    "import simplejson as json\n",
    "\n",
    "# get GOOG data\n",
    "with open('small_data/goog.json') as raw_f:\n",
    "    raw_data = raw_f.read()\n",
    "    json_data = json.loads(raw_data)\n",
    "\n",
    "goog = pd.DataFrame(json_data['data'], columns=json_data['column_names'])\n",
    "goog['Day'] = goog.index.values\n",
    "goog.set_index(pd.DatetimeIndex(goog['Date']), inplace=True)"
   ]
  },
  {
   "cell_type": "markdown",
   "metadata": {},
   "source": [
    "# Layout and Design\n",
    "\n",
    "<!-- requirement: small_data/fha_by_tract.csv -->\n",
    "<!-- requirement: small_data/goog.json -->\n",
    "<!-- requirement: small_data/cal_house.json.gz -->\n",
    "<!-- requirement: images/sample-charts/pie-vs-bar.png -->\n",
    "<!-- requirement: images/sample-charts/pie-vs-line.jpg -->\n",
    "<!-- requirement: images/sample-charts/minard_pie.png -->\n",
    "<!-- requirement: images/sample-charts/sparklines.png -->"
   ]
  },
  {
   "cell_type": "markdown",
   "metadata": {},
   "source": [
    "The design of a graphic can be a major source of distractors or obscure important data relationships. Let's examine same case studies and apply good design principles to see how they might be improved."
   ]
  },
  {
   "cell_type": "markdown",
   "metadata": {},
   "source": [
    "## Design Elements & Principles"
   ]
  },
  {
   "cell_type": "markdown",
   "metadata": {},
   "source": [
    "By considering the design elements of a figure, we can easily identify possible transformations of a graph that may make it more legible.\n",
    "\n",
    "- Axes: scale, limits, units\n",
    "- Marks: symbols for data representation\n",
    "- Labels: titles, axis labels, tick marks, grids, callouts, data labels, legend\n",
    "- Layout: alignment and positioning of axes, marks, and labels\n",
    "\n",
    "Many of these design elements are synonymous with elements of the [Grammar of Graphics which formed the basis of ggplot](https://github.com/rstudio/cheatsheets/blob/master/data-visualization-2.1.pdf) and has influenced [Plotly](https://en.wikipedia.org/wiki/Plotly), [Bokeh](https://bokeh.pydata.org/en/latest/), and [Vega](http://vega.github.io/) among other plotting libraries.\n",
    "\n",
    "Some additional useful principles identified by [Edward Tufte](https://en.wikipedia.org/wiki/Edward_Tufte) that extend beyond these design elements are the \"data-ink ratio\" and \"data density.\""
   ]
  },
  {
   "cell_type": "markdown",
   "metadata": {},
   "source": [
    "## Examples (mostly bad, sometimes good)\n"
   ]
  },
  {
   "cell_type": "markdown",
   "metadata": {},
   "source": [
    "It is often easy to learn to examine poor examples, since bad choices are often glaringly obvious. With that in mind, examine some visualizations from http://viz.wtf/.  Pay particular attention to the design elements of the figure and the visual cues it activates.\n",
    "\n",
    "Here are a few samples:\n",
    "1. http://viz.wtf/image/182223114674\n",
    "\n",
    "1. http://viz.wtf/image/161589799318\n",
    "\n",
    "1. http://viz.wtf/post/159271251475/pick-up-sticks-and-tiddlywinks\n",
    "\n",
    "1. http://viz.wtf/post/162284459410/circleception\n",
    "\n",
    "1. https://en.wikipedia.org/wiki/Charles_Joseph_Minard#/media/File:Minard.png"
   ]
  },
  {
   "cell_type": "markdown",
   "metadata": {},
   "source": [
    "## Axes (use them!)\n"
   ]
  },
  {
   "cell_type": "markdown",
   "metadata": {},
   "source": [
    "Axes form the coordinate system for our graph, meaning they are the basis for locating and comparing data points. With rare exceptions, all the data on the graph should share a common set of axes. We also want to choose limits and a scale for axes that will clearly display details in the data that we want to highlight. Generally we want to choose axes that make the data look neither sparse nor compressed."
   ]
  },
  {
   "cell_type": "markdown",
   "metadata": {},
   "source": [
    "### Avoid Pie Charts\n"
   ]
  },
  {
   "cell_type": "markdown",
   "metadata": {},
   "source": [
    "Pie charts essentially have no axes, making it extremely difficult to compare the data elements/proportions (technically they use a polar coordinate system, but polar coordinates are a poor choice for linear/aperiodic data).  A bar chart is almost always the right answer when representing proportions.\n",
    "\n",
    "<img src=\"images/sample-charts/pie-vs-bar.png\" alt=\"Pie versus Bar graph\" style=\"width:80%;\">\n",
    "\n",
    "Furthermore, since they have no axes, we have no ability to transform an axis to a different variable/unit or scale. For example, pie charts are a poor choice for showing trends in time.\n",
    "<img src=\"images/sample-charts/pie-vs-line.jpg\" alt=\"Pie versus Line Graph\" style=\"width:80%;\">\n",
    "\n",
    "The one place where pie charts excel is that they scale to small sizes very well. When showing one to three proportions in a small space, a pie chart may be the only good option.\n",
    "<img src=\"images/sample-charts/minard_pie.png\" alt=\"Pie Chart small multiple\" style=\"width:80%;\">"
   ]
  },
  {
   "cell_type": "markdown",
   "metadata": {},
   "source": [
    "### Choosing the right axes"
   ]
  },
  {
   "cell_type": "markdown",
   "metadata": {},
   "source": [
    "Choosing suitable axes is often a matter of informed experimentation and knowledge of your intended audience. For example, highly skewed data may appear sparse on a linear axis but is more evenly distributed on a log axis. "
   ]
  },
  {
   "cell_type": "code",
   "execution_count": null,
   "metadata": {},
   "outputs": [],
   "source": [
    "names = [\"State_Code\", \"County_Code\", \"Census_Tract_Number\", \"NUM_ALL\",\n",
    "        \"NUM_FHA\", \"PCT_NUM_FHA\", \"AMT_ALL\", \"AMT_FHA\", \"PCT_AMT_FHA\"]\n",
    "# Loading a CSV file, without a header (so we have to provide field names)\n",
    "df = pd.read_csv('small_data/fha_by_tract.csv', names=names)\n",
    "\n",
    "plt.figure(figsize=[6, 5])\n",
    "plt.subplot(311)\n",
    "df['AMT_ALL'].hist(bins=50)\n",
    "plt.xticks([0, 4*10**5, 8*10**5, 12*10**5, 16*10**5])\n",
    "plt.subplot(312)\n",
    "df['AMT_ALL'].hist(bins=1000)\n",
    "plt.xlim([0, 10**4])\n",
    "plt.subplot(313)\n",
    "df['AMT_ALL'].apply(np.log10).hist(bins=50)\n",
    "\n",
    "plt.tight_layout()"
   ]
  },
  {
   "cell_type": "markdown",
   "metadata": {},
   "source": [
    "Nonetheless, this may be a poor choice of axis if your audience has a difficulty time interpreting logarithmic scales or is unfamiliar with how relationships between variables may appear on a linear-log or log-log scale."
   ]
  },
  {
   "cell_type": "code",
   "execution_count": null,
   "metadata": {},
   "outputs": [],
   "source": [
    "x = np.linspace(0, 3, 100)\n",
    "\n",
    "plt.figure(figsize=[8, 3])\n",
    "for subplot in range(3):\n",
    "    plt.subplot(131 + subplot)\n",
    "    plt.plot(x, x, '.', label='linear')\n",
    "    plt.plot(x, x**2, '.', label='power')\n",
    "    plt.plot(x, np.exp(x), '.', label='exponential')\n",
    "    if subplot > 0:\n",
    "        plt.yscale('log')\n",
    "    if subplot > 1:\n",
    "        plt.xscale('log')\n",
    "    plt.legend()\n",
    "\n",
    "plt.tight_layout()"
   ]
  },
  {
   "cell_type": "markdown",
   "metadata": {},
   "source": [
    "## Choosing the right mark"
   ]
  },
  {
   "cell_type": "markdown",
   "metadata": {},
   "source": [
    "Most (2D) plots will use one of a few marks: bars, scattered points/symbols, lines, or areas. In most cases it should be fairly obvious what to use, but sometimes we can leverage the implications of a mark to imply relationships that might otherwise be difficult to represent.\n",
    "\n",
    "Lines imply continuity through time or space. They are useful for representing trends over time or distributions over a variable. "
   ]
  },
  {
   "cell_type": "code",
   "execution_count": null,
   "metadata": {},
   "outputs": [],
   "source": [
    "plt.figure(figsize=[6,2])\n",
    "sns.distplot(df['AMT_ALL'].apply(np.log))"
   ]
  },
  {
   "cell_type": "code",
   "execution_count": null,
   "metadata": {},
   "outputs": [],
   "source": [
    "import gzip\n",
    "import json\n",
    "from scipy.stats import linregress\n",
    "\n",
    "cali_data = json.load(gzip.open('small_data/cal_house.json.gz'))\n",
    "X = pd.DataFrame(cali_data['data'], columns=cali_data['feature_names'])\n",
    "y = cali_data['target']\n",
    "\n",
    "slope, intercept, _, _, _ = linregress(X['MedInc'], y)\n",
    "\n",
    "plt.figure(figsize=[6, 2])\n",
    "plt.plot(X['MedInc'], y, 'b.', alpha=.2)\n",
    "plt.plot(X['MedInc'].sort_values(), slope * X['MedInc'].sort_values() + intercept, 'k--')\n",
    "plt.ylim([0, 5.1])\n",
    "plt.xlim([0, 10])"
   ]
  },
  {
   "cell_type": "markdown",
   "metadata": {},
   "source": [
    "This implied continuity can be leveraged even if the continuous variable is not in the axes of the plot.\n",
    "\n",
    "<img src=\"images/sample-charts/driving.jpg\" alt=\"Gas mileage graph\" style=\"width:80%;\">"
   ]
  },
  {
   "cell_type": "markdown",
   "metadata": {},
   "source": [
    "## Data-Ink Ratio"
   ]
  },
  {
   "cell_type": "markdown",
   "metadata": {},
   "source": [
    "When creating labels (including legends) and organizing the layout of the graphic, we should aim to keep the fluff to a minimum and focus attention on the data. One useful way to think about this focus is the \"data-ink ratio.\"\n",
    "\n",
    "<img src=\"http://www.randalolson.com/wp-content/uploads/data-ink.gif\" alt=\"data-ink\" class=\"aligncenter size-full wp-image-4883\">\n",
    "\n",
    "Throughout this notebook we've been using Seaborn's visual defaults, which include a pale blue background with white gridlines. This is a nice way to provide gridlines without being distracting, but we should still practice questioning the visual defaults of our plotting software and looking for opportunities to minimize ink spent on graphical elements other than data.\n",
    "\n",
    "A corollary of maintaining high data-ink ratio is that graphics should have high \"data density.\" One way to improve data density is to simplify and shrink visual elements. Since often we are looking for gross trends or patterns in the data, we may be able to sacrifice a great amount of detail without sacrificing much meaning, freeing up visual space for more data. We'll see this applied in the layout of [small multiples](#Small-Multiples).\n",
    "\n",
    "Finally, don't obscure data with legends whenever possible. Place legends outside of the axes if necessary."
   ]
  },
  {
   "cell_type": "code",
   "execution_count": null,
   "metadata": {},
   "outputs": [],
   "source": [
    "x = np.linspace(0, 3, 100)\n",
    "\n",
    "plt.figure(figsize=[8, 4])\n",
    "plt.subplot(121)\n",
    "plt.plot(x, x, '.', label='linear')\n",
    "plt.plot(x, x**2, '.', label='power')\n",
    "plt.plot(x, np.exp(x), '.', label='exponential')\n",
    "plt.legend(loc=3)\n",
    "plt.title('Horrible legend placement')\n",
    "\n",
    "ax = plt.subplot(122)\n",
    "plt.plot(x, x, '.', label='linear')\n",
    "plt.plot(x, x**2, '.', label='power')\n",
    "plt.plot(x, np.exp(x), '.', label='exponential')\n",
    "# Shrink current axis's height by 10% on the bottom\n",
    "box = ax.get_position()\n",
    "ax.set_position([box.x0, box.y0 + box.height * 0.1,\n",
    "                 box.width, box.height * 0.9])\n",
    "\n",
    "# Put a legend below current axis\n",
    "ax.legend(loc='upper center', bbox_to_anchor=(0.5, -0.1),\n",
    "          fancybox=True, shadow=True, ncol=5)\n",
    "plt.title('Legend outside axes')\n",
    "\n",
    "plt.tight_layout()"
   ]
  },
  {
   "cell_type": "markdown",
   "metadata": {},
   "source": [
    "## Dealing with multiple scales\n"
   ]
  },
  {
   "cell_type": "markdown",
   "metadata": {},
   "source": [
    "Often you might want to display several different values on the same plot.  For example, here we wish to display both closing price and volume from a series of Google stock data.  We can leverage a combination of our design elements to create several solutions\n",
    "\n",
    "First, we start by creating two separate graphs.  This helps us read the values on both series easily, but it's a bit difficult to compare the two series at a glance."
   ]
  },
  {
   "cell_type": "code",
   "execution_count": null,
   "metadata": {},
   "outputs": [],
   "source": [
    "goog_recent = goog[-100:]\n",
    "\n",
    "fig, axes = plt.subplots(2, 1)\n",
    "goog_recent.plot(kind='scatter', x='Day', y='Close', ax=axes[0])\n",
    "goog_recent.plot(kind='scatter', x='Day', y='Volume', ax=axes[1])"
   ]
  },
  {
   "cell_type": "markdown",
   "metadata": {},
   "source": [
    "We could also combine them into a single graph, but if both series use the same kind of mark, this can also be confusing."
   ]
  },
  {
   "cell_type": "code",
   "execution_count": null,
   "metadata": {},
   "outputs": [],
   "source": [
    "goog_recent = goog[-100:]\n",
    "\n",
    "fig, ax1 = plt.subplots(figsize=[8, 4])\n",
    "\n",
    "ln1 = ax1.plot(goog_recent['Day'], goog_recent['Close'], 'k', label='closing price')\n",
    "ax1.set_ylabel('Closing price')\n",
    "ax1.grid(False)\n",
    "\n",
    "ax2 = ax1.twinx()\n",
    "ln2 = ax2.plot(goog_recent['Day'], goog_recent['Volume'], 'r--', alpha=.3, label='volume')\n",
    "ax2.set_ylabel('Volume')\n",
    "ax2.grid(False)\n",
    "\n",
    "lines = ln1 + ln2\n",
    "labels = [line.get_label() for line in lines]\n",
    "plt.legend(lines, labels, loc=3)"
   ]
  },
  {
   "cell_type": "code",
   "execution_count": null,
   "metadata": {},
   "outputs": [],
   "source": [
    "goog_recent = goog[-100:]\n",
    "\n",
    "fig, ax1 = plt.subplots(figsize=[8, 4])\n",
    "\n",
    "ln1 = ax1.plot(goog_recent['Day'], goog_recent['Close'], 'k', label='closing price')\n",
    "ax1.set_ylabel('Closing price')\n",
    "ax1.grid(False)\n",
    "\n",
    "ax2 = ax1.twinx()\n",
    "ln2 = ax2.bar(goog_recent['Day'], goog_recent['Volume'], color='r', alpha=.3, label='volume')\n",
    "ax2.set_ylabel('Volume')\n",
    "ax2.grid(False)\n",
    "\n",
    "lines = ln1 + [ln2]\n",
    "labels = [line.get_label() for line in lines]\n",
    "plt.legend(lines, labels, loc=3)"
   ]
  },
  {
   "cell_type": "markdown",
   "metadata": {},
   "source": [
    "Size is the next-best cue after position, so lets try that.  It's easier to see everything at a glance, but the varying sizes are a bit distracting and make it harder to judge the position (both in time and price). Furthermore, it is difficult to represent the scale for volume."
   ]
  },
  {
   "cell_type": "code",
   "execution_count": null,
   "metadata": {},
   "outputs": [],
   "source": [
    "goog_recent.plot(kind='scatter', x='Day', y='Close', s=goog_recent['Volume']/50000)"
   ]
  },
  {
   "cell_type": "markdown",
   "metadata": {},
   "source": [
    "We can use intensity or color.  These plots is easier to read, although it's hard to see small variations in the volume, and we place a heavy emphasis on high volume days (which is maybe what we want to do!)."
   ]
  },
  {
   "cell_type": "code",
   "execution_count": null,
   "metadata": {},
   "outputs": [],
   "source": [
    "fig, axes = plt.subplots(2, 1, figsize=[8, 4])\n",
    "\n",
    "goog_recent.plot(kind='scatter', x='Day', y='Close', c=goog_recent['Volume'], \n",
    "                 cmap=plt.cm.binary, ax=axes[0]);\n",
    "goog_recent.plot(kind='scatter', x='Day', y='Close', c=goog_recent['Volume'], \n",
    "                 cmap=plt.cm.viridis, ax=axes[1]);"
   ]
  },
  {
   "cell_type": "markdown",
   "metadata": {},
   "source": [
    "But do we actually need to see small variations in the volume?  The above plot seems to show that volume was larger than usual in that recent growth.  Instead of coloring by the volume directly, we'll color based on whether the volume is greater or less than average."
   ]
  },
  {
   "cell_type": "code",
   "execution_count": null,
   "metadata": {},
   "outputs": [],
   "source": [
    "large_volume = goog_recent['Volume'] > goog_recent['Volume'].mean()\n",
    "plt.plot(goog_recent['Day'][large_volume], goog_recent['Close'][large_volume],\n",
    "         '.', label='Volume > Average', ms=10, mfc=sns.color_palette()[4])\n",
    "plt.plot(goog_recent['Day'][~large_volume], goog_recent['Close'][~large_volume],\n",
    "         '.', label='Volume < Average', ms=10, mfc=sns.color_palette()[0])\n",
    "plt.legend()\n",
    "plt.xlabel('Day')\n",
    "plt.ylabel('Close');"
   ]
  },
  {
   "cell_type": "markdown",
   "metadata": {},
   "source": [
    "Sure enough, it was.  Sometimes it can be better for your story to reduce the amount of information on a plot.\n"
   ]
  },
  {
   "cell_type": "markdown",
   "metadata": {},
   "source": [
    "## Small Multiples"
   ]
  },
  {
   "cell_type": "markdown",
   "metadata": {},
   "source": [
    "Sometimes we want to view many data series at once. While these may clutter a single graph or may cover very different ranges on the axes, as long as the scale and units of the axes remain the same, it may be useful to create many small figures to be able to detect gross trends among many series. This is the basis for Tufte's [\"sparklines\"](https://en.wikipedia.org/wiki/Sparkline) that are commonly used for represent stock price data.\n",
    "\n",
    "![sparklines](images/sample-charts/sparklines.png)\n",
    "\n",
    "This concept of small multiples can even be leverage within the same graph to create new types of plots. For example, a [violin plot](https://seaborn.pydata.org/generated/seaborn.violinplot.html) is essentially applying the principle of small multiples to histograms."
   ]
  },
  {
   "cell_type": "code",
   "execution_count": null,
   "metadata": {},
   "outputs": [],
   "source": [
    "tips = sns.load_dataset(\"tips\")\n",
    "\n",
    "plt.figure(figsize=[8, 6])\n",
    "plt.subplot(211)\n",
    "for day in tips['day'].unique():\n",
    "    sns.distplot(tips[tips['day'] == day]['tip'])\n",
    "    \n",
    "plt.subplot(212)\n",
    "sns.violinplot(x=\"day\", y=\"total_bill\", data=tips)\n",
    "\n",
    "plt.tight_layout()"
   ]
  },
  {
   "cell_type": "markdown",
   "metadata": {},
   "source": [
    "*Copyright &copy; 2019 The Data Incubator.  All rights reserved.*"
   ]
  }
 ],
 "metadata": {
  "kernelspec": {
   "display_name": "Python 3",
   "language": "python",
   "name": "python3"
  },
  "nbclean": true
 },
 "nbformat": 4,
 "nbformat_minor": 0
}
