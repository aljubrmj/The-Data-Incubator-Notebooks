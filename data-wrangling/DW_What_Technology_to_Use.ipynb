{
 "cells": [
  {
   "cell_type": "code",
   "execution_count": null,
   "metadata": {},
   "outputs": [],
   "source": [
    "%matplotlib inline\n",
    "import matplotlib\n",
    "import seaborn as sns\n",
    "sns.set()\n",
    "matplotlib.rcParams['figure.dpi'] = 144"
   ]
  },
  {
   "cell_type": "markdown",
   "metadata": {},
   "source": [
    "# Overview of Scraping and Munging Technologies"
   ]
  },
  {
   "cell_type": "markdown",
   "metadata": {},
   "source": [
    "### Learning goals for this section\n"
   ]
  },
  {
   "cell_type": "markdown",
   "metadata": {},
   "source": [
    "Here's a quick summary of the things you should learn in module 1, as well as some supplementary \"good-to-know\" items.\n",
    "\n",
    "\n",
    "<table style=\"border-collapse:collapse;\">\n",
    "    <tr>\n",
    "    <th>Concept</th>\n",
    "    <th>Specialized Language</th>\n",
    "    <th>Tool</th>\n",
    "    </tr>\n",
    "    \n",
    "    <tr class=\"blank\"><td colspan=\"3\"></td></tr>\n",
    "    \n",
    "    <tr>\n",
    "    <td class=\"concept\">distributed version control</td>\n",
    "    <td>git commands</td>\n",
    "    <td>`git`</td>\n",
    "    </tr>\n",
    "    \n",
    "    \n",
    "    <tr class=\"blank\"><td colspan=\"3\"></td></tr>\n",
    "        \n",
    "    <tr>\n",
    "    <td class=\"concept\">strings</td>\n",
    "    <td>regular expressions</td>\n",
    "    <td>`import re`</td>\n",
    "    </tr>\n",
    "    \n",
    "    <tr class=\"blank\"><td colspan=\"3\"></td></tr>\n",
    "    \n",
    "    <tr>\n",
    "    <td rowspan=\"3\" class=\"concept\">relational database</td>\n",
    "    <td rowspan=\"3\">SQL</td>\n",
    "    <td>Postgres</td>\n",
    "    </tr>\n",
    "    <tr>\n",
    "    <td>`import psycopg2`</td>\n",
    "    </tr>\n",
    "    <tr>\n",
    "    <td>`import sqlalchemy`</td>\n",
    "    </tr>\n",
    "    \n",
    "    <tr class=\"blank\"><td colspan=\"3\"></td></tr>\n",
    "    \n",
    "    <tr>\n",
    "    <td rowspan=\"3\" class=\"concept\">nested key-value data model</td>\n",
    "    <td rowspan=\"3\">JSON</td>\n",
    "    <td>Mongo</td>\n",
    "    </tr>\n",
    "    <tr>\n",
    "    <td>Python dictionaries / named tuples </td>\n",
    "    </tr>\n",
    "    <tr>\n",
    "    <td>`import json`</td>\n",
    "    </tr>\n",
    "    \n",
    "    <tr class=\"blank\"><td colspan=\"3\"></td></tr>\n",
    "    \n",
    "    <tr>\n",
    "    <td rowspan=\"2\" class=\"concept\">HTML parse tree/DOM</td>\n",
    "    <td>CSS selectors</td>\n",
    "    <td rowspan=\"2\">`import BeautifulSoup`</td>\n",
    "    </tr>\n",
    "    <tr>\n",
    "    <td>by-hand tree traversal</td>\n",
    "    </tr>\n",
    "    \n",
    "    <tr class=\"blank\"><td colspan=\"3\"></td></tr>\n",
    "    \n",
    "    <tr>\n",
    "    <td class=\"concept\">DataFrames</td>\n",
    "    <td></td>\n",
    "    <td>`import pandas`</td>\n",
    "    </tr>\n",
    "    \n",
    "    <tr class=\"blank\"><td colspan=\"3\"></td></tr>\n",
    "    \n",
    "    <tr>\n",
    "    <td rowspan=\"2\" class=\"concept\">dependency management / analysis pipeline</td>\n",
    "    <td>make syntax</td>\n",
    "    <td>the `make` command</td>\n",
    "    </tr>\n",
    "    <tr>\n",
    "    <td></td>\n",
    "    <td>DIY dependency checks in Python / Bash / etc.</td>\n",
    "    </tr>\n",
    "    \n",
    "    <tr class=\"blank\"><td colspan=\"3\"></td></tr>\n",
    "    \n",
    "    <tr>\n",
    "    <td rowspan=\"2\" class=\"concept\">visualization</td>\n",
    "    <td>pseudo-MATLAB syntax</td>\n",
    "    <td>`import matplotlib, matplotlib.pyplot`</td>\n",
    "    </tr>\n",
    "    <tr>\n",
    "    <td>JavaScript-based</td>\n",
    "    <td>D3, NVD3, `import nvd3`</td>\n",
    "    </tr>\n",
    "</table>"
   ]
  },
  {
   "cell_type": "markdown",
   "metadata": {},
   "source": [
    "## Concepts, languages, and tools\n"
   ]
  },
  {
   "cell_type": "markdown",
   "metadata": {},
   "source": [
    "  - A **concept** is an idea that you have to come to terms with.  It can be deep and hard to learn.  These call for lecturing. <small>(Some of the examples above are more legitimate than others; c.f. \"string\" vs \"relational database.\")</small>\n",
    "  - A **specialized language** is exactly what it sounds like: a more compact notation for working in some domain or with some concept.  It's not so deep but can also be hard to learn.  We learn these through lecture and \"immersion.\"\n",
    "  - A **tool** is something that we use to do something.  It's usually neither deep nor particularly hard to learn (unless, for example, it has its own language!).  The important thing here is to know what's available, know any gotchas, and to practice -- so that's what we'll do.\n",
    "  \n",
    "The relationship between these three things is many-to-many: the same concept can admit many languages and a language can work with several concepts, etc.  But we're simplifying things here, and pretending that it is many-to-one in one direction."
   ]
  },
  {
   "cell_type": "markdown",
   "metadata": {},
   "source": [
    "## Concrete tasks in Python\n"
   ]
  },
  {
   "cell_type": "markdown",
   "metadata": {},
   "source": [
    "Instead of what-you-learn there's also why-you-learn, i.e. what are the tasks.  From this viewpoint we're focusing on three key themes:\n"
   ]
  },
  {
   "cell_type": "markdown",
   "metadata": {},
   "source": [
    "### Basic tasks in Python:"
   ]
  },
  {
   "cell_type": "markdown",
   "metadata": {},
   "source": [
    "  - Cleaning / munging data: aka **`Perl`**-like in Python\n",
    "  - Basic graphing and numerical operations: aka **`MATLAB`**-like in Python\n",
    "  - Basic data analysis: aka **`R`**-like in Python\n",
    "\n",
    "     "
   ]
  },
  {
   "cell_type": "markdown",
   "metadata": {},
   "source": [
    "### Getting data in and out of Python:\n"
   ]
  },
  {
   "cell_type": "markdown",
   "metadata": {},
   "source": [
    "  - Importing and exporting `.csv` / `.xls` / etc. files\n",
    "  - Consuming APIs\n",
    "  - Web scraping\n",
    "    "
   ]
  },
  {
   "cell_type": "markdown",
   "metadata": {},
   "source": [
    "### Storing data:"
   ]
  },
  {
   "cell_type": "markdown",
   "metadata": {},
   "source": [
    "  - SQL\n",
    "  - Python <-> SQL\n",
    "  - ORM (Object Relational Mapping) for Python\n",
    "  - A few words on NoSQL\n"
   ]
  },
  {
   "cell_type": "markdown",
   "metadata": {},
   "source": [
    "## Python library cheat sheet\n"
   ]
  },
  {
   "cell_type": "markdown",
   "metadata": {},
   "source": [
    "We'll see how to use these tools in greater depth later.  But with the concepts and language down they're pretty easy.  Here's a quick reference table for that point:\n",
    "\n",
    "**Downloading things:** `urllib`\n",
    "```python\n",
    "from urllib.request import urlopen\n",
    "page = urlopen(\"http://www.thedataincubator.com/\")\n",
    "print(page)\n",
    "```\n",
    "\n",
    "**Parsing through HTML:** `BeautifulSoup`\n",
    "```python\n",
    "from bs4 import BeautifulSoup\n",
    "soup = BeautifulSoup( urlopen(\"http://www.thedataincubator.com/\") )\n",
    "print(soup.select(\"section#faq div#panel-group div#panel-default\")[3].select('strong'))\n",
    "```\n",
    "\n",
    "**Higher-level web requests:** `requests`\n",
    "```python\n",
    "import requests\n",
    "params = { 'format':'json', 'q':'1600 Penn. Ave' } \n",
    "r = requests.get('http://nominatim.openstreetmap.org/search', params=params )\n",
    "print(r.json())\n",
    "```\n",
    "\n",
    "**\"Tidying up\" broken HTML:** `tidylib`\n",
    "```python\n",
    "from tidylib import tidy_document\n",
    "tidy_page, errors = tidy_document( urlopen(\"my_bad_code.html\").read() )\n",
    "```\n",
    "\n",
    "**Reading (and writing, a bit) Excel files:** `xlrd`\n",
    "```python\n",
    "import xlrd\n",
    "url=\"http://www.census.gov/.../List1.xls\"\n",
    "wb = xlrd.open_workbook( file_contents = urlopen(url).read() )\n",
    "sh1 = wb.sheet_by_index(0)\n",
    "for in in range(sh1.nrows):\n",
    "    print(sh1.row_values(i))\n",
    "```\n",
    "\n",
    "**Reading (and writing) CSV:** `csv`\n",
    "```python\n",
    "import csv\n",
    "url=\"https://www.census.gov/..../NP2012_D1.csv\"\n",
    "reader = csv.reader( urlopen(url) )\n",
    "for r in reader:\n",
    "    print(r)\n",
    "```\n",
    "\n",
    "**Reading (and writing) JSON:** `json`\n",
    "```python\n",
    "import json\n",
    "url=\"http://data.nasa.gov/...?great-images-in-nasa\"\n",
    "response = json.loads( urlopen(url).read() )\n",
    "print(response.keys(), response['post'])\n",
    "```\n",
    "\n",
    "**Efficient numerical code:** `numpy`\n",
    "```python\n",
    "import numpy as np\n",
    "x = np.arange( -1000, 1000, 0.1 )\n",
    "y = np.sqrt( 1 - np.sin(x) )\n",
    "print(dot( x, y ))\n",
    "```\n",
    "\n",
    "**Graphing, plotting, visualization:** `matplotlib`\n",
    "```python\n",
    "# with x, y as above\n",
    "import matplotlib.pyplot as plt\n",
    "plt.plot( x, y )\n",
    "```\n",
    "\n",
    "**Data analysis:** `pandas`\n",
    "```python\n",
    "import pandas as pd\n",
    "url = \"https://www.census.gov/..../NP2012_D1.csv\"\n",
    "df = pd.read_csv( url )\n",
    "print(df.columns, df.dtypes)\n",
    "df.TOTAL_POP[df.ORIGIN == 0][df.RACE == 0][df.SEX == 0].plot()\n",
    "```\n",
    "\n",
    "**Interfacing Python with Postgres (via raw SQL):** `psycopg2`\n",
    "```python\n",
    "import psycopg2\n",
    "conn = psycopg2.connect(\"dbname='mydb' user='preygel' host='localhost' password='secret'\")\n",
    "cur = conn.cursor()\n",
    "\n",
    "cur.execute( \"SELECT * FROM clients WHERE zipcode=(?) AND gender=(?)\", ['10012', 'M'] )\n",
    "rows = cur.fetchall()\n",
    "for row in rows:\n",
    "    print(row)\n",
    "    \n",
    "cur.execute( \"INSERT INTO clients (name, zipcode, gender) VALUES (?, ?, ?)\", ['Toly', '94117', 'M'] )\n",
    "conn.commit()\n",
    "```\n",
    "\n",
    "**Interfacing Python with an SQL database (via ORM):** `sqlalchemy`\n",
    "```python\n",
    "from sqlalchemy import Column, Integer, String\n",
    "from sqlalchemy.orm import sessionmaker\n",
    "\n",
    "Session = sessionmaker(bind=engine)\n",
    "session = Session()\n",
    "\n",
    "class User(Base):\n",
    "    __tablename__ = 'users'\n",
    "\n",
    "    id = Column(Integer, primary_key=True)\n",
    "    name = Column(String)\n",
    "    fullname = Column(String)\n",
    "    password = Column(String)\n",
    "\n",
    "ed_user = User(name='ed', fullname='Ed Jones', password='edspassword')\n",
    "ed_user.fullname  # Ed Jones\n",
    "session.add(ed_user)  # Store in DB\n",
    "\n",
    "for instance in session.query(User).order_by(User.id): \n",
    "\tprint(instance.name, instance.fullname)\n",
    "```"
   ]
  },
  {
   "cell_type": "code",
   "execution_count": null,
   "metadata": {},
   "outputs": [],
   "source": []
  },
  {
   "cell_type": "markdown",
   "metadata": {},
   "source": [
    "*Copyright &copy; 2015 The Data Incubator.  All rights reserved.*"
   ]
  }
 ],
 "metadata": {
  "kernelspec": {
   "display_name": "Python 3",
   "language": "python",
   "name": "python3"
  },
  "nbclean": true
 },
 "nbformat": 4,
 "nbformat_minor": 0
}
