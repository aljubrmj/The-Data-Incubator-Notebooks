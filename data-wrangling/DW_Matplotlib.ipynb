{
 "cells": [
  {
   "cell_type": "code",
   "execution_count": null,
   "metadata": {},
   "outputs": [],
   "source": [
    "%matplotlib inline\n",
    "import matplotlib\n",
    "import seaborn as sns\n",
    "sns.set()\n",
    "matplotlib.rcParams['figure.dpi'] = 144"
   ]
  },
  {
   "cell_type": "code",
   "execution_count": null,
   "metadata": {},
   "outputs": [],
   "source": [
    "import matplotlib.pyplot as plt\n",
    "import numpy as np"
   ]
  },
  {
   "cell_type": "markdown",
   "metadata": {},
   "source": [
    "# Matplotlib\n",
    "\n",
    "<!-- requirement: small_data/flights14.csv -->"
   ]
  },
  {
   "cell_type": "markdown",
   "metadata": {},
   "source": [
    "`Matplotlib` lets you plot things, and `matplotlib.pyplot` is a layer on top of it to give it a `MATLAB`-like syntax. You can make illustrations ranging from simple line plots to complicated combinations of different plotting primitives.  `Matplotlib` is great for static academic illustrations.  For more interactive plots check out a package like `Bokeh`.\n",
    "\n",
    "`Matplotlib` operates with a wide set of default settings for the way things should look (for example, the width of a plotted line), but is also extremely customizable by way of optional arguments and keyword arguments to most of the plotting functions.  As we work through examples, keep an eye out for these arguments.\n",
    "\n",
    "Let us start by looking at a simple line plot."
   ]
  },
  {
   "cell_type": "markdown",
   "metadata": {},
   "source": [
    "### Line plot\n",
    "Matplotlib can do basic X-Y plots if you give it the `x` and `y` data of equal length.  Here is a plot of a few sample paths of Brownian Motion.\n",
    "\n",
    "Notice that calling `plt.plot` multiple results in multiple lines on the same figure.  Call `plt.figure` to create a new figure."
   ]
  },
  {
   "cell_type": "code",
   "execution_count": null,
   "metadata": {},
   "outputs": [],
   "source": [
    "# Line plot example\n",
    "xs = np.random.randn(5, 100)\n",
    "\n",
    "plt.title(\"A few paths of Brownian Motion\")\n",
    "bms = xs.cumsum(1)\n",
    "for bm in bms:\n",
    "    plt.plot(bm) # [0,...,N-1] is used for x when only y data is specified "
   ]
  },
  {
   "cell_type": "markdown",
   "metadata": {},
   "source": [
    "Cool example!  But we should really always have labels on our plots, so let's add a label for the x and y axis.  We can do this with the `xlabel` and `ylabel` commands.  "
   ]
  },
  {
   "cell_type": "code",
   "execution_count": null,
   "metadata": {},
   "outputs": [],
   "source": [
    "# Line plot example\n",
    "xs = np.random.randn(5, 100)\n",
    "\n",
    "plt.title(\"A few paths of Brownian Motion\")\n",
    "bms = xs.cumsum(1)\n",
    "for bm in bms:\n",
    "    plt.plot(bm)\n",
    "plt.xlabel('step')\n",
    "plt.ylabel('displacement');"
   ]
  },
  {
   "cell_type": "markdown",
   "metadata": {},
   "source": [
    "Our plot is getting much nicer, but we often want to add labels to the individual lines and gather these into a legend.  The easiest way to do this is to provide a `label` argument to each `plt.plot` command and then use the `plt.legend()` function which will find all the labels for the plotted lines and format this into a legend."
   ]
  },
  {
   "cell_type": "code",
   "execution_count": null,
   "metadata": {},
   "outputs": [],
   "source": [
    "# Line plot example\n",
    "xs = np.random.randn(5, 100)\n",
    "\n",
    "plt.title(\"A few paths of Brownian Motion\")\n",
    "bms = xs.cumsum(1)\n",
    "for i, bm in enumerate(bms):\n",
    "    plt.plot(bm, label='path {}'.format(i))\n",
    "plt.xlabel('step')\n",
    "plt.ylabel('displacement')\n",
    "plt.legend(loc='best')"
   ]
  },
  {
   "cell_type": "markdown",
   "metadata": {},
   "source": [
    "### Scatter plot\n",
    "`Matplotlib` can generate 2D scatter plot data. Just like the `plt.plot` function, the `plt.scatter` function takes in two arrays (or lists) of equal length and plots them as `x,y` coordinates.  We can also pass in a few other parameters, namely `c` which is an array to control the color of each point and `s` an array to control the size of each point."
   ]
  },
  {
   "cell_type": "code",
   "execution_count": null,
   "metadata": {},
   "outputs": [],
   "source": [
    "# Generate randomly sampled dots within the unit circle, with gamma-distributed radius\n",
    "N=250\n",
    "A=20\n",
    "xo,yo = np.random.uniform(low=-1, high=1, size=N), np.random.uniform(low=-1, high=1, size=N)\n",
    "so = A*np.random.gamma(4.5, 1.0, size=N)\n",
    "\n",
    "x = xo[xo**2+yo**2 < 1]\n",
    "y = yo[xo**2+yo**2 < 1]\n",
    "s = so[xo**2+yo**2 < 1]\n",
    "\n",
    "# Scatter plot, with _s_izes and translucent circles\n",
    "plt.scatter(x, y, s=s, alpha=0.5)"
   ]
  },
  {
   "cell_type": "markdown",
   "metadata": {},
   "source": [
    "### Histograms\n",
    "`Matplotlib` can also plot histograms from raw count data.  They are a useful way of looking at distributions of data.  A `histogram` can be made with the `plt.hist` function.  This function returns three things, the histogram values, the edges of the bins and the patches or list of patches used for the histogram.\n",
    "\n",
    "Let's try this with a `gamma` distribution."
   ]
  },
  {
   "cell_type": "code",
   "execution_count": null,
   "metadata": {},
   "outputs": [],
   "source": [
    "data = np.random.gamma(4.5, 1.0, 10000)\n",
    "n, bins, patches = plt.hist(data, bins=50, alpha=.5)\n",
    "plt.title(\"Gamma(4.5, 1.0) distribution, 10000 samples\")\n",
    "plt.xlabel(\"Value\")\n",
    "plt.ylabel(\"Occurances per 10,000\");"
   ]
  },
  {
   "cell_type": "markdown",
   "metadata": {},
   "source": [
    "Now we can look at the counts and the bins"
   ]
  },
  {
   "cell_type": "code",
   "execution_count": null,
   "metadata": {},
   "outputs": [],
   "source": [
    "n[:5], bins[:5]"
   ]
  },
  {
   "cell_type": "markdown",
   "metadata": {},
   "source": [
    "One reason we might want to know the bins is to plot two histograms with the same bins"
   ]
  },
  {
   "cell_type": "code",
   "execution_count": null,
   "metadata": {},
   "outputs": [],
   "source": [
    "bins = np.linspace(0, 20, 50)\n",
    "for gamma in [3, 4.5]:\n",
    "    data = np.random.gamma(gamma, 1.0, 10000)\n",
    "    n, bins, patches = plt.hist(data, bins=bins, \n",
    "                                alpha=.5, \n",
    "                                density=True,\n",
    "                                label=\"Gamma({}, 1.0)\".format(gamma))\n",
    "plt.title(\"Gamma distribution, 10000 samples\")\n",
    "plt.legend(loc='best')\n",
    "plt.xlabel(\"Value\")\n",
    "plt.ylabel(\"Occurances per 10,000\");"
   ]
  },
  {
   "cell_type": "markdown",
   "metadata": {},
   "source": [
    "You might have noticed we have been adjusting the images opacity through use of the `alpha` keyword argument, this is because histograms tend to look better when they are not opaque and this is particularly true when we have multiple histograms on the same plot."
   ]
  },
  {
   "cell_type": "markdown",
   "metadata": {},
   "source": [
    "### Images\n",
    "`Matplotlib` can plot arrays as 2D images, using a color map that you specify.  Conventionally, we represent images with the origin placed at the upper left instead of lower left corner, so watch out! "
   ]
  },
  {
   "cell_type": "code",
   "execution_count": null,
   "metadata": {},
   "outputs": [],
   "source": [
    "a = np.arange(-4, 4, 0.01)\n",
    "\n",
    "x, y = np.meshgrid(a, a)\n",
    "assert(x.shape == (len(a), len(a)))\n",
    "r = np.sqrt(x ** 2 + y ** 2)\n",
    "plt.imshow(r, cmap=plt.cm.viridis)\n",
    "plt.colorbar()\n",
    "plt.title(\"radius\")\n",
    "plt.xlabel(\"x\")\n",
    "plt.ylabel(\"y\")"
   ]
  },
  {
   "cell_type": "markdown",
   "metadata": {},
   "source": [
    "### Exercises\n",
    "1. Generate an `np.array` of normally distributed samples and plot them using the histogram function.  Overlay with a 2D plot of the standard normal PDF function.  What happens as the number of random samples increases?"
   ]
  },
  {
   "cell_type": "markdown",
   "metadata": {},
   "source": [
    "## Matplotlib and Pyplot\n",
    "You'll notice that all of the plots created thus far started with `plt.` That references this import at the top of the notebook:\n",
    "\n",
    "```python\n",
    "import matplotlib.pyplot as plt\n",
    "```\n",
    "\n",
    "Pyplot is a special plotting \"state machine\" created for Matplotlib to simplify the creation of plots. Basically, it has an internal concept of the current chart being operated on by the set of methods made available to you. It is a wrapper around Matplotlib's object oriented plotting library.\n",
    "\n",
    "For the previous plot, we could have created it like this:"
   ]
  },
  {
   "cell_type": "code",
   "execution_count": null,
   "metadata": {},
   "outputs": [],
   "source": [
    "fig = plt.figure()\n",
    "ax = fig.add_subplot(111)\n",
    "ax.imshow(r, cmap=plt.cm.viridis)\n",
    "fig.colorbar(ax.get_images()[0])\n",
    "ax.set_title(\"radius\")\n",
    "ax.set_xlabel(\"x\")\n",
    "ax.set_ylabel(\"y\")"
   ]
  },
  {
   "cell_type": "markdown",
   "metadata": {},
   "source": [
    "This approach is more typing but it exposes some of the hidden complexity in `pyplot`. There are figure and axis objects and each has methods that contribute to the result.\n",
    "\n",
    "One approach is not necessarily better than the other, but it is important to know that there is a `pyplot` state machine that creates plots and there is a separate object oriented approach for creating plots.\n",
    "\n",
    "Later in your Python adventures you will see sample Matplotlib code on the Internet and will want to use it to add features to your data visualizations. The sample code might not easily fit the code you have already written if one is using `pyplot` and the other is not.\n",
    "\n",
    "To help you with this, `pyplot` provides the `gcf` and `gca` methods. You can use these to get `pyplot`'s current figure or axis objects."
   ]
  },
  {
   "cell_type": "markdown",
   "metadata": {},
   "source": [
    "### Matplotlib subplots\n",
    "Frequently you will want 2 or more plots in the same figure. You can do that with the subplot command.\n",
    "\n",
    "A common way of creating subplots is with a 3 digit number. The hundreds digit represents the number of rows, the tens digit represents the number of columns, and the ones digit represents the current chart. You call this repeatedly to move from one subplot to the next."
   ]
  },
  {
   "cell_type": "code",
   "execution_count": null,
   "metadata": {},
   "outputs": [],
   "source": [
    "# create a 2x2 subplot grid, and prepare to plot data into the first subplot.\n",
    "plt.subplot(2, 2, 1)\n",
    "plt.title('Upper Left')\n",
    "plt.plot(np.random.rand(10))\n",
    "\n",
    "# move to the second subplot\n",
    "plt.subplot(2, 2, 2)\n",
    "plt.title('Upper Right')\n",
    "plt.plot(np.random.rand(10))\n",
    "\n",
    "# move to the third\n",
    "plt.subplot(2, 2, 3)\n",
    "plt.title('Lower Left')\n",
    "plt.plot(np.random.rand(10))\n",
    "\n",
    "# move to the last subplot\n",
    "plt.subplot(2, 2, 4)\n",
    "plt.title('Lower Right')\n",
    "plt.plot(np.random.rand(10))"
   ]
  },
  {
   "cell_type": "markdown",
   "metadata": {},
   "source": [
    "These plots look a bit squeezed together, if we want to make them a bit more clean, we can force `Matplotlib` to lay them out in a better format with the `plt.tight_layout()` function."
   ]
  },
  {
   "cell_type": "code",
   "execution_count": null,
   "metadata": {},
   "outputs": [],
   "source": [
    "# create a 2x2 subplot grid, and prepare to plot data into the first subplot.\n",
    "plt.subplot(2, 2, 1)\n",
    "plt.title('Upper Left')\n",
    "plt.plot(np.random.rand(10))\n",
    "\n",
    "# move to the second subplot\n",
    "plt.subplot(2, 2, 2)\n",
    "plt.title('Upper Right')\n",
    "plt.plot(np.random.rand(10))\n",
    "\n",
    "# move to the third\n",
    "plt.subplot(2, 2, 3)\n",
    "plt.title('Lower Left')\n",
    "plt.plot(np.random.rand(10))\n",
    "\n",
    "# move to the last subplot\n",
    "plt.subplot(2, 2, 4)\n",
    "plt.title('Lower Right')\n",
    "plt.plot(np.random.rand(10))\n",
    "\n",
    "plt.tight_layout()"
   ]
  },
  {
   "cell_type": "markdown",
   "metadata": {},
   "source": [
    "## Matplotlib plots from Pandas\n",
    "The Pandas library comes with built-in plotting tools. Data stored in a DataFrame can be plotted just as easily as the previous examples."
   ]
  },
  {
   "cell_type": "code",
   "execution_count": null,
   "metadata": {},
   "outputs": [],
   "source": [
    "import pandas as pd"
   ]
  },
  {
   "cell_type": "markdown",
   "metadata": {},
   "source": [
    "Let's make a `DataFrame` with some random data, we can then use it to make some nice plots."
   ]
  },
  {
   "cell_type": "code",
   "execution_count": null,
   "metadata": {},
   "outputs": [],
   "source": [
    "test_data = pd.DataFrame(np.random.rand(10, 2),\n",
    "                      index=np.arange(10),\n",
    "                      columns=['A', 'B'])\n",
    "test_data"
   ]
  },
  {
   "cell_type": "markdown",
   "metadata": {},
   "source": [
    "`DataFrame` objects have a few plotting methods, each one of them makes some assumptions about the type of data generally stored in a `DataFrame` (namely structured, tabular data) and thus can make a decent looking plot with effectively zero configuration.\n",
    "\n",
    "For example, when we call the `plot` method, notice that it automatically adds a legend with the column names."
   ]
  },
  {
   "cell_type": "code",
   "execution_count": null,
   "metadata": {},
   "outputs": [],
   "source": [
    "test_data.plot()"
   ]
  },
  {
   "cell_type": "markdown",
   "metadata": {},
   "source": [
    "By default, it assumes you would like to see a line chart. Other choices are available.  Perhaps we want a bar chart:"
   ]
  },
  {
   "cell_type": "code",
   "execution_count": null,
   "metadata": {},
   "outputs": [],
   "source": [
    "test_data.plot.bar()"
   ]
  },
  {
   "cell_type": "markdown",
   "metadata": {},
   "source": [
    "Just like in `Matplotlib`, we can pass parameters to the `bar` method to adjust the chart, here let's use a stacked chart and color things blue and red."
   ]
  },
  {
   "cell_type": "code",
   "execution_count": null,
   "metadata": {},
   "outputs": [],
   "source": [
    "test_data.plot.bar(stacked=True, color=['red', 'blue'], legend=False)"
   ]
  },
  {
   "cell_type": "markdown",
   "metadata": {},
   "source": [
    "These plots can be useful for visually inspecting your data and general exploratory data analysis.\n",
    "\n",
    "As we have already seen, a histogram is particularly helpful for understanding the range and distribution of your data. Outliers will be visible, as well as potential data errors."
   ]
  },
  {
   "cell_type": "code",
   "execution_count": null,
   "metadata": {},
   "outputs": [],
   "source": [
    "test_hist = pd.DataFrame(np.random.beta(0.6, 0.5, size=5000),\n",
    "                      columns=['Beta(0.6, 0.5)'])\n",
    "\n",
    "test_hist.hist(bins=100, color='red');"
   ]
  },
  {
   "cell_type": "markdown",
   "metadata": {},
   "source": [
    "One of the great features of Pandas and plotting is how it handles dates."
   ]
  },
  {
   "cell_type": "code",
   "execution_count": null,
   "metadata": {},
   "outputs": [],
   "source": [
    "import pandas.util.testing as pd_testing\n",
    "\n",
    "time_df = pd_testing.makeTimeDataFrame(50).cumsum()\n",
    "\n",
    "time_df.head()"
   ]
  },
  {
   "cell_type": "markdown",
   "metadata": {},
   "source": [
    "This DataFrame has dates in the index. Pandas tries to figure out an intelligent way of arranging the x axis so the labels look pretty."
   ]
  },
  {
   "cell_type": "code",
   "execution_count": null,
   "metadata": {},
   "outputs": [],
   "source": [
    "time_df.plot()"
   ]
  },
  {
   "cell_type": "markdown",
   "metadata": {},
   "source": [
    "### `Matplotlib` in and out of `Jupyter` Notebooks"
   ]
  },
  {
   "cell_type": "markdown",
   "metadata": {},
   "source": [
    "You have may have noticed that our plots appear directly in the notebook, which is extremely useful for most forms of exploratory data science.  We can achieve this through the use of the `%matplotlib inline` magic which you might notice we use in the top cell of most of our notebooks.  Often this is enough, but when we want to use `Matplotlib` outside of the notebooks, the usage is slightly different.  Instead of figures appearing after the end of a cell, they appear only after the `plt.show()` function is executed.  This creates a separate window with an interactive plot.  To try it, run the following code in a python interpreter within a desktop environment (sadly not our `Jupyterhub` environment).\n",
    "\n",
    "```python\n",
    "import numpy as np\n",
    "import matplotlib.pyplot as plt\n",
    "\n",
    "x = np.linspace(0, 10, 20)\n",
    "y = x ** 2\n",
    "plt.plot(x, y)\n",
    "plt.xlabel('x')\n",
    "plt.ylabel('y')\n",
    "plt.show()\n",
    "```\n",
    "\n",
    "Both in and out of a notebook we can save the figures we create to disk, through the `plt.savefig` command.  This takes in a string for the location on disk to place the saved figure and will inspect the extension to use the correct format.  For example, let's run the previous code and save it as a `png` file."
   ]
  },
  {
   "cell_type": "code",
   "execution_count": null,
   "metadata": {},
   "outputs": [],
   "source": [
    "x = np.linspace(0, 10, 20)\n",
    "y = x ** 2\n",
    "plt.plot(x, y)\n",
    "plt.xlabel('x')\n",
    "plt.ylabel('y')\n",
    "plt.savefig('example_plot.png')"
   ]
  },
  {
   "cell_type": "markdown",
   "metadata": {},
   "source": [
    "Let's look at this image."
   ]
  },
  {
   "cell_type": "code",
   "execution_count": null,
   "metadata": {},
   "outputs": [],
   "source": [
    "from IPython import display\n",
    "display.Image('example_plot.png')"
   ]
  },
  {
   "cell_type": "markdown",
   "metadata": {},
   "source": [
    "We can also save a host of other file formats like `jpg` and `pdf`.  One common issue can be seen with the following plot where we rotate the labels so that they are readable."
   ]
  },
  {
   "cell_type": "code",
   "execution_count": null,
   "metadata": {},
   "outputs": [],
   "source": [
    "def gen_plot():\n",
    "    labels = ['carl baggins', \n",
    "              'patrick callahan', \n",
    "              'mitt clinton', \n",
    "              'donald jackson',\n",
    "              'mickey mouse',\n",
    "              'sally mcfarland',\n",
    "              'hope walker',\n",
    "              'cynthia smith']\n",
    "    data = [25, 21, 40, 10, 15, 50, 20, 43]\n",
    "    plt.bar(labels, data)\n",
    "    plt.xticks(np.arange(len(labels)), labels, rotation=40)\n",
    "\n",
    "gen_plot()\n",
    "plt.savefig('bar.png', dpi=250)"
   ]
  },
  {
   "cell_type": "markdown",
   "metadata": {},
   "source": [
    "If we look at the image, we can see some of the text is cut off."
   ]
  },
  {
   "cell_type": "code",
   "execution_count": null,
   "metadata": {},
   "outputs": [],
   "source": [
    "display.Image('bar.png')"
   ]
  },
  {
   "cell_type": "markdown",
   "metadata": {},
   "source": [
    "In order to fix this, we can generate the plot again and then save it with the `bbox_inches` keyword argument."
   ]
  },
  {
   "cell_type": "code",
   "execution_count": null,
   "metadata": {},
   "outputs": [],
   "source": [
    "gen_plot()\n",
    "plt.savefig('bar_fixed.png', dpi=250, bbox_inches='tight')"
   ]
  },
  {
   "cell_type": "code",
   "execution_count": null,
   "metadata": {},
   "outputs": [],
   "source": [
    "display.Image('bar_fixed.png')"
   ]
  },
  {
   "cell_type": "markdown",
   "metadata": {},
   "source": [
    "The author has found this trick useful many times."
   ]
  },
  {
   "cell_type": "markdown",
   "metadata": {},
   "source": [
    "## Seaborn"
   ]
  },
  {
   "cell_type": "markdown",
   "metadata": {},
   "source": [
    "`Seaborn` is a higher level library built on top of `Matplotlib` and `pandas` to create statistical visualizations and (in many people opinions) give a better set of default style parameters to basic `Matplotlib` functionality.  The `sns.set()` command in the beginning of the notebook sets these parameters.  \n",
    "\n",
    "Let's start with some data about airport delays with a few categorical variables.  We can use a `FacetGrid` to plot the data in a grid with a plot for each categorical variable.  We will give the `FacetGrid` `col` and `row` arguments to specify which category should represent each column and row respectively. \n",
    "\n",
    "Just creating the `FacetGrid` creates a plotting grid, but if we want to put some data on the plots, we need to specify which plotting function we want applied to each subset of the data (filtered by row and column).  We can do this by using the `map` method of the `FacetGrid`."
   ]
  },
  {
   "cell_type": "code",
   "execution_count": null,
   "metadata": {},
   "outputs": [],
   "source": [
    "from datetime import datetime\n",
    "def get_quarter(x):\n",
    "    if x < 4 :\n",
    "        return 1\n",
    "    elif x < 7:\n",
    "        return 2\n",
    "    elif x < 10:\n",
    "        return 3\n",
    "    else:\n",
    "        return 4\n",
    "df = pd.read_csv('small_data/flights14.csv')\n",
    "# restrict to largest carriers\n",
    "df = df[df['carrier'].isin(df['carrier'].value_counts().index[:4])]\n",
    "df['quarter'] = df['month'].apply(get_quarter)\n",
    "df.head()"
   ]
  },
  {
   "cell_type": "code",
   "execution_count": null,
   "metadata": {},
   "outputs": [],
   "source": [
    "g = sns.FacetGrid(df, row='carrier', col='quarter')\n",
    "g.map(plt.hist, \"dep_delay\")\n",
    "plt.tight_layout()"
   ]
  },
  {
   "cell_type": "markdown",
   "metadata": {},
   "source": [
    "We can also do other types of plots, good examples can be found in the [Gallery](https://seaborn.pydata.org/examples/index.html).  For example let's take a look at a box plot broken up by quarter and origin for a few different airports.  Here we will only look at the \"non-extreme\" delays of less than an hour."
   ]
  },
  {
   "cell_type": "code",
   "execution_count": null,
   "metadata": {},
   "outputs": [],
   "source": [
    "sns.boxplot(x='quarter', \n",
    "            hue='origin', \n",
    "            y='dep_delay', \n",
    "            data=df[df['arr_delay'] < 60])"
   ]
  },
  {
   "cell_type": "markdown",
   "metadata": {},
   "source": [
    "We can also do cool things like create a `PairGrid` to look at distributions and relationships between different variables."
   ]
  },
  {
   "cell_type": "code",
   "execution_count": null,
   "metadata": {},
   "outputs": [],
   "source": [
    "(sns.PairGrid(df[['dep_delay', 'arr_delay']].iloc[:500], diag_sharey=False)\n",
    "  .map_diag(plt.hist, lw=3, bins=20)\n",
    "  .map_upper(sns.scatterplot)\n",
    "  .map_lower(sns.kdeplot))"
   ]
  },
  {
   "cell_type": "markdown",
   "metadata": {},
   "source": [
    "Much more customization is possible in both `Matplotlib` and libraries built upon it such as `Seaborn`.  They are effective tools to represent data in a useful way."
   ]
  },
  {
   "cell_type": "markdown",
   "metadata": {},
   "source": [
    "*Copyright &copy; 2018 The Data Incubator.  All rights reserved.*"
   ]
  }
 ],
 "metadata": {
  "kernelspec": {
   "display_name": "Python 3",
   "language": "python",
   "name": "python3"
  },
  "nbclean": true
 },
 "nbformat": 4,
 "nbformat_minor": 0
}
