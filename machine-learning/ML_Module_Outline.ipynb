{
 "cells": [
  {
   "cell_type": "code",
   "execution_count": null,
   "metadata": {},
   "outputs": [],
   "source": [
    "%matplotlib inline\n",
    "import matplotlib\n",
    "import seaborn as sns\n",
    "sns.set()\n",
    "matplotlib.rcParams['figure.dpi'] = 144"
   ]
  },
  {
   "cell_type": "markdown",
   "metadata": {},
   "source": [
    "# Introduction to Machine Learning\n",
    "<!--exclude from index-->"
   ]
  },
  {
   "cell_type": "markdown",
   "metadata": {},
   "source": [
    "## Module description"
   ]
  },
  {
   "cell_type": "markdown",
   "metadata": {},
   "source": [
    "Machine learning has come to the forefront of data analytics in the last 10-15 years and is a much-heard term in the news and other media.  But what is it?  \n",
    "The proliferation of cheap sensor devices, the ubiquity of mobile phones (and the data they can collect), social media, and other data sources provides information from which machines can try to learn valuable patterns from structured data.  \n",
    "\n",
    "This module introduces the basics of machine learning (with a focus on \"supervised learning\"), including concepts such as regression, classification, model evaluation metrics, over/under fitting, variance versus bias, ensemble methods, model selection, and hyperparameter optimization.  We also give an introduction to \"unsupervised learning\" including clustering and dimensionality reduction.  \n",
    "\n",
    "We cover the powerful and widely-used Python package `Scikit-Learn` and other common tools to provide a strong understanding of core concepts in machine learning, as well as the ability to efficiently train and benchmark accurate predictive models.  Students gain hands-on experience building complex \"Extract-Transform-Load\" (ETL) pipelines to handle data in a variety of formats, developing models with tools such as feature unions and pipelines to reduce duplicate work, and practicing parallelization to speed up prototyping and development.  "
   ]
  },
  {
   "cell_type": "markdown",
   "metadata": {},
   "source": [
    "## Learning outcomes\n",
    "\n",
    "At the conclusion of this module, students should: \n",
    "\n",
    "* Know the goal of machine learning, and how this differs from statistical analysis\n",
    "* Understand the two general supervised machine learning tasks:\n",
    "   - Regression, i.e. prediction of a continuous variable\n",
    "   - Classification, i.e. prediction of a categorical variable\n",
    "* Have familiarity with commonly-used regression and classification tools in Scikit-Learn including:\n",
    "   - Linear Regression\n",
    "   - Ridge Regression\n",
    "   - Decision Trees\n",
    "   - Nearest Neighbors\n",
    "   - Logistic Regression\n",
    "* Understand the Bias-Variance tradeoff in model building, and how this is handled using tools such as `GridSearchCV` in Scikit-Learn to help choose appropriate hyperparameters\n",
    "* Be able to work with the Scikit-Learn API, specifically: \n",
    "   - Know how to create custom estimators and transformers to manipulate data effectively and build specialized prediction methods\n",
    "   - Be comfortable with data preprocessing techniques such as feature scaling and one-hot encoding, and the knowledge for when these preprocessing methods are suitable\n",
    "   - Be able to effectively use built-in tools such as `Pipeline` and `FeatureUnion` to produce a \"start-to-end\" ETL workflow\n",
    "* Know what is the purpose and uses of unsupervised machine learning and have familiarity with some basic Scikit-Learn tools used to perform that task"
   ]
  },
  {
   "cell_type": "markdown",
   "metadata": {},
   "source": [
    "## Prerequisites\n",
    "\n",
    "We assume familiarity with the Python programming language, including data types such as `list`, `dict`, and `tuple`, list and dictionary comprehensions, writing functions, and basic object-oriented programming techniques in Python.  \n",
    "\n",
    "In addition, successful students will have understanding of the Pandas `DataFrame` data structure, and methods to manipulate data in a `DataFrame` such as selecting, filtering, creating new columns from existing columns, and understanding the various ways of indexing and slicing DataFrames.  Finally, being able to create and manipulate NumPy arrays is also necessary.  NumPy arrays and Pandas DataFrames are commonly-used data structures for interacting with the Scikit-Learn library.  "
   ]
  },
  {
   "cell_type": "markdown",
   "metadata": {},
   "source": [
    "## Suggested notebook order\n",
    "\n",
    "1.  `ML_Introduction`\n",
    "1.  `ML_Regression`\n",
    "1.  `ML_Scikit_Learn_API`\n",
    "1.  `ML_Classification`\n",
    "1.  `ML_Overfitting`\n",
    "1.  `ML_Scikit_Learn_Workflow`\n",
    "1.  `ML_Transformers_and_Preprocessing.ipynb` \n",
    "1.  `ML_K_Nearest_Neighbors`\n",
    "1.  `ML_Unsupervised_Learning`"
   ]
  },
  {
   "cell_type": "markdown",
   "metadata": {},
   "source": [
    "## Additional resources\n",
    "\n",
    "### General Machine Learning \n",
    "\n",
    "* Wikipedia's articles on \n",
    "   - Machine Learning: https://en.wikipedia.org/wiki/Machine_learning\n",
    "   - Supervised (Machine) Learning: https://en.wikipedia.org/wiki/Supervised_learning  \n",
    "   - Unsupervised (Machine) Learning: https://en.wikipedia.org/wiki/Unsupervised_learning\n",
    "   \n",
    "### Scikit-Learn\n",
    "\n",
    "* The online Scikit-Learn documentation is extensive:\n",
    "https://scikit-learn.org/stable/\n",
    "\n",
    "* Scikit-Learn's introductory tutorial:\n",
    "https://scikit-learn.org/stable/tutorial/basic/tutorial.html\n",
    "\n",
    "* The Scikit-Learn algorithm cheat sheet:\n",
    "https://scikit-learn.org/stable/tutorial/machine_learning_map/index.html\n",
    "\n",
    "\n",
    "### Pandas and NumPy\n",
    "\n",
    "Pandas DataFrames and NumPy arrays are commonly-used data structures that interact well with the Scikit-Learn Machine Learning API.  \n",
    "\n",
    "**Pandas**\n",
    "* A cheat sheet with a summary of commonly-used Pandas operations:\n",
    "http://pandas.pydata.org/Pandas_Cheat_Sheet.pdf\n",
    "\n",
    "* A blog post discussing the connection between Pandas and NumPy: https://blog.thedataincubator.com/2018/02/numpy-and-pandas/\n",
    "\n",
    "**NumPy**\n",
    "* A quick-start tutorial on NumPy:\n",
    "https://docs.scipy.org/doc/numpy/user/quickstart.html\n",
    "\n",
    "* A NumPy cheat sheet geared for those transitioning from MATLAB:\n",
    "https://docs.scipy.org/doc/numpy/user/numpy-for-matlab-users.html\n",
    "\n",
    "* 100 NumPy exercises: \n",
    "http://www.labri.fr/perso/nrougier/teaching/numpy.100/\n",
    "\n",
    "### Data Sources\n",
    "Where can one find data sets to try out machine learning algorithms?  Here's a few online sources.  \n",
    "\n",
    "* University of California Irvine Machine Learning Repository: https://archive.ics.uci.edu/ml/index.php (This is a well-known repository of common and some not-so-common data sets.)\n",
    "\n",
    "* Google Dataset Search: https://toolbox.google.com/datasetsearch (Provides links to various online data sets, try a keyword search.)\n",
    "\n",
    "###  The Mathematics of Machine Learning\n",
    "\n",
    "You can do machine learning without the need to understand the fine details of the mathematics that underlies it, but if you want to delve into this world, here is a good starting point:\n",
    "*  __[The Elements of Statistical Learning](https://web.stanford.edu/~hastie/ElemStatLearn/)__ by Trevor Hastie, Robert Tibshirani, and Jerome Friedman (A rather comprehensive treatment, available for free online.)\n",
    "*  __[An Introduction to Statistical Learning](https://www-bcf.usc.edu/~gareth/ISL/)__ by Gareth James, Daniela Witten, Trevor Hastie and Robert Tibshirani  (A gentler introduction, i.e. less mathematically intense, than the above book.)"
   ]
  },
  {
   "cell_type": "markdown",
   "metadata": {},
   "source": [
    "*Copyright &copy; 2019 The Data Incubator.  All rights reserved.*"
   ]
  }
 ],
 "metadata": {
  "kernelspec": {
   "display_name": "Python 3",
   "language": "python",
   "name": "python3"
  },
  "nbclean": true
 },
 "nbformat": 4,
 "nbformat_minor": 0
}
