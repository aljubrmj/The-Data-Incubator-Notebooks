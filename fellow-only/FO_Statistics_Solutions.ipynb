{
 "cells": [
  {
   "cell_type": "code",
   "execution_count": null,
   "metadata": {},
   "outputs": [],
   "source": [
    "%matplotlib inline\n",
    "import matplotlib\n",
    "import seaborn as sns\n",
    "sns.set()\n",
    "matplotlib.rcParams['figure.dpi'] = 144"
   ]
  },
  {
   "cell_type": "markdown",
   "metadata": {},
   "source": [
    "# Statistics Interview Solutions"
   ]
  },
  {
   "cell_type": "markdown",
   "metadata": {},
   "source": [
    "## Easy: question 2\n"
   ]
  },
  {
   "cell_type": "markdown",
   "metadata": {},
   "source": [
    "You have 3 baskets and each basket contains exactly 4 balls; each ball is of the same size. Each ball is either red, black, yellow, or orange, and there is one of each color in each basket.  If you randomly draw 1 ball from each basket, what is the chance that you would have exactly 2 red balls?\n",
    "\n",
    "**Answer: 9/64**\n"
   ]
  },
  {
   "cell_type": "markdown",
   "metadata": {},
   "source": [
    "### Method 1\n"
   ]
  },
  {
   "cell_type": "markdown",
   "metadata": {},
   "source": [
    "| Basket 1 | Basket 2 | Basket 3 |\n",
    "|----------|----------|----------|\n",
    "| R   | R   | X   | \n",
    "| R   | X   | R   | \n",
    "| X   | R   | R   |\n",
    "\n",
    "$$ P_1 + P_2 + P_3 = \\left( \\frac{1}{4} \\right)  \\left( \\frac{1}{4} \\right) \\left( \\frac{3}{4} \\right)\n",
    "+ \\left( \\frac{1}{4} \\right)  \\left( \\frac{3}{4} \\right) \\left( \\frac{1}{4} \\right)\n",
    "+ \\left( \\frac{3}{4} \\right)  \\left( \\frac{1}{4} \\right) \\left( \\frac{1}{4} \\right)\n",
    "= 3 \\left( \\frac{3}{64} \\right)\n",
    "$$\n"
   ]
  },
  {
   "cell_type": "markdown",
   "metadata": {},
   "source": [
    "### Method 2: binomial distribution\n"
   ]
  },
  {
   "cell_type": "markdown",
   "metadata": {},
   "source": [
    "$$ \\binom{n}{k} \\left( p \\right) ^k \\left( 1-p \\right)^{(n-k)} = \\frac{3!}{1! 2!} \\left( \\frac{1}{4} \\right) ^2 \\left( \\frac{3}{4} \\right)$$"
   ]
  },
  {
   "cell_type": "markdown",
   "metadata": {},
   "source": [
    "## Easy: question 3\n"
   ]
  },
  {
   "cell_type": "markdown",
   "metadata": {},
   "source": [
    "A bag contains x number of 1 rupee coins and y number of 50 paise coins. One coin is taken from the bag and put away. If a coin is now taken at random from the bag, what is the probability that it is a 1 rupee coin?\n",
    "\n",
    "**Answer: $\\frac{x}{x + y}$ **\n"
   ]
  },
  {
   "cell_type": "markdown",
   "metadata": {},
   "source": [
    "### Method 1\n"
   ]
  },
  {
   "cell_type": "markdown",
   "metadata": {},
   "source": [
    "_Case 1_: Removing a rupee and then drawing a rupee\n",
    "$$ P_1 = \\left( \\frac{x}{x+y} \\right)  \\left( \\frac{x-1}{x+y-1} \\right) $$\n",
    "\n",
    "_Case 2_: Removing a paise and then drawing a rupee\n",
    "$$ P_2 = \\left( \\frac{y}{x+y} \\right)  \\left( \\frac{x}{x+y-1} \\right) $$\n",
    "\n",
    "_Combining the two cases..._\n",
    "\n",
    "$$ P_1 + P_2 = \\frac{x}{x + y} $$\n"
   ]
  },
  {
   "cell_type": "markdown",
   "metadata": {},
   "source": [
    "### Method 2\n"
   ]
  },
  {
   "cell_type": "markdown",
   "metadata": {},
   "source": [
    "Since you do not know which coin was removed, the probability of drawing a rupee should equal the probability of drawing a rupee if a coin was not removed. "
   ]
  },
  {
   "cell_type": "markdown",
   "metadata": {},
   "source": [
    "## Easy: question 4\n"
   ]
  },
  {
   "cell_type": "markdown",
   "metadata": {},
   "source": [
    "Bob is selected to interview for 3 posts.  The total number of candidates interviewing for the posts are 3, 4 and 2. What is the probability of getting at least one offer?  [Assume candidates are picked at random after interviews.]\n",
    "\n",
    "**Answer: 3/4**\n",
    "\n",
    "Probability of not getting an offer:\n",
    "- Job 1: 2/3\n",
    "- Job 2: 3/4 \n",
    "- Job 3: 1/2\n",
    "$$ P = P_1 * P_2 * P_3 = \\left( \\frac{2}{3} \\right) \\left( \\frac{3}{4} \\right) \\left( \\frac{1}{2} \\right) = \\frac{1}{4} $$\n",
    "\n",
    "Probability of getting at least one offer:\n",
    "$$ 1 - P = \\frac{3}{4} $$"
   ]
  },
  {
   "cell_type": "markdown",
   "metadata": {},
   "source": [
    "## Easy: question 5\n"
   ]
  },
  {
   "cell_type": "markdown",
   "metadata": {},
   "source": [
    "(Part A): Mr. Jones has two children. The older child is a girl. What is the probability that both children are girls?  (Part B): Mr. Smith has two children. At least one of them is a boy. What is the probability that both children are boys?\n",
    "\n",
    "**Answer: 1/2 (Part A); 1/3 (Part B)**\n",
    "\n",
    "| Younger | Older |\n",
    "|---------|-------|\n",
    "| G | G |\n",
    "| B | G |\n",
    "| G | B |\n",
    "| B | B |"
   ]
  },
  {
   "cell_type": "markdown",
   "metadata": {},
   "source": [
    "## Harder: question 1\n"
   ]
  },
  {
   "cell_type": "markdown",
   "metadata": {},
   "source": [
    "You have two jars, 50 red marbles, and 50 blue marbles. You’ll first randomly pick a jar, and then randomly pick a marble out of that jar. You can arrange the marbles however you like, but each marble must be in a jar. You need to place all the marbles into the jars such that when you blindly pick one marble out of the chosen jar, you maximize the chances that it will be red.\n",
    "\n",
    "** Answer: Put one red marble in one jar and the rest of the marbles in the other.**\n",
    "\n",
    "_Case 1_: Jar with one red marble\n",
    "$P_1$ = Probability of selecting jar * Probability of selecting a red marble = $ \\left( \\frac{1}{2} \\right) \\left( 1 \\right)  $\n",
    "\n",
    "_Case 2_: Jar with the rest of the marbles\n",
    "$P_2$ = Probability of selecting jar * Probability of selecting a red marble = $ \\left( \\frac{1}{2} \\right) \\left( \\frac{49}{99} \\right) $\n",
    "\n",
    "\n",
    "In this case, the probability of selecting a red marble is $ P_1 + P_2 \\approx \\frac{3}{4}$.\n",
    "\n",
    "This is clearly a good strategy, but to be thorough, we need to to check that none of the alternatives is better. This is easy if we notice that one of the jars must have more red marbles than blue marbles while the other has more blue marbles than red marbles (if both jars have equal numbers of each, then the probability is only $\\frac{1}{2}$). We can get an upper bound by maximizing the probability of picking a red marble from a jar of each description.\n",
    "\n",
    "* For the jar with more red marbles than blue marbles, we can't get a probability higher than $1$.\n",
    "* For the jar with more blue marbles than red marbles, the best we can do is $\\frac{44}{99}$. If the number of blue marbles is fixed at $n$, then it's obvious we want $n-1$ red marbles, and the corresponding probability $\\frac{n-1}{2n-1}$ is maximized by making $n$ as large as possible.\n",
    "\n",
    "So it's impossible to improve on our original solution."
   ]
  },
  {
   "cell_type": "markdown",
   "metadata": {},
   "source": [
    "## Harder: question 3\n"
   ]
  },
  {
   "cell_type": "markdown",
   "metadata": {},
   "source": [
    "In a country where everyone wants a boy, each family continues having babies til they have a boy, at which point they stop having children.  What is the proportion of boys to girls in the country? (Assuming probability of having a boy or a girl is the same.)\n",
    "\n",
    "**Answer: 1**\n",
    "\n",
    "_Case 1_: Number of boys\n",
    "\n",
    "Let $N$ be the number of families. Each family will stop having children after having a boy. Therefore there will be $N$ boys.\n",
    "\n",
    "_Case 2_: Number of girls\n",
    "\n",
    "- 1/2 of the families have a boy and stop: $N * 1/2 * 0$ girls\n",
    "- 1/4 of the families have a girl then boy: $N * 1/4 * 1$ girl\n",
    "- 1/8 of the families have two girls then a boy: $N * 1/8 * 2$ girls\n",
    "...\n",
    "\n",
    "Number of girls = $N \\sum_{n=1}^{N} \\frac{n-1}{2^n} \\approx N $"
   ]
  },
  {
   "cell_type": "markdown",
   "metadata": {},
   "source": [
    "## Harder: question 4\n"
   ]
  },
  {
   "cell_type": "markdown",
   "metadata": {},
   "source": [
    "Three ants are sitting at the three corners of an equilateral triangle. Each ant randomly picks a direction and starts to move along the edge of the triangle. What is the probability that none of the ants collide?\n",
    "\n",
    "**Answer: 1/4**\n",
    "\n",
    "Probability of not colliding = Probability all go clockwise + Probability all go counter-clockwise\n",
    "\n",
    "$$ P = \\left( \\frac{1}{2} \\right)^3 + \\left( \\frac{1}{2} \\right)^3 $$"
   ]
  },
  {
   "cell_type": "markdown",
   "metadata": {},
   "source": [
    "## Even more probability questions: question 1\n"
   ]
  },
  {
   "cell_type": "markdown",
   "metadata": {},
   "source": [
    "Here are some facts about interviews:\n",
    "\n",
    "    - 50% of all people who receive a first interview receive a second interview\n",
    "    - 95% of your friends that got a second interview felt they had a good first interview\n",
    "    - 75% of your friends that DID NOT get a second interview felt they had a good first interview\n",
    "\n",
    "If you feel that you had a good first interview, what is the probability you will receive a second interview?\n",
    "\n",
    "**Answer: 0.559**\n",
    "\n",
    "Let $x$ = getting a second interview.\n",
    "Let $y$ = feeling good about the first.\n",
    "Find $P(x|y)$\n",
    "\n",
    "$$ P(x) = 0.5 $$\n",
    "$$ P(y|x) = 0.95 $$\n",
    "$$ P(y|x^c) = 0.75 $$\n",
    "\n",
    "From Bayes' Theorem, we know that \n",
    "$$ P(x|y) = \\frac{P(y|x)P(x)}{P(y)} $$\n",
    "\n",
    "We also know that the denominator is:\n",
    "$$ P(y) = P(y|x)P(x) + P(y|x^c)P(x^c) $$\n",
    "\n",
    "Substituting in for $P(y)$ and plugging in values, we get:\n",
    "$$ P(x|y) = \\frac{0.95}{0.95 + 0.75}$$"
   ]
  },
  {
   "cell_type": "markdown",
   "metadata": {},
   "source": [
    "## Even more probability questions: question 6\n"
   ]
  },
  {
   "cell_type": "markdown",
   "metadata": {},
   "source": [
    "Let X be a uniformly distributed Random Variable on [1, 2].  What is the $E[X^2]$?\n",
    "\n",
    "**Answer: 7/3**\n",
    "\n",
    "$$ f(x) = \n",
    "\\begin{cases} \n",
    "      1 & 1 \\leq x \\leq 2 \\\\\n",
    "      0 & \\text{otherwise} \n",
    "\\end{cases}\n",
    "$$\n",
    "\n",
    "$$\n",
    "\\begin{align}\n",
    "E[X^2] &=\\int_{-\\infty}^{\\infty} x^2 f(x) dx\\\\\n",
    "       &=\\int_{1}^{2} x^2 dx\\\\\n",
    "       &=\\frac{8}{3} - \\frac{1}{3}\\\\\n",
    "       &=\\frac{7}{3}\n",
    "\\end{align}\n",
    "$$"
   ]
  },
  {
   "cell_type": "code",
   "execution_count": null,
   "metadata": {},
   "outputs": [],
   "source": []
  },
  {
   "cell_type": "markdown",
   "metadata": {},
   "source": [
    "*Copyright &copy; 2017 The Data Incubator.  All rights reserved.*"
   ]
  }
 ],
 "metadata": {
  "kernelspec": {
   "display_name": "Python 3",
   "language": "python",
   "name": "python3"
  },
  "nbclean": true
 },
 "nbformat": 4,
 "nbformat_minor": 0
}
