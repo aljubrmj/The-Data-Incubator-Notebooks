{
 "cells": [
  {
   "cell_type": "code",
   "execution_count": null,
   "metadata": {},
   "outputs": [],
   "source": [
    "%matplotlib inline\n",
    "import matplotlib\n",
    "import seaborn as sns\n",
    "sns.set()\n",
    "matplotlib.rcParams['figure.dpi'] = 144"
   ]
  },
  {
   "cell_type": "markdown",
   "metadata": {},
   "source": [
    "# SQL Questions\n"
   ]
  },
  {
   "cell_type": "markdown",
   "metadata": {},
   "source": [
    "Nearly every interview for a data analyst or data science position involves *some* sort of question about SQL, since it's the primary access method for many databases.  Please **DO NOT USE PANDAS**, and note you can use SQL here by starting a block with `%%sql`\n",
    "\n",
    "Example answers are at the end, they're not the only way to do it, so as long as you get the same output you should be fine"
   ]
  },
  {
   "cell_type": "code",
   "execution_count": null,
   "metadata": {},
   "outputs": [],
   "source": [
    "%load_ext sql\n",
    "%sql sqlite:///testdb.sqlite"
   ]
  },
  {
   "cell_type": "code",
   "execution_count": null,
   "metadata": {},
   "outputs": [],
   "source": [
    "%%sql\n",
    "\n",
    "DROP TABLE IF EXISTS students;\n",
    "\n",
    "DROP TABLE IF EXISTS scores;\n",
    "\n",
    "CREATE TABLE students (\n",
    "    studentid        INTEGER PRIMARY KEY NOT NULL,\n",
    "    name              TEXT,\n",
    "    age               INTEGER NOT NULL,\n",
    "    state             TEXT\n",
    ");\n",
    "\n",
    "CREATE TABLE scores (\n",
    "    studentid        INTEGER NOT NULL,\n",
    "    datetaken        DATE NOT NULL,\n",
    "    math              INTEGER,\n",
    "    verbal            INTEGER,\n",
    "    writing           INTEGER\n",
    ");\n",
    "\n",
    "INSERT INTO students VALUES (234, 'Mary', 17, 'NY'), (333, 'Boba', 16, 'PA'), \n",
    "  (9128, 'Typhoid', 18, 'NY'), (777, 'Fett', 15, 'MD'), (1234, 'Allen', 16, 'CA'), \n",
    "  (7899, 'Alain', 17, 'OR'), (9981, 'Alan', 18, 'WA'), (4422, 'Zucher', 19, 'CA'),\n",
    "  (8675309, 'Jenny', 17, 'CA'), (666, 'Lou', 20, 'PA'), (5555, 'Daft', 17, 'WA');\n",
    "    \n",
    "INSERT INTO scores VALUES (234, '2016-06-01', 650, 720, NULL), \n",
    "   (234, '2016-05-17', 600, 550, 750), (234, '2016-04-12', 710, 500, 300), \n",
    "   (333, '2016-07-04', 650, 680, NULL), (333, '2016-06-04', 500, NULL, 670),\n",
    "   (9128, '2016-08-07', NULL, NULL, 650), (9128, '2016-05-05', 720, NULL, NULL),\n",
    "   (777, '2016-12-25', 650, 450, 530), (777, '2016-04-20', 420, 530, 640),\n",
    "   (1234, '2016-11-15', 730, 740, 710), (1234, '2016-10-10', 340, 350, 360),\n",
    "   (7899, '2016-10-02', 550, 750, 780), (7899, '2016-09-02', 650, 770, 790),\n",
    "   (9981, '2016-01-01', 500, 400, 300), (9981, '2015-01-01', 550, 350, 400),\n",
    "   (4422, '2016-07-04', 720, 740, 750), (4422, '2016-05-04', 650, 750, NULL),\n",
    "   (8675309, '2012-04-29', 500, 500, 510), (8675309, '2012-02-29', 600, NULL, 610),\n",
    "   (666, '2006-06-06', 666, 666, 666), (5555, '2016-08-12', 600, 500, NULL);"
   ]
  },
  {
   "cell_type": "markdown",
   "metadata": {},
   "source": [
    "In case you want to determine what the correct results should be (which isn't hard with this small of a table):"
   ]
  },
  {
   "cell_type": "code",
   "execution_count": null,
   "metadata": {},
   "outputs": [],
   "source": [
    "%%sql\n",
    "SELECT * FROM students;"
   ]
  },
  {
   "cell_type": "code",
   "execution_count": null,
   "metadata": {},
   "outputs": [],
   "source": [
    "%%sql\n",
    "\n",
    "SELECT * FROM scores ORDER BY studentid, datetaken;"
   ]
  },
  {
   "cell_type": "markdown",
   "metadata": {},
   "source": [
    "Given the above tables for student demographics and (presumably SAT) scores, let's look at extracting some information about how people performed.\n",
    "\n",
    "Question 1:\n",
    "\n",
    "Find how many students are from the west coast (defined as state being CA, WA, OR)"
   ]
  },
  {
   "cell_type": "markdown",
   "metadata": {},
   "source": [
    "Question 2:\n",
    "\n",
    "Find the composite score (best in each category) for each student"
   ]
  },
  {
   "cell_type": "markdown",
   "metadata": {},
   "source": [
    "Question 3:\n",
    "\n",
    "Okay, done with the warm up stuff.  Now find the most recent math score for each student"
   ]
  },
  {
   "cell_type": "markdown",
   "metadata": {},
   "source": [
    "Note that these next two assume that you were asked the previous three, otherwise they'd be cruel to ask in an interview (they build on these answers)"
   ]
  },
  {
   "cell_type": "markdown",
   "metadata": {},
   "source": [
    "Question 4:\n",
    "\n",
    "Find the average best verbal (so, best for each student, then averaged over students) score (two separate queries):\n",
    " - for each age (which presumably correlates with grade level)\n",
    " - for each state"
   ]
  },
  {
   "cell_type": "markdown",
   "metadata": {},
   "source": [
    "Question 5:\n",
    "\n",
    "List all states with (separate queries):\n",
    " - any math score above 700\n",
    " - an average best math score above 650"
   ]
  },
  {
   "cell_type": "markdown",
   "metadata": {},
   "source": [
    "Solutions appear below.  No peeking!  \n",
    "*  \n",
    "*  \n",
    "*  \n",
    "*  \n",
    "*  \n",
    "*  \n",
    "*  \n",
    "*  \n",
    "*  \n",
    "*  \n",
    "*  \n",
    "*  \n",
    "*  \n",
    "*  \n",
    "*  \n",
    "*  \n",
    "*  \n",
    "*  \n",
    "*  \n"
   ]
  },
  {
   "cell_type": "markdown",
   "metadata": {},
   "source": [
    "### Question 1"
   ]
  },
  {
   "cell_type": "code",
   "execution_count": null,
   "metadata": {},
   "outputs": [],
   "source": [
    "%%sql\n",
    "\n",
    "SELECT count(*) FROM students WHERE state in ('CA','WA','OR');\n"
   ]
  },
  {
   "cell_type": "markdown",
   "metadata": {},
   "source": [
    "### Question 2"
   ]
  },
  {
   "cell_type": "code",
   "execution_count": null,
   "metadata": {},
   "outputs": [],
   "source": [
    "%%sql\n",
    "\n",
    "SELECT studentid, MAX(math), MAX(verbal), MAX(writing),  \n",
    "MAX(math) + MAX(verbal) + MAX(writing) AS composite\n",
    "FROM scores GROUP BY 1;"
   ]
  },
  {
   "cell_type": "markdown",
   "metadata": {},
   "source": [
    "### Question 3"
   ]
  },
  {
   "cell_type": "code",
   "execution_count": null,
   "metadata": {},
   "outputs": [],
   "source": [
    "%%sql\n",
    "\n",
    "SELECT studentid, math FROM (SELECT * FROM (SELECT studentid, MAX(datetaken) AS recent FROM scores \n",
    "                                   WHERE math IS NOT NULL GROUP BY 1) AS a \n",
    "JOIN scores ON a.studentid = scores.studentid AND a.recent = scores.datetaken)"
   ]
  },
  {
   "cell_type": "markdown",
   "metadata": {},
   "source": [
    "### Question 4"
   ]
  },
  {
   "cell_type": "code",
   "execution_count": null,
   "metadata": {},
   "outputs": [],
   "source": [
    "%%sql\n",
    "\n",
    "WITH best AS (SELECT studentid, MAX(math) AS bestmath, MAX(verbal) AS bestverbal, \n",
    "              MAX(writing) AS bestwriting FROM scores GROUP BY 1)\n",
    "SELECT state, AVG(bestmath) FROM students join best ON students.studentid = best.studentid\n",
    "GROUP BY 1"
   ]
  },
  {
   "cell_type": "code",
   "execution_count": null,
   "metadata": {},
   "outputs": [],
   "source": [
    "%%sql\n",
    "\n",
    "WITH best AS (SELECT studentid, MAX(math) AS bestmath, MAX(verbal) AS bestverbal, \n",
    "              MAX(writing) AS bestwriting FROM scores GROUP BY 1)\n",
    "SELECT age, AVG(bestmath) FROM students join best ON students.studentid = best.studentid\n",
    "GROUP BY 1"
   ]
  },
  {
   "cell_type": "markdown",
   "metadata": {},
   "source": [
    "### Question 5"
   ]
  },
  {
   "cell_type": "code",
   "execution_count": null,
   "metadata": {},
   "outputs": [],
   "source": [
    "%%sql\n",
    "\n",
    "SELECT distinct state FROM students join scores ON students.studentid = scores.studentid\n",
    "WHERE math > 700"
   ]
  },
  {
   "cell_type": "code",
   "execution_count": null,
   "metadata": {},
   "outputs": [],
   "source": [
    "%%sql\n",
    "\n",
    "WITH best AS (SELECT studentid, MAX(math) AS bestmath, MAX(verbal) AS bestverbal, \n",
    "              MAX(writing) AS bestwriting FROM scores GROUP BY 1)\n",
    "SELECT state, AVG(bestmath) FROM students join best ON students.studentid = best.studentid\n",
    "GROUP BY 1\n",
    "HAVING AVG(bestmath) > 650"
   ]
  },
  {
   "cell_type": "markdown",
   "metadata": {},
   "source": [
    "*Copyright &copy; 2017 The Data Incubator.  All rights reserved.*"
   ]
  }
 ],
 "metadata": {
  "kernelspec": {
   "display_name": "Python 3",
   "language": "python",
   "name": "python3"
  },
  "nbclean": true
 },
 "nbformat": 4,
 "nbformat_minor": 0
}
