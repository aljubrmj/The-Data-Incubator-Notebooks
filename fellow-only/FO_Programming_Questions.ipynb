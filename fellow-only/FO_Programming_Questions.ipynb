{
 "cells": [
  {
   "cell_type": "code",
   "execution_count": null,
   "metadata": {},
   "outputs": [],
   "source": [
    "%matplotlib inline\n",
    "import matplotlib\n",
    "import seaborn as sns\n",
    "sns.set()\n",
    "matplotlib.rcParams['figure.dpi'] = 144"
   ]
  },
  {
   "cell_type": "markdown",
   "metadata": {},
   "source": [
    "# Coding Problems\n"
   ]
  },
  {
   "cell_type": "markdown",
   "metadata": {},
   "source": [
    "These questions come from [1](http://www.programcreek.com/2012/12/leetcode-solution-of-two-sum-in-java/)"
   ]
  },
  {
   "cell_type": "markdown",
   "metadata": {},
   "source": [
    "# Maximum Profit\n"
   ]
  },
  {
   "cell_type": "markdown",
   "metadata": {},
   "source": [
    "You have an array of minutely stock prices for `GOOG` in order.  That is, `S[0]` is the first price and `S[n]` is the last price.  What is the maximum amount of money that you can make from first buying a single share and then selling it (once) during the day?"
   ]
  },
  {
   "cell_type": "markdown",
   "metadata": {},
   "source": [
    "# Implement Binary Search\n"
   ]
  },
  {
   "cell_type": "markdown",
   "metadata": {},
   "source": [
    "Binary search or half-interval search algorithm finds the position of a specified input value (the search \"key\") within a sorted array.  Implement it."
   ]
  },
  {
   "cell_type": "markdown",
   "metadata": {},
   "source": [
    "# Reverse Digits of an Integer\n"
   ]
  },
  {
   "cell_type": "markdown",
   "metadata": {},
   "source": [
    "Example 1: x = 123, return 321\n",
    "Example 2: x = -123, return -321"
   ]
  },
  {
   "cell_type": "markdown",
   "metadata": {},
   "source": [
    "# Reverse a Linked List\n"
   ]
  },
  {
   "cell_type": "markdown",
   "metadata": {},
   "source": [
    "In computer science, a linked list is a data structure consisting of a group of nodes which together represent a sequence. Under the simplest form, each node is composed of a data point and a reference (in other words, a link) to the next node in the sequence.\n",
    "\n",
    "Define a singly-linked list.  Then write an algorithm to reverse it."
   ]
  },
  {
   "cell_type": "markdown",
   "metadata": {},
   "source": [
    "# Two Sum\n"
   ]
  },
  {
   "cell_type": "markdown",
   "metadata": {},
   "source": [
    "Write a function `two_sum` that takes two arguments: an array of numbers and a target number.  The function should return the two distinct numbers in the array that sum up to the target number."
   ]
  },
  {
   "cell_type": "markdown",
   "metadata": {},
   "source": [
    "# Longest Consecutive Sequence\n"
   ]
  },
  {
   "cell_type": "markdown",
   "metadata": {},
   "source": [
    "Given an unsorted array of integers, find the length of the longest consecutive elements sequence.  Note that the subsequence can move \"forward\" and \"backward\" in the array.  For example, given `[2,100,4,3,3]` has `[2,3,4]` as the longest consecutive subsequence. Its length is 3."
   ]
  },
  {
   "cell_type": "markdown",
   "metadata": {},
   "source": [
    "# nth Fibonacci Number"
   ]
  },
  {
   "cell_type": "markdown",
   "metadata": {},
   "source": [
    "The $n$th Fibonacci number is recursively defined as:\n",
    "\n",
    "$$\n",
    "\\begin{equation*}\n",
    "    f(n) = \\begin{cases}\n",
    "               0               & n = 0\\\\\n",
    "               1               & n = 1\\\\\n",
    "               f(n-1) + f(n-2) & \\text{otherwise}\n",
    "           \\end{cases}\n",
    "\\end{equation*}\n",
    "$$\n",
    "  \n",
    "Write an $O(n)$ time recursive function that returns the nth Fibonacci number. Hint: $O(n)$ space as well."
   ]
  },
  {
   "cell_type": "markdown",
   "metadata": {},
   "source": [
    "# Recursively Find an Element in a `BST`"
   ]
  },
  {
   "cell_type": "markdown",
   "metadata": {},
   "source": [
    "You have a binary *search* tree, with $n$ nodes, stored in the following `Node` structure:\n",
    "\n",
    "```python\n",
    "class Node(object):\n",
    "  def __init__(self, value=None, left=None, right=None):\n",
    "    self.value = value\n",
    "    self.left = left\n",
    "    self.right = right\n",
    "\n",
    "```\n",
    "\n",
    "Implement the following function, which finds a node starting at the root. Assume we consider nodes equal based on the 'value' field above, and 'value' is some sort of comparable thing (so we can use <, >, == in a natural way).\n",
    "\n",
    "```python\n",
    "def find(root, node):\n",
    "  pass\n",
    "```"
   ]
  },
  {
   "cell_type": "markdown",
   "metadata": {},
   "source": [
    "# Longest Palindromic Substring\n"
   ]
  },
  {
   "cell_type": "markdown",
   "metadata": {},
   "source": [
    "Given a string, find the longest substring which is a palindrome. For example, if the given string is `\"forgeeksskeegfor\"`, the output should be `\"geeksskeeg\"`."
   ]
  },
  {
   "cell_type": "markdown",
   "metadata": {},
   "source": [
    "# Binary Search Revisited"
   ]
  },
  {
   "cell_type": "markdown",
   "metadata": {},
   "source": [
    "Given an $n$-length list of unique integers sorted in ascending order and rotated an unknown number of times, give an $O(\\log n)$ algorithm to find an element in that list.\n",
    "Ex. [5, 7, 8, 1, 3, 4]\n"
   ]
  },
  {
   "cell_type": "markdown",
   "metadata": {},
   "source": [
    "# Letter Combinations of a Phone Number"
   ]
  },
  {
   "cell_type": "markdown",
   "metadata": {},
   "source": [
    "Given a digit string, return all possible letter combinations that the number could represent.\n",
    "\n",
    "Input: Digit string \"23\"\n",
    "\n",
    "Output: `[\"ad\", \"ae\", \"af\", \"bd\", \"be\", \"bf\", \"cd\", \"ce\", \"cf\"]`.\n"
   ]
  },
  {
   "cell_type": "markdown",
   "metadata": {},
   "source": [
    "# `BST` Subtree"
   ]
  },
  {
   "cell_type": "markdown",
   "metadata": {},
   "source": [
    "Given two root nodes of two `BSTs` (as defined earlier), write a function to determine whether one tree is a subtree of the other.\n",
    "\n",
    "```python\n",
    "class Node(object):\n",
    "  def __init__(self, value=None, left=None, right=None):\n",
    "    self.value = value\n",
    "    self.left = left\n",
    "    self.right = right\n",
    "```"
   ]
  },
  {
   "cell_type": "markdown",
   "metadata": {},
   "source": [
    "# Generalize This: Find a Path"
   ]
  },
  {
   "cell_type": "markdown",
   "metadata": {},
   "source": [
    "You have a graph stored in `Node` objects with the following structure:\n",
    "\n",
    "```python\n",
    "class Node(object):\n",
    "    def __init__(self, value, adjacencies=None):\n",
    "        self.value = value\n",
    "        #  A list of Node objects\n",
    "        self.adjacencies = adjacencies\n",
    "\n",
    "```\n",
    "\n",
    "Implement the following function, which takes a start `Node` and end `Node` as arguments, and return True if there is a path between the start and end `Node`s. As in the previous question, we'll take the convention that two nodes are equal based on their value.\n",
    "```python\n",
    "def path_exists(starting_node, end_node):\n",
    "    pass\n",
    "```"
   ]
  },
  {
   "cell_type": "markdown",
   "metadata": {},
   "source": [
    "# Merge Two Trees"
   ]
  },
  {
   "cell_type": "markdown",
   "metadata": {},
   "source": [
    "You have two (well-balanced) binary *search* trees, each with $O(n)$ nodes, stored in the following `Node` structure:\n",
    "\n",
    "```python\n",
    "class Node(object):\n",
    "    def __init__(self, value=None, left=None, right=None):\n",
    "        self.value = value\n",
    "        self.left = left\n",
    "        self.right = right\n",
    "\n",
    "```\n",
    "\n",
    "Implement the following function, which returns a merged, balanced, binary search tree.\n",
    "```python\n",
    "def merge(bst_1, bst_2):\n",
    "    pass\n",
    "```\n"
   ]
  },
  {
   "cell_type": "markdown",
   "metadata": {},
   "source": [
    "**Easy: (2 minutes)**\n",
    "\n",
    "1. Find the first non-repeated character in a string. What if the string is a stream / iterator (i.e. you can only call `.next()` and cannot look back)? http://javarevisited.blogspot.sg/2014/03/3-ways-to-find-first-non-repeated-character-String-programming-problem.html\n",
    "2. How do you check if two strings are an anagram?  http://javarevisited.blogspot.sg/2013/03/Anagram-how-to-check-if-two-string-are-anagrams-example-tutorial.html\n",
    "3. In an array, 1-100 numbers are stored.  If you believe one number is missing, how do you find it?  If you believe one number appears duplicate, how do you find it?  (see http://javarevisited.blogspot.com/2012/02/how-to-check-or-detect-duplicate.html and http://javarevisited.blogspot.sg/2014/01/how-to-remove-duplicates-from-array-java-without-collection-API.html)  *Bonus:* What if multiple values could be missing or duplicate?\n",
    "4. Given two arrays, find all numbers present in the first array that are not present in the second.\n",
    "5. How do you find the second highest number in a stream?  (http://java67.blogspot.sg/2014/03/how-to-find-top-two-maximum-number-from-integer-array-java.html)  What about the $n$th highest number?\n",
    "6. Design a queue using only stacks. http://stackoverflow.com/questions/69192/how-to-implement-a-queue-using-two-stacks\n",
    "7. Design a queue using a fixed size array (the array does not shrink or expand -- it has a static size). https://www.cs.bu.edu/teaching/c/queue/array/types.html\n",
    "8. You are given two lists of integers, identical except for one element. Find the unique element in $O(n)$ time and $O(1)$ space. http://www.geeksforgeeks.org/given-an-array-of-pairs-find-all-symmetric-pairs-in-it/\n",
    "\n",
    "\n",
    "**Harder: (5 minutes)**\n",
    "\n",
    "1. How do you detect if there is a cycle in a Linked List? http://en.wikipedia.org/wiki/Cycle_detection  *Bonus:* Given a linked list, how do you find the middle element in a single pass?  How do you find the $n$th element from the end?\n",
    "\n",
    "2. Given a [binary tree](http://en.wikipedia.org/wiki/Binary_tree) write a function that returns the depth of the tree.\n",
    "\n",
    "3. Given a [binary search tree](http://en.wikipedia.org/wiki/Binary_search_tree) write a function that returns the leaves of the tree in order.\n",
    "    \n",
    "4. Implement [quicksort](http://en.wikipedia.org/wiki/Quicksort) (and get all the details!).\n",
    "\n",
    "5. You need to write a function to climb $n$ steps. You can climb either 1 step at a time or 2 steps at a time. Write a function to return the number of ways to climb a ladder with $n$ steps.\n",
    "\n",
    "6. Find the median of two sorted lists in $O(n)$ time and $O(1)$ space. http://www.geeksforgeeks.org/median-of-two-sorted-arrays-of-different-sizes/\n",
    "\n",
    "7. Implement a `LRU` (\"Least Recently Used\") Cache -- a finite list of elements which evicts the least recently used element when the size of the cache has been exceeded. The cache should have methods to \"get\" an element (and hence update whether it was recently used) and to \"put\" an element (and possibly evict the least recently used element). Both the \"get\" and the \"put\" should work in constant time. http://www.geeksforgeeks.org/implement-lru-cache/\n",
    "\n",
    "**Want More questions?**  Here they are: http://www.impactinterview.com/2009/10/140-google-interview-questions/\n"
   ]
  },
  {
   "cell_type": "markdown",
   "metadata": {},
   "source": [
    "*Copyright &copy; 2019 The Data Incubator.  All rights reserved.*"
   ]
  }
 ],
 "metadata": {
  "kernelspec": {
   "display_name": "Python 3",
   "language": "python",
   "name": "python3"
  },
  "nbclean": true
 },
 "nbformat": 4,
 "nbformat_minor": 0
}
