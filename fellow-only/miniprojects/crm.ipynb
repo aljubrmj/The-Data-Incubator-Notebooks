{
 "cells": [
  {
   "cell_type": "code",
   "execution_count": null,
   "metadata": {},
   "outputs": [],
   "source": [
    "%matplotlib inline\n",
    "import matplotlib\n",
    "import seaborn as sns\n",
    "sns.set()\n",
    "matplotlib.rcParams['figure.dpi'] = 144"
   ]
  },
  {
   "cell_type": "code",
   "execution_count": null,
   "metadata": {},
   "outputs": [],
   "source": [
    "from static_grader import grader"
   ]
  },
  {
   "cell_type": "markdown",
   "metadata": {},
   "source": [
    "# CRM Quiz"
   ]
  },
  {
   "cell_type": "markdown",
   "metadata": {},
   "source": [
    "The CRM will be your interface to the hiring partners, so you'll need to know your way around it.  This quiz will check your understanding of it.  Unlike most miniprojects, this doesn't require any computation.  It's multiple choice, so just submit the number of the correct answer for each question.  You need to pass all of them before you can get CRM access.\n",
    "\n",
    "*N.B.* You ought to be able to answer these questions quickly, so you might run into the short-time rate limiter.  If that happens, just wait a minute before continuing."
   ]
  },
  {
   "cell_type": "markdown",
   "metadata": {},
   "source": [
    "# Questions\n"
   ]
  },
  {
   "cell_type": "markdown",
   "metadata": {},
   "source": [
    "## What does “Reach out to Partnerships Team” mean?"
   ]
  },
  {
   "cell_type": "markdown",
   "metadata": {},
   "source": [
    "1. Contact anyone at the company\n",
    "1. Slack anyone at TDI \n",
    "1. Email the Main Point of Contact at the hiring partner \n",
    "1. Slack the TDI Contact listed in bold "
   ]
  },
  {
   "cell_type": "code",
   "execution_count": null,
   "metadata": {},
   "outputs": [],
   "source": [
    "grader.score(\"crm__outreach_partnerships\", ...)"
   ]
  },
  {
   "cell_type": "markdown",
   "metadata": {},
   "source": [
    "## As per the Outreach Directions, who should you reach out to about this job?"
   ]
  },
  {
   "cell_type": "markdown",
   "metadata": {},
   "source": [
    "![CRM](https://s3.amazonaws.com/dataincubator-course/miniprojects/crm/crm.png)\n",
    "\n",
    "1. Karishma Patel \n",
    "1. Sarah Fugate\n",
    "1. Erika Underwood\n",
    "1. Alyssa Thomas"
   ]
  },
  {
   "cell_type": "code",
   "execution_count": null,
   "metadata": {},
   "outputs": [],
   "source": [
    "grader.score(\"crm__outreach_directions\", ...)"
   ]
  },
  {
   "cell_type": "markdown",
   "metadata": {},
   "source": [
    "## What does “Reach out directly to Point of Contact” mean?"
   ]
  },
  {
   "cell_type": "markdown",
   "metadata": {},
   "source": [
    "1. Contact anyone at the company\n",
    "1. Slack anyone at TDI \n",
    "1. Email the Main Point of Contact at the hiring partner \n",
    "1. Slack the TDI Contact listed in bold "
   ]
  },
  {
   "cell_type": "code",
   "execution_count": null,
   "metadata": {},
   "outputs": [],
   "source": [
    "grader.score(\"crm__outreach_contact\", ...)"
   ]
  },
  {
   "cell_type": "markdown",
   "metadata": {},
   "source": [
    "## What does “Hiring Opportunistically” mean?"
   ]
  },
  {
   "cell_type": "markdown",
   "metadata": {},
   "source": [
    "1. The company has indicated they have an open role and will be trying to fill it during this cohort \n",
    "1. The company is interested in speaking to select candidates, but does not necessarily have an open position \n",
    "1. This company is still an active TDI hiring partner, but does not have a current open role \n",
    "1. The company did not update their hiring status with TDI this cohort "
   ]
  },
  {
   "cell_type": "code",
   "execution_count": null,
   "metadata": {},
   "outputs": [],
   "source": [
    "grader.score(\"crm__hiring\", ...)"
   ]
  },
  {
   "cell_type": "markdown",
   "metadata": {},
   "source": [
    "## How many “Likes” do you have?"
   ]
  },
  {
   "cell_type": "markdown",
   "metadata": {},
   "source": [
    "1. Unlimited\n",
    "1. 5 to start, but you can get up to 10\n",
    "1. 10 \n",
    "1. It depends on how many companies you send cover letters to"
   ]
  },
  {
   "cell_type": "code",
   "execution_count": null,
   "metadata": {},
   "outputs": [],
   "source": [
    "grader.score(\"crm__likes\", ...)"
   ]
  },
  {
   "cell_type": "markdown",
   "metadata": {},
   "source": [
    "## If you have been asked to an interview, what do you need to do on your dashboard before and after the interview?"
   ]
  },
  {
   "cell_type": "markdown",
   "metadata": {},
   "source": [
    "1. Before: “Like” the company.  \n",
    "   After: Cross off the company so you don’t email them again\n",
    "1. Before: “Like” the company.  \n",
    "   After: Complete a post-interview form \n",
    "1. Before: Add the interview as an “event” on your calendar.  \n",
    "   After: Complete a post-interview form \n",
    "1. Before: Email other companies so you have something to fall back on.  \n",
    "   After: “Like” the company you emailed with to show them you are interested. "
   ]
  },
  {
   "cell_type": "code",
   "execution_count": null,
   "metadata": {},
   "outputs": [],
   "source": [
    "grader.score(\"crm__interview\", ...)"
   ]
  },
  {
   "cell_type": "markdown",
   "metadata": {},
   "source": [
    "## What is a Post-Interview Form?"
   ]
  },
  {
   "cell_type": "markdown",
   "metadata": {},
   "source": [
    "1. A brief survey about an interview that gives information about the company’s interview process and a subjective grading about how it went\n",
    "1. A brief survey about how you think you would fit in at the company \n",
    "1. A brief survey that asks you to rate your thoughts on the company \n",
    "1. None of the above "
   ]
  },
  {
   "cell_type": "code",
   "execution_count": null,
   "metadata": {},
   "outputs": [],
   "source": [
    "grader.score(\"crm__post_interview\", ...)"
   ]
  },
  {
   "cell_type": "markdown",
   "metadata": {},
   "source": [
    "## What is the primary purpose of the “announcements-201901” Slack channel?"
   ]
  },
  {
   "cell_type": "markdown",
   "metadata": {},
   "source": [
    "1. It’s a channel to state upcoming events and news for TDI participants\n",
    "1. It’s a channel in which job postings are sent out to current TDI participants \n",
    "1. It’s a channel that instructors use to message all TDI participants\n",
    "1. It’s a channel that all TDI staff and participants can use for fun"
   ]
  },
  {
   "cell_type": "code",
   "execution_count": null,
   "metadata": {},
   "outputs": [],
   "source": [
    "grader.score(\"crm__announcements\", ...)"
   ]
  },
  {
   "cell_type": "markdown",
   "metadata": {},
   "source": [
    "## When will CRM access be granted (provided you have completed mini projects and intro emails on time)?"
   ]
  },
  {
   "cell_type": "markdown",
   "metadata": {},
   "source": [
    "1. April 1st\n",
    "1. April 3rd\n",
    "1. April 10th\n",
    "1. April 23rd"
   ]
  },
  {
   "cell_type": "code",
   "execution_count": null,
   "metadata": {},
   "outputs": [],
   "source": [
    "grader.score(\"crm__crm\", ...)"
   ]
  },
  {
   "cell_type": "markdown",
   "metadata": {},
   "source": [
    "*Copyright &copy; 2019 The Data Incubator.  All rights reserved.*"
   ]
  }
 ],
 "metadata": {
  "kernelspec": {
   "display_name": "Python 3",
   "language": "python",
   "name": "python3"
  },
  "nbclean": true
 },
 "nbformat": 4,
 "nbformat_minor": 0
}
