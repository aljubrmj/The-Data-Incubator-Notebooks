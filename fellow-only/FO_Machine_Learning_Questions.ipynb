{
 "cells": [
  {
   "cell_type": "code",
   "execution_count": null,
   "metadata": {},
   "outputs": [],
   "source": [
    "%matplotlib inline\n",
    "import matplotlib\n",
    "import seaborn as sns\n",
    "sns.set()\n",
    "matplotlib.rcParams['figure.dpi'] = 144"
   ]
  },
  {
   "cell_type": "markdown",
   "metadata": {},
   "source": [
    "# Machine Learning Interview Questions"
   ]
  },
  {
   "cell_type": "markdown",
   "metadata": {},
   "source": [
    "## ML Fundamentals\n",
    "1. What’s the trade-off between bias and variance?\n",
    "2. What is the difference between supervised and unsupervised machine learning?\n",
    "3. When should you use classification over regression?\n",
    "4. What are hyperparameters, and how do they differ from parameters?\n",
    "5. What’s the difference between Type I and Type II error?\n",
    "6. Explain over- and under-fitting and how to combat them?\n",
    "7. What is regularization, and why do we use it?  Give some examples of common methods?\n",
    "8. Explain the difference between L1 and L2 regularization.\n",
    "9. What is the concern with an imbalanced data set? How would you deal with this?\n",
    "10. What evaluation approaches would you work to gauge the effectiveness of a machine learning model?\n",
    "11. Explain the benefit and drawback of making an ML model compared to an expert-created model to a non-technical person.\n"
   ]
  },
  {
   "cell_type": "markdown",
   "metadata": {},
   "source": [
    "## Handling Data\n",
    "1. What is data normalization and why do we need it?\n",
    "2. How do you handle missing or corrupted data in a data set?\n",
    "3. Explain dimensionality reduction, where it’s used, and its benefits?\n",
    "4. Explain Principal Component Analysis (PCA)?\n"
   ]
  },
  {
   "cell_type": "markdown",
   "metadata": {},
   "source": [
    "## More Specifics\n",
    "1. What are bagging and boosting?  What are they used for?\n",
    "2. What is the interpretation of regularization from a Bayesian point of view?\n",
    "3. What are the strengths and weaknesses of linear regression vs decision trees vs neural networks?\n",
    "4. How do you tell what features are important in a linear regression?  In a random forest?\n",
    "5. What is a support vector in a SVM?\n",
    "6. What is deep learning, and how does it contrast with other machine learning algorithms?\n",
    "7. What is online learning and when do you use it?\n",
    "8. What cross-validation technique would you use on a time series data set?\n",
    "9. What’s your favorite algorithm, and can you explain it to me in less than a minute?\n"
   ]
  },
  {
   "cell_type": "markdown",
   "metadata": {},
   "source": [
    "*Copyright &copy; 2018 The Data Incubator.  All rights reserved.*"
   ]
  }
 ],
 "metadata": {
  "kernelspec": {
   "display_name": "Python 3",
   "language": "python",
   "name": "python3"
  },
  "nbclean": true
 },
 "nbformat": 4,
 "nbformat_minor": 0
}
