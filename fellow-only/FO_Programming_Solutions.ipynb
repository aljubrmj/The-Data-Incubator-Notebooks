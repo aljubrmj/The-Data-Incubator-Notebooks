{
 "cells": [
  {
   "cell_type": "code",
   "execution_count": null,
   "metadata": {},
   "outputs": [],
   "source": [
    "%matplotlib inline\n",
    "import matplotlib\n",
    "import seaborn as sns\n",
    "sns.set()\n",
    "matplotlib.rcParams['figure.dpi'] = 144"
   ]
  },
  {
   "cell_type": "markdown",
   "metadata": {},
   "source": [
    "# Maximum Profit\n"
   ]
  },
  {
   "cell_type": "markdown",
   "metadata": {},
   "source": [
    "You have an array of minutely stock prices for `GOOG` in order.  That is, `S[0]` is the first price and `S[n]` is the last price.  What is the maximum amount of money that you can make from first buying a single share and then selling it (once) during the day?\n",
    "\n",
    "The solution should be $O(n)$.  Keep track of the `min_price` and `max_profit`."
   ]
  },
  {
   "cell_type": "code",
   "execution_count": null,
   "metadata": {},
   "outputs": [],
   "source": [
    "def max_price(S):\n",
    "    min_price = S[0]\n",
    "    max_profit = 0\n",
    "\n",
    "    for time in range(len(S)):\n",
    "        current_price = S[time]\n",
    "        min_price = min(min_price, current_price)\n",
    "        max_profit = max(max_profit, current_price - min_price)\n",
    "    return max_profit"
   ]
  },
  {
   "cell_type": "code",
   "execution_count": null,
   "metadata": {},
   "outputs": [],
   "source": [
    "assert max_price([0,0,0,0,0,0,0,0,0,0]) == 0\n",
    "assert max_price([10]) == 0\n",
    "assert max_price([10,9,8,7,6,5,4,3,2]) == 0\n",
    "assert max_price([1,4,10,2,34,1]) == 33\n",
    "assert max_price([15, 10, 12, 11, 100, 1, 10]) == 90"
   ]
  },
  {
   "cell_type": "markdown",
   "metadata": {},
   "source": [
    "# Implement Binary Search\n"
   ]
  },
  {
   "cell_type": "markdown",
   "metadata": {},
   "source": [
    "Binary search or half-interval search algorithm finds the position of a specified input value (the search \"key\") within a sorted array.  Implement it."
   ]
  },
  {
   "cell_type": "code",
   "execution_count": null,
   "metadata": {},
   "outputs": [],
   "source": [
    "def binarySearch(alist, item):\n",
    "    first = 0\n",
    "    last = len(alist)-1\n",
    "    found = False\n",
    "\n",
    "    while first<=last and not found:\n",
    "        midpoint = (first + last)//2  # divide and floor\n",
    "        if alist[midpoint] == item:\n",
    "            found = True\n",
    "        else:\n",
    "            if item < alist[midpoint]:\n",
    "                last = midpoint-1\n",
    "            else:\n",
    "                first = midpoint+1\n",
    "\n",
    "    if found:   #  Return index if found, otherwise return None\n",
    "        return midpoint\n",
    "    else:\n",
    "        return None"
   ]
  },
  {
   "cell_type": "code",
   "execution_count": null,
   "metadata": {},
   "outputs": [],
   "source": [
    "assert binarySearch([0,1,2,3,4,5,6,7,8,9], 6) == 6\n",
    "assert binarySearch([0,1,2,3,4,5,6,7,8,9], 0) == 0\n",
    "assert binarySearch([0,1,2,3,4,5,6,7,8,9], -1) == None\n",
    "assert binarySearch([], 10) == None\n",
    "assert binarySearch([-1,2,3,4,5,10], 10) == 5"
   ]
  },
  {
   "cell_type": "markdown",
   "metadata": {},
   "source": [
    "# Reverse Digits of an Integer\n"
   ]
  },
  {
   "cell_type": "markdown",
   "metadata": {},
   "source": [
    "Example 1: x = 123, return 321\n",
    "Example 2: x = -123, return -321\n",
    "\n",
    "http://www.geeksforgeeks.org/write-a-c-program-to-reverse-digits-of-a-number/\n",
    "\n",
    "Side note -\n",
    "With `typeseq` objects, the two colon extended slicing provides a reversed \n",
    "*copy* of the `typeseq` object as opposed to the .reverse method which \n",
    "reverses a `typeseq` object *in place* (and has no return value):"
   ]
  },
  {
   "cell_type": "code",
   "execution_count": null,
   "metadata": {},
   "outputs": [],
   "source": [
    "def reverse_digits(x):\n",
    "    if x < 0:\n",
    "        return int(str(x)[1:][::-1])*-1\n",
    "    else:\n",
    "        return int(str(x)[::-1])        "
   ]
  },
  {
   "cell_type": "code",
   "execution_count": null,
   "metadata": {},
   "outputs": [],
   "source": [
    "assert reverse_digits(123) == 321\n",
    "assert reverse_digits(-123) == -321\n",
    "assert reverse_digits(0) == 0\n",
    "assert reverse_digits(-1) == -1\n",
    "assert reverse_digits(10) == 1\n",
    "assert reverse_digits(-120) == -21"
   ]
  },
  {
   "cell_type": "markdown",
   "metadata": {},
   "source": [
    "# Reverse a Linked List\n"
   ]
  },
  {
   "cell_type": "markdown",
   "metadata": {},
   "source": [
    "In computer science, a linked list is a data structure consisting of a group of nodes which together represent a sequence. Under the simplest form, each node is composed of a data point and a reference (in other words, a link) to the next node in the sequence.\n",
    "\n",
    "Define a singly-linked list.  Then write an algorithm to reverse it.\n",
    "\n",
    "**Solution 1:** This is $O(n)$."
   ]
  },
  {
   "cell_type": "code",
   "execution_count": null,
   "metadata": {},
   "outputs": [],
   "source": [
    "class Node:\n",
    "    def __init__(self,val,nxt=None):\n",
    "        self.val = val\n",
    "        self.nxt = nxt  # None demarks end\n",
    "\n",
    "def reverse_llist(n):\n",
    "    last = None\n",
    "    current = n\n",
    " \n",
    "    while(current is not None):\n",
    "        nxt = current.nxt\n",
    "        current.nxt = last \n",
    "        last = current\n",
    "        current = nxt\n",
    " \n",
    "    return last"
   ]
  },
  {
   "cell_type": "code",
   "execution_count": null,
   "metadata": {},
   "outputs": [],
   "source": [
    "#  First construct a small linked list.\n",
    "last = Node(5)\n",
    "x = Node(4, last)\n",
    "x = Node(3, x)\n",
    "x = Node(2, x)\n",
    "first = Node(1, x)\n",
    "\n",
    "rev = reverse_llist(first)\n",
    "assert rev == last\n",
    "assert rev.val == 5\n",
    "\n",
    "rev = reverse_llist(rev)\n",
    "assert rev == first\n",
    "assert rev.val == 1"
   ]
  },
  {
   "cell_type": "markdown",
   "metadata": {},
   "source": [
    "# Two Sum\n"
   ]
  },
  {
   "cell_type": "markdown",
   "metadata": {},
   "source": [
    "Write a function `two_sum` that takes two arguments: an array of numbers and a target number.  The function should return the two distinct numbers in the array that sum up to the target number.\n",
    "\n",
    "**Solution 0:** Brute force: cycle through all $O(n^2)$ solutions.\n",
    "\n",
    "**Solution 1:** Sort the list ($O(n \\log n)$) and then keep two pointers, one at the left end and one on the right end, walking in."
   ]
  },
  {
   "cell_type": "code",
   "execution_count": null,
   "metadata": {},
   "outputs": [],
   "source": [
    "def two_sum(nums, target):\n",
    "    nums.sort()\n",
    "    left = 0\n",
    "    right = len(nums) - 1\n",
    "    while left < right:\n",
    "        csum = nums[left] + nums[right]\n",
    "        if csum == target:\n",
    "            return (nums[left], nums[right])\n",
    "        elif csum > target:\n",
    "            right = right - 1\n",
    "        else:\n",
    "            left = left + 1\n",
    "    return None"
   ]
  },
  {
   "cell_type": "code",
   "execution_count": null,
   "metadata": {},
   "outputs": [],
   "source": [
    "assert two_sum([0,1,2,3,4,5,6,7,8,9], 13) == (4,9)  #  Returned by this implementation!  (Obviously more than one\n",
    "                                                    #  solution is possible here.)\n",
    "assert two_sum([1,2,5,9,0,4,7,6,8,3], 13) == (4,9)\n",
    "assert two_sum([0,1,2,3,4,5,6,7,8,9], 20) == None\n",
    "assert two_sum([5], 10) == None\n",
    "assert two_sum([-2,-3,4,-2,1,2,0], 0) == (-2,2)\n",
    "assert two_sum([3,-2,4,-1,0], 5) == None"
   ]
  },
  {
   "cell_type": "markdown",
   "metadata": {},
   "source": [
    "**Solution 2:** Use a hash map to store the distance from target ($O(n)$)."
   ]
  },
  {
   "cell_type": "code",
   "execution_count": null,
   "metadata": {},
   "outputs": [],
   "source": [
    "def two_sum(nums, target):\n",
    "    d = {}\n",
    "    for i in range(len(nums)):\n",
    "        x = nums[i]\n",
    "        if target - x in d:\n",
    "            return (x, target-x)\n",
    "        d[x] = target-x\n",
    "\n",
    "    return None"
   ]
  },
  {
   "cell_type": "code",
   "execution_count": null,
   "metadata": {},
   "outputs": [],
   "source": [
    "#  The output very much depends upon the order of the input list, namely when the second number of the first\n",
    "#  pair that sums to the target is found, the output will be (second number, first number).  \n",
    "assert two_sum([0,1,2,3,4,5,6,7,8,9], 13) == (7,6) \n",
    "assert two_sum([1,2,5,9,0,4,7,6,8,3], 13) == (4,9)\n",
    "assert two_sum([0,1,2,3,4,5,6,7,8,9], 20) == None\n",
    "assert two_sum([5], 10) == None\n",
    "assert two_sum([-2,-3,4,-2,1,2,0], 0) == (2,-2)\n",
    "assert two_sum([3,-2,4,-1,0], 5) == None"
   ]
  },
  {
   "cell_type": "markdown",
   "metadata": {},
   "source": [
    "# Longest Consecutive Sequence\n"
   ]
  },
  {
   "cell_type": "markdown",
   "metadata": {},
   "source": [
    "Given an unsorted array of integers, find the length of the longest consecutive elements sequence.  Note that the subsequence can move \"forward\" and \"backward\" in the array.  For example, given `[2,100,4,3,3]` has `[2,3,4]` as the longest consecutive subsequence. Its length is 3.\n",
    "\n",
    "**Solution 1:** Sort the list and process the value in order $O(n \\log n)$.\n",
    "\n",
    "**Solution 2:** Throw everything into a hash table and then solve the dynamic programming problem and is $O(n)$:"
   ]
  },
  {
   "cell_type": "code",
   "execution_count": null,
   "metadata": {},
   "outputs": [],
   "source": [
    "def longestConsecutive(num):\n",
    "    visited = {x: False for x in num}\n",
    "    max_len = -1\n",
    "    for i in num:\n",
    "        if not visited[i]:\n",
    "            curr = i + 1             # expand to the right\n",
    "            len_right = 0\n",
    "            while curr in visited:\n",
    "                len_right += 1\n",
    "                visited[curr] = True\n",
    "                curr += 1\n",
    "                \n",
    "            curr = i - 1             # expand to the left\n",
    "            len_left = 0\n",
    "            while curr in visited:\n",
    "                len_left += 1\n",
    "                visited[curr] = True\n",
    "                curr -= 1\n",
    "            max_len = max(max_len, len_left + len_right + 1)\n",
    "    return max_len"
   ]
  },
  {
   "cell_type": "code",
   "execution_count": null,
   "metadata": {},
   "outputs": [],
   "source": [
    "assert longestConsecutive([2,100,4,3,3]) == 3\n",
    "assert longestConsecutive([2,4,6,8]) == 1\n",
    "assert longestConsecutive([10]) == 1\n",
    "assert longestConsecutive([1,3,2,4,0]) == 5\n",
    "assert longestConsecutive([-1,0,5,1]) == 3"
   ]
  },
  {
   "cell_type": "markdown",
   "metadata": {},
   "source": [
    "# nth Fibonacci Number"
   ]
  },
  {
   "cell_type": "markdown",
   "metadata": {},
   "source": [
    "The $n$th Fibonacci number is recursively defined as:\n",
    "\n",
    "$$\n",
    "\\begin{equation*}\n",
    "    f(n) = \\begin{cases}\n",
    "               0               & n = 0\\\\\n",
    "               1               & n = 1\\\\\n",
    "               f(n-1) + f(n-2) & \\text{otherwise}\n",
    "           \\end{cases}\n",
    "\\end{equation*}\n",
    "$$\n",
    "  \n",
    "Write an $O(n)$ time recursive function that returns the nth Fibonacci number. Hint: $O(n)$ space as well.\n",
    "\n",
    "**Solution:**\n",
    "Basically, implement the definition, but with a global table at which we store the $n$th Fibonacci number.  This lookup table makes the algorithm run in time $O(n)$, as we fill in a missing value in the table once, and otherwise look it up when it's required.  "
   ]
  },
  {
   "cell_type": "code",
   "execution_count": null,
   "metadata": {},
   "outputs": [],
   "source": [
    "fib_table = {}\n",
    "def fib(n):\n",
    "    if n == 0:\n",
    "        return 0\n",
    "    if n == 1:\n",
    "        return 1\n",
    "    elif n in fib_table:\n",
    "        return fib_table[n]\n",
    "\n",
    "    fib_n = fib(n-2) + fib(n-1)\n",
    "    fib_table[n] = fib_n\n",
    "    return fib_n"
   ]
  },
  {
   "cell_type": "code",
   "execution_count": null,
   "metadata": {},
   "outputs": [],
   "source": [
    "assert fib(0) == 0\n",
    "assert fib(1) == 1\n",
    "assert fib(5) == 5\n",
    "assert fib(10) == 55\n",
    "assert fib(20) == 6765"
   ]
  },
  {
   "cell_type": "markdown",
   "metadata": {},
   "source": [
    "You can also get this down to $O(\\log n)$ time using matrix operations and/or other identities involving the Fibonacci numbers. (See [here](http://www.nayuki.io/page/fast-fibonacci-algorithms).)"
   ]
  },
  {
   "cell_type": "markdown",
   "metadata": {},
   "source": [
    "# Recursively Find an Element in a `BST`"
   ]
  },
  {
   "cell_type": "markdown",
   "metadata": {},
   "source": [
    "You have a binary *search* tree, with $n$ nodes, stored in the following `Node` structure:"
   ]
  },
  {
   "cell_type": "code",
   "execution_count": null,
   "metadata": {},
   "outputs": [],
   "source": [
    "class Node(object):\n",
    "    def __init__(self, value = None, left=None, right=None):\n",
    "        self.value = value\n",
    "        self.left = left\n",
    "        self.right = right"
   ]
  },
  {
   "cell_type": "markdown",
   "metadata": {},
   "source": [
    "Implement the following function, which finds a node starting at the root. Assume we consider nodes equal based on the 'value' field above, and 'value' is some sort of comparable thing (so we can use <, >, == in a natural way)."
   ]
  },
  {
   "cell_type": "code",
   "execution_count": null,
   "metadata": {},
   "outputs": [],
   "source": [
    "def find(root, node):\n",
    "    pass"
   ]
  },
  {
   "cell_type": "markdown",
   "metadata": {},
   "source": [
    "**Solution:**\n",
    "As per the definition of a binary search tree, it's easy to narrow down to the correct element using what boils down to a recursive binary search!"
   ]
  },
  {
   "cell_type": "code",
   "execution_count": null,
   "metadata": {},
   "outputs": [],
   "source": [
    "def find(root, node):\n",
    "    if root == None:\n",
    "        return False\n",
    "    elif node.value == root.value:\n",
    "        return True\n",
    "    elif node.value < root.value:  #By BST ordering, node must be to the left.\n",
    "        return find(root.left, node)\n",
    "    else:\n",
    "        return find(root.right, node)"
   ]
  },
  {
   "cell_type": "code",
   "execution_count": null,
   "metadata": {},
   "outputs": [],
   "source": [
    "#  Build a small BST.  (Draw a picture to see that it's a BST!)\n",
    "x1 = Node(20)\n",
    "x2 = Node(25)\n",
    "x3 = Node(22, x1, x2)\n",
    "x4 = Node(18, None, x3)\n",
    "\n",
    "x5 = Node(-1)\n",
    "x6 = Node(5)\n",
    "x7 = Node(3, x5, x6)\n",
    "\n",
    "x8 = Node(7)\n",
    "x9 = Node(12)\n",
    "x10 = Node(10, x8, x9)\n",
    "\n",
    "x11 = Node(6, x7, x10)\n",
    "\n",
    "x12 = Node(15, x11, x4)"
   ]
  },
  {
   "cell_type": "code",
   "execution_count": null,
   "metadata": {},
   "outputs": [],
   "source": [
    "assert find(x12, x1) == True\n",
    "assert find(x12, x9) == True\n",
    "\n",
    "y1 = Node(27)\n",
    "assert find(x12, y1) == False\n",
    "\n",
    "assert find(x4, x3) == True\n",
    "assert find(x11, x2) == False\n",
    "\n",
    "y2 = Node(10)\n",
    "assert find(x12, y2) == True  #  Search is only based on \"value\" in the Node, so this will find 10 in the BST."
   ]
  },
  {
   "cell_type": "markdown",
   "metadata": {},
   "source": [
    "# Longest Palindromic Substring\n"
   ]
  },
  {
   "cell_type": "markdown",
   "metadata": {},
   "source": [
    "Given a string, find the longest substring which is a palindrome. For example, if the given string is `\"forgeeksskeegfor\"`, the output should be `\"geeksskeeg\"`.\n",
    "\n",
    "**Solution 1:** Examine all substrings of all possible lengths $O(n^3)$.\n",
    "    \n",
    "**Solution 2:** Go through `for i in range(len(s))` to find the longest palindrome centered at `i` (and `[i, i + 1`]).  Take the max of these.  This is $O(n^2)$."
   ]
  },
  {
   "cell_type": "code",
   "execution_count": null,
   "metadata": {},
   "outputs": [],
   "source": [
    "def longest_palindrome(s):\n",
    "    longest = \"\"\n",
    "    for i in range(len(s)):\n",
    "        j = 0       # get longest string centered on i\n",
    "        while 0 <= i - j and i + j < len(s) and s[i - j] == s[i + j]:\n",
    "            j += 1\n",
    "        j -= 1      # went one step too far\n",
    "        if 2 * j + 1 > len(longest):\n",
    "            longest = s[i - j: i + j + 1]\n",
    "\n",
    "        j = 0 # get longest string centered on (i, i + 1)\n",
    "        while 0 <= i - j and i + j + 1 < len(s) and s[i - j] == s[i + j + 1]:\n",
    "            j += 1\n",
    "        j -= 1       # went one step too far \n",
    "        if 2 * j + 2 > len(longest):\n",
    "            longest = s[i - j: i + j + 2]\n",
    "    return longest"
   ]
  },
  {
   "cell_type": "code",
   "execution_count": null,
   "metadata": {},
   "outputs": [],
   "source": [
    "assert longest_palindrome(\"forgeeksskeegfor\") == \"geeksskeeg\"\n",
    "assert longest_palindrome(\"madam\") == \"madam\"\n",
    "assert longest_palindrome(\"abcdefghijklmnopqrstuvwxyz\") == \"a\"  #  Takes the first palindrome of the longest length.\n",
    "assert longest_palindrome(\"banana\") == \"anana\""
   ]
  },
  {
   "cell_type": "markdown",
   "metadata": {},
   "source": [
    "**Solution 3:** If you really want to impress someone, [this](http://www.geeksforgeeks.org/manachers-algorithm-linear-time-longest-palindromic-substring-part-1/) will find palindromes in $O(n)$ time."
   ]
  },
  {
   "cell_type": "markdown",
   "metadata": {},
   "source": [
    "# Binary Search Revisited"
   ]
  },
  {
   "cell_type": "markdown",
   "metadata": {},
   "source": [
    "Given an $n$-length list of unique integers sorted in ascending order and rotated an unknown number of times, give an $O(\\log n)$ algorithm to find an element in that list.\n",
    "Ex. [5, 7, 8, 1, 3, 4]\n",
    "\n",
    "**Solution:**\n",
    "The important part of this question is understanding the methodology that leads us to find the modification.\n"
   ]
  },
  {
   "cell_type": "markdown",
   "metadata": {},
   "source": [
    "## Modify Binary Search"
   ]
  },
  {
   "cell_type": "markdown",
   "metadata": {},
   "source": [
    "1. Discover new cases: Let's think about our array. We know the split occurs either to the left of our midpoint, or to the right of our midpoint. What condition can we immediately check to determine where the spit is relative to us?\n",
    "2. Once we narrow down into one of those two cases, what exactly could happen with the element in question? Where could it be in the array?\n",
    "3. *Important* Once we have the main idea, double-check that we don't have fencepost errors (arguably the trickiest part of this question in an interview setting). "
   ]
  },
  {
   "cell_type": "code",
   "execution_count": null,
   "metadata": {},
   "outputs": [],
   "source": [
    "def binary_search(to_search, x):\n",
    "    lower, upper = 0, len(to_search)-1\n",
    "    while lower <= upper:\n",
    "        mid = (lower + upper) // 2\n",
    "        if x == to_search[mid]:     # don't forget this case!\n",
    "            return mid\n",
    "        #list is well-ordered on left side -- split point is somewhere to the right of mid\n",
    "        elif to_search[lower] <= to_search[mid]:\n",
    "            #x is not to the left of where we are.\n",
    "            if x > to_search[mid]:\n",
    "                lower = mid + 1\n",
    "            #x is between mid and lower\n",
    "            elif x >= to_search[lower]:\n",
    "                upper = mid - 1\n",
    "            #ROTATION CASE: \n",
    "            # x < to_search[mid], but it's less than the lowermost element,\n",
    "            # so it occurs after the split, before the end of the array\n",
    "            else:\n",
    "                lower = mid + 1\n",
    "        # Below this, the 'split' occurs somewhere to the left of mid\n",
    "        # i.e. everything to the right of mid > mid\n",
    "    \n",
    "        #x *must* be to the left of mid (do you see why?)\n",
    "        elif x < to_search[mid]:\n",
    "            upper = mid - 1\n",
    "        #if here, upper > x > mid, so we must move right\n",
    "        elif x <= to_search[upper]:\n",
    "            lower = mid + 1\n",
    "        #if here, x > mid, but x > upper, so we're going to \n",
    "        #have to check the highest elements on the left side\n",
    "        #(the ones just before the split)\n",
    "        else: \n",
    "            upper = mid - 1\n",
    "            \n",
    "    return None"
   ]
  },
  {
   "cell_type": "code",
   "execution_count": null,
   "metadata": {},
   "outputs": [],
   "source": [
    "assert binary_search([5, 7, 8, 1, 3, 4], 5) == 0\n",
    "assert binary_search([1, 3, 4, 5, 7, 8], 5) == 3\n",
    "assert binary_search([8, 1, 3, 4, 5, 7], 5) == 4\n",
    "assert binary_search([3, 4, 5, 7, 8, 1], 1) == 5\n",
    "assert binary_search([5, 7, 8, 1, 3, 4], 10) == None"
   ]
  },
  {
   "cell_type": "markdown",
   "metadata": {},
   "source": [
    "## Another Possible Algorithm (Sketch)\n"
   ]
  },
  {
   "cell_type": "markdown",
   "metadata": {},
   "source": [
    "1. Determine the two indices where the 'split' happens [ $O(\\log n)$ ]\n",
    "2. Do normal binary search on the left array, and the right array [ $O(\\log n)$ for each subsequent search ]"
   ]
  },
  {
   "cell_type": "markdown",
   "metadata": {},
   "source": [
    "# Letter Combinations of a Phone Number"
   ]
  },
  {
   "cell_type": "markdown",
   "metadata": {},
   "source": [
    "Given a digit string, return all possible letter combinations that the number could represent.\n",
    "\n",
    "Input: Digit string \"23\"\n",
    "\n",
    "Output: `[\"ad\", \"ae\", \"af\", \"bd\", \"be\", \"bf\", \"cd\", \"ce\", \"cf\"]`.\n",
    "\n",
    "http://stackoverflow.com/questions/2344496/how-can-i-print-out-all-possible-letter-combinations-a-given-phone-number-can-re"
   ]
  },
  {
   "cell_type": "code",
   "execution_count": null,
   "metadata": {},
   "outputs": [],
   "source": [
    "def letterCombinations(digits):\n",
    "    # Mapping table for translating number to letters\n",
    "    num2letter = {\"2\":\"abc\", \"3\":\"def\", \"4\":\"ghi\", \"5\":\"jkl\",\"6\":\"mno\", \"7\":\"pqrs\", \"8\":\"tuv\", \"9\":\"wxyz\"}\n",
    " \n",
    "    # The result for an empty string is an empty string.\n",
    "    if len(digits) == 0:    \n",
    "        return [\"\"]\n",
    "\n",
    "    # We are only handling numbers from 2 to 9.\n",
    "    if not digits[0] in num2letter:\n",
    "        raise LookupError(\"Unacceptable input.\")\n",
    "        \n",
    "    # Terminate case for recursion\n",
    "    if len(digits) == 1: \n",
    "        return list(num2letter[digits])\n",
    " \n",
    "    # The strings for the current digit.\n",
    "    temp = list(num2letter[digits[0]])\n",
    "    result = []\n",
    "    # Recursion case. Append the recursion result to each string for current digit.\n",
    "    for tail in letterCombinations(digits[1:]):\n",
    "        result.extend([i+tail for i in temp])\n",
    " \n",
    "    return sorted(result)   #  \"Sorted\" called to make the output consistent with the above example and \n",
    "                            #  to make testing easier.  "
   ]
  },
  {
   "cell_type": "code",
   "execution_count": null,
   "metadata": {},
   "outputs": [],
   "source": [
    "assert letterCombinations(\"23\") == ['ad', 'ae', 'af', 'bd', 'be', 'bf', 'cd', 'ce', 'cf']\n",
    "assert letterCombinations(\"238\") == ['adt','adu','adv','aet','aeu','aev','aft','afu','afv','bdt','bdu','bdv',\n",
    "                                     'bet','beu','bev','bft','bfu','bfv','cdt','cdu','cdv','cet','ceu','cev',\n",
    "                                     'cft','cfu','cfv']\n",
    "assert letterCombinations(\"7\") == ['p', 'q', 'r', 's']"
   ]
  },
  {
   "cell_type": "markdown",
   "metadata": {},
   "source": [
    "# `BST` Subtree"
   ]
  },
  {
   "cell_type": "markdown",
   "metadata": {},
   "source": [
    "Given two root nodes of two `BSTs` (as defined earlier), write a function to determine whether one tree is a subtree of the other."
   ]
  },
  {
   "cell_type": "code",
   "execution_count": null,
   "metadata": {},
   "outputs": [],
   "source": [
    "class Node(object):\n",
    "    def __init__(self, value=None, left=None, right=None):\n",
    "        self.value = value\n",
    "        self.left = left\n",
    "        self.right = right"
   ]
  },
  {
   "cell_type": "markdown",
   "metadata": {},
   "source": [
    "**Solution:**\n",
    "Suppose our trees are called T1 and T2. Let's say we're determining whether T2 is in T1. Likewise for the other case.\n",
    "\n",
    "1. We modify `find()` to return the `Node` in question (or None). Next, we call `find(T1, T2)`. If `find()` returns a Node (call it T3), we have to compare T3 and T2 for equality.\n",
    "2. The easiest way to do this is with a quick recursive tree traversal. \n",
    "\n",
    "Step 1 is $O(\\log n)$ (we assume nice trees each of size $O(n)$). Step 2 is $O(n)$, because we visit each element of the trees once."
   ]
  },
  {
   "cell_type": "code",
   "execution_count": null,
   "metadata": {},
   "outputs": [],
   "source": [
    "#  Modification of the \"find\" method as described above.  \n",
    "def find(root, node):\n",
    "    if root is None or node is None:\n",
    "        return None\n",
    "    elif node.value == root.value:\n",
    "        return root\n",
    "    elif node.value < root.value:  #By BST ordering, node must be to the left.\n",
    "        return find(root.left, node)\n",
    "    else:\n",
    "        return find(root.right, node)"
   ]
  },
  {
   "cell_type": "code",
   "execution_count": null,
   "metadata": {},
   "outputs": [],
   "source": [
    "def one_subtree_of_other(T1, T2):\n",
    "    return check_subtree(T1, T2) or check_subtree(T2, T1)\n",
    "\n",
    "def check_subtree(tree, subtree):\n",
    "    \"\"\"\n",
    "    Checks whether 'subtree' is a subtree of 'tree'.\n",
    "    \"\"\"\n",
    "    if tree is None or subtree is None:\n",
    "        return tree == subtree\n",
    "    \n",
    "    #find() has been modified as described above\n",
    "    subtree_root = find(tree, subtree)\n",
    "    if not subtree_root:\n",
    "        return False\n",
    "    else: \n",
    "        return (check_subtree(subtree_root.left, subtree.left) and check_subtree(subtree_root.right, subtree.right))"
   ]
  },
  {
   "cell_type": "code",
   "execution_count": null,
   "metadata": {},
   "outputs": [],
   "source": [
    "#  Let's use the BST we made earlier following the \"Recursively Find an Element in a BST\" problem.\n",
    "\n",
    "assert one_subtree_of_other(x12, x3) == True\n",
    "assert one_subtree_of_other(x3, x12) == True\n",
    "assert one_subtree_of_other(x4, x3) == True\n",
    "assert one_subtree_of_other(x4, x11) == False\n",
    "assert one_subtree_of_other(x7, x10) == False\n",
    "assert one_subtree_of_other(x12, y1) == False\n",
    "assert one_subtree_of_other(x12, y2) == False"
   ]
  },
  {
   "cell_type": "markdown",
   "metadata": {},
   "source": [
    "# Generalize This: Find a Path"
   ]
  },
  {
   "cell_type": "markdown",
   "metadata": {},
   "source": [
    "You have a graph stored in `Node` objects with the following structure:"
   ]
  },
  {
   "cell_type": "code",
   "execution_count": null,
   "metadata": {},
   "outputs": [],
   "source": [
    "class Node(object):\n",
    "    def __init__(self, value, adjacencies=None):\n",
    "        self.value = value\n",
    "        #  A list of Node objects\n",
    "        self.adjacencies = adjacencies"
   ]
  },
  {
   "cell_type": "markdown",
   "metadata": {},
   "source": [
    "Implement the following function, which takes a start `Node` and end `Node` as arguments, and returns True if there is a path between the start and end `Node`s. As in the previous question, we'll take the convention that two nodes are equal based on their value."
   ]
  },
  {
   "cell_type": "code",
   "execution_count": null,
   "metadata": {},
   "outputs": [],
   "source": [
    "def path_exists(starting_node, end_node):\n",
    "    pass"
   ]
  },
  {
   "cell_type": "markdown",
   "metadata": {},
   "source": [
    "**Solution:**\n",
    "Breadth first-search or depth-first search (easy to find on your favorite search engine)."
   ]
  },
  {
   "cell_type": "markdown",
   "metadata": {},
   "source": [
    "# Merge Two Trees"
   ]
  },
  {
   "cell_type": "markdown",
   "metadata": {},
   "source": [
    "You have two (well-balanced) binary *search* trees, each with $O(n)$ nodes, stored in the following `Node` structure:"
   ]
  },
  {
   "cell_type": "code",
   "execution_count": null,
   "metadata": {},
   "outputs": [],
   "source": [
    "class Node(object):\n",
    "    def __init__(self, value=None, left=None, right=None):\n",
    "        self.value = value\n",
    "        self.left = left\n",
    "        self.right = right"
   ]
  },
  {
   "cell_type": "markdown",
   "metadata": {},
   "source": [
    "Implement the following function, which returns a merged, balanced, binary search tree."
   ]
  },
  {
   "cell_type": "code",
   "execution_count": null,
   "metadata": {},
   "outputs": [],
   "source": [
    "def merge(bst_1, bst_2):\n",
    "    pass"
   ]
  },
  {
   "cell_type": "markdown",
   "metadata": {},
   "source": [
    "**Solution:**\n",
    "Basically the same as merge sort - do an in-order traversal of both trees, pulling the smallest element from each into a new array. From that array, it's easy to construct a new, balanced `BST`. $O(n)$ time and $O(n)$ space (but see comments in `merge_lists` below)."
   ]
  },
  {
   "cell_type": "code",
   "execution_count": null,
   "metadata": {},
   "outputs": [],
   "source": [
    "def merge_trees(T1, T2):\n",
    "    L1 = inorder_list(T1, [])\n",
    "    L2 = inorder_list(T2, [])\n",
    "    return merge_lists(L1, L2)\n",
    "\n",
    "def inorder_list(T1, list_obj):\n",
    "    \"\"\"\n",
    "    Relies on binary search property to create a list of the values in the tree in sorted order.\n",
    "    \"\"\"\n",
    "    if not T1:\n",
    "        return list_obj\n",
    "    else:\n",
    "        inorder_list(T1.left, list_obj)\n",
    "        list_obj.append(T1.value)\n",
    "        inorder_list(T1.right, list_obj)\n",
    "        return list_obj\n",
    "\n",
    "def merge_lists(L1, L2):\n",
    "    \"\"\"\n",
    "    Assumes that L1 and L2 are already sorted.  To get O(n) complexity, we \n",
    "    start by reversing each list, and then comparing from the end of L1 and L2\n",
    "    to create the merged list.  Otherwise (in the typical way of comparing from \n",
    "    the start of the lists), we'd end up with O(n^2) by popping elements\n",
    "    from the front of the lists.\n",
    "    \"\"\"\n",
    "    merged_list = []\n",
    "    L1.reverse()\n",
    "    L2.reverse()\n",
    "    \n",
    "    #  While something in both lists, take the smaller element of the front of each.  \n",
    "    while L1 and L2:\n",
    "        if L1[-1] < L2[-1]:\n",
    "            merged_list.append(L1.pop())  #  Recall 'pop' removes and returns an element at an index, the last\n",
    "                                          #  index by default.  \n",
    "        else:\n",
    "            merged_list.append(L2.pop())\n",
    "            \n",
    "    #  Merge the rest of a list that remains.  \n",
    "    if len(L2) > 0:\n",
    "        L2.reverse()\n",
    "        return merged_list + L2\n",
    "    elif len(L1) > 0:\n",
    "        L1.reverse()\n",
    "        return merged_list + L1\n",
    "    else:\n",
    "        return merged_list"
   ]
  },
  {
   "cell_type": "code",
   "execution_count": null,
   "metadata": {},
   "outputs": [],
   "source": [
    "z1 = Node(4)\n",
    "z2 = Node(30)\n",
    "z3 = Node(21, z1, z2)\n",
    "z4 = Node(-3, None, z3)"
   ]
  },
  {
   "cell_type": "code",
   "execution_count": null,
   "metadata": {},
   "outputs": [],
   "source": [
    "assert merge_trees(x12, z4) == [-3, -1, 3, 4, 5, 6, 7, 10, 12, 15, 18, 20, 21, 22, 25, 30]\n",
    "assert merge_trees(x12, z3) == [-1, 3, 4, 5, 6, 7, 10, 12, 15, 18, 20, 21, 22, 25, 30]\n",
    "assert merge_trees(x10, z1) == [4, 7, 10, 12]\n",
    "assert merge_trees(z1,z2) == [4, 30]"
   ]
  },
  {
   "cell_type": "markdown",
   "metadata": {},
   "source": [
    "**Remarks:**  \n",
    "1.  As you can see here, we still need to actually implement the `merge` method to construct a new \"well-balanced\" binary search tree.  `merge_trees` gives the list of combined elements in sorted order of both trees.  An additional method is required to construct the tree itself.  \n",
    "1.  An unstated assumption in the implementation above is that the two merged trees don't share any common values in the nodes.  Indeed, the typical definition of a binary search tree is that the values stored in them have no repeats.  While the `merge_lists` method will work just fine with repeated values (meaning that the resulting merged list will be correctly sorted having the repeated values), we'd have to modify `merge_lists` to only keep one copy of repeated values.  \n",
    "1.  Interested readers are referred to [AVL Trees](https://en.wikipedia.org/wiki/AVL_tree) and similar structures like [Red-black Trees](https://en.wikipedia.org/wiki/Red%E2%80%93black_tree) for further discussion about \"self-balancing trees\".  \n",
    "1.  The usual way to construct a balanced binary search tree (such as an AVL tree) would give you an algorithm that is $O(n\\log n)$, since the final step of building the tree will have that time complexity.  "
   ]
  },
  {
   "cell_type": "markdown",
   "metadata": {},
   "source": [
    "**Easy: (2 minutes)**\n",
    "\n",
    "1. Find the first non-repeated character in a string. What if the string is a stream / iterator (i.e. you can only call `.next()` and cannot look back)? http://javarevisited.blogspot.sg/2014/03/3-ways-to-find-first-non-repeated-character-String-programming-problem.html\n",
    "2. How do you check if two strings are an anagram?  http://javarevisited.blogspot.sg/2013/03/Anagram-how-to-check-if-two-string-are-anagrams-example-tutorial.html\n",
    "3. In an array, 1-100 numbers are stored.  If you believe one number is missing, how do you find it?  If you believe one number appears duplicate, how do you find it?  (see http://javarevisited.blogspot.com/2012/02/how-to-check-or-detect-duplicate.html and http://javarevisited.blogspot.sg/2014/01/how-to-remove-duplicates-from-array-java-without-collection-API.html)  *Bonus:* What if multiple values could be missing or duplicate?\n",
    "4. Given two arrays, find all numbers present in the first array that are not present in the second.\n",
    "5. How do you find the second highest number in a stream?  (http://java67.blogspot.sg/2014/03/how-to-find-top-two-maximum-number-from-integer-array-java.html)  What about the $n$th highest number?\n",
    "6. Design a queue using only stacks. http://stackoverflow.com/questions/69192/how-to-implement-a-queue-using-two-stacks\n",
    "7. Design a queue using a fixed size array (the array does not shrink or expand -- it has a static size). https://www.cs.bu.edu/teaching/c/queue/array/types.html\n",
    "8. You are given two lists of integers, identical except for one element. Find the unique element in $O(n)$ time and $O(1)$ space. http://www.geeksforgeeks.org/given-an-array-of-pairs-find-all-symmetric-pairs-in-it/\n",
    "\n",
    "\n",
    "**Harder: (5 minutes)**\n",
    "\n",
    "1. How do you detect if there is a cycle in a Linked List? http://en.wikipedia.org/wiki/Cycle_detection  *Bonus:* Given a linked list, how do you find the middle element in a single pass?  How do you find the $n$th element from the end?\n",
    "\n",
    "2. Given a [binary tree](http://en.wikipedia.org/wiki/Binary_tree) write a function that returns the depth of the tree.\n",
    "\n",
    "3. Given a [binary search tree](http://en.wikipedia.org/wiki/Binary_search_tree) write a function that returns the leaves of the tree in order.\n",
    "    \n",
    "4. Implement [quicksort](http://en.wikipedia.org/wiki/Quicksort) (and get all the details!).\n",
    "\n",
    "5. You need to write a function to climb $n$ steps. You can climb either 1 step at a time or 2 steps at a time. Write a function to return the number of ways to climb a ladder with $n$ steps.\n",
    "\n",
    "6. Find the median of two sorted lists in $O(n)$ time and $O(1)$ space. http://www.geeksforgeeks.org/median-of-two-sorted-arrays-of-different-sizes/\n",
    "\n",
    "7. Implement a `LRU` (\"Least Recently Used\") Cache -- a finite list of elements which evicts the least recently used element when the size of the cache has been exceeded. The cache should have methods to \"get\" an element (and hence update whether it was recently used) and to \"put\" an element (and possibly evict the least recently used element). Both the \"get\" and the \"put\" should work in constant time. http://www.geeksforgeeks.org/implement-lru-cache/\n",
    "\n",
    "**Want More questions?**  Here they are: http://www.impactinterview.com/2009/10/140-google-interview-questions/"
   ]
  },
  {
   "cell_type": "markdown",
   "metadata": {},
   "source": [
    "*Copyright &copy; 2019 The Data Incubator.  All rights reserved.*"
   ]
  }
 ],
 "metadata": {
  "kernelspec": {
   "display_name": "Python 3",
   "language": "python",
   "name": "python3"
  },
  "nbclean": true
 },
 "nbformat": 4,
 "nbformat_minor": 0
}
