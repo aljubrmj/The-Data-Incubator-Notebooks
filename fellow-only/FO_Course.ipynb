{
 "cells": [
  {
   "cell_type": "code",
   "execution_count": null,
   "metadata": {},
   "outputs": [],
   "source": [
    "%matplotlib inline\n",
    "import matplotlib\n",
    "import seaborn as sns\n",
    "sns.set()\n",
    "matplotlib.rcParams['figure.dpi'] = 144"
   ]
  },
  {
   "cell_type": "markdown",
   "metadata": {},
   "source": [
    "# Datacourse Index"
   ]
  },
  {
   "cell_type": "markdown",
   "metadata": {},
   "source": [
    "## Daily / Weekly Format:\n"
   ]
  },
  {
   "cell_type": "markdown",
   "metadata": {},
   "source": [
    "The main parts of the course are the lecture and miniprojects.\n",
    "\n",
    "- **Lecture:** We'll work through the course material each day at 12 PM EST.  Friday is interview practice day.\n",
    "\n",
    "- **Miniprojects:** Each week's action items are due *by Saturday night*.  We had consensus amongst prior Fellows that working on miniprojects gave them the exposure to concepts that a single large project did not.  Fellows that did miniprojects also had a better chance of getting placed.\n",
    "\n",
    "We encourage the posting of advice/issues/resolved problems on the wiki in the [subpages](https://sites.google.com/a/thedataincubator.com/the-data-incubator-wiki/course-information-and-logistics/course) of the Course section.\n"
   ]
  },
  {
   "cell_type": "markdown",
   "metadata": {},
   "source": [
    "### Interview Practice"
   ]
  },
  {
   "cell_type": "markdown",
   "metadata": {},
   "source": [
    "We'll do a little bit of practice with interviewing on Fridays.  Here are some notes:\n",
    "- [Programming_Questions](FO_Programming_Questions.ipynb)\n",
    "- [Statistics_Questions](FO_Statistics_Questions.ipynb)\n",
    "  \n",
    "**WARNING:** *It's tempting to just \"discuss the problems in a group.\"  The main point of practicing for interviews is practicing and getting familiar with thinking on your feet with no guidance.  \"Discussing problems in a group\" is not at all useful for this.  We suggest that everyone should solve the problem on their own, timed (give yourself 5 minutes), preferably while standing.  You want to feel as comfortable with this as possible because you will be much more nervous when you interview.  You can discuss the problems afterwards.*\n",
    "    "
   ]
  },
  {
   "cell_type": "markdown",
   "metadata": {},
   "source": [
    "### Capstone Projects\n"
   ]
  },
  {
   "cell_type": "markdown",
   "metadata": {},
   "source": [
    "**Ghosting** your project and loading your data:\n",
    "1. Decide on the basic format of your presentation (website, `ipynb` etc.).  Build a bare-bones version of your website / `ipynb` with some fake data, which are the results you think you'll get.  Your work should tell a story and all the supporting points (there should be at most 3) need to reinforce this story.  Think about how you would present your results.  What kind of graph or visualizations would you need?  Plan your analysis accordingly.\n",
    "1. Once you know the destination, it's a lot easier to lay the groundwork.  That means setting up SQL tables, getting pandas dataframe code loaded, and joining appropriate tables so that you can start working.\n",
    "\n",
    "Capstone projects are an important part of the program.  The advantages of doing a capstone project include:\n",
    "1. Being invited to pitch them to employers at our employer events.\n",
    "1. Some employers judge Fellows based on projects and this can result in invitations to pitch to employers onsite.\n",
    "1. In the past, completing projects consistently resulted in multiple (and higher) offers for Fellows.\n",
    "\n",
    "We're going to be doing 1-2 min screencasts each week.  The format of the video should be roughly:\n",
    "\n",
    "1. Introduce yourself, say 1 - 2 sentences about your academic background.  (\"Hi, I'm Michael.  I got my PhD at Princeton in Applied Math\").\n",
    "2. Introduce your project for The Data Incubator.  Why is it important to businesses?  (\"My Data Incubator project uses machine learning to identify the cutest cat videos on the internet\").\n",
    "3. Talk through two to three \"analytical\" or \"engineering\" points that were *interesting*.  Great lines feel like this:\n",
    "    - We looked at 5 million user reviews collected over 4 years on Yelp.\n",
    "    - I'm using Mongo, a No-SQL data store, to make my webpage load faster.  \n",
    "    - I used cross validation to train a Random Forest for my `Citibike` demand predictions.\n",
    "    - I realized that restaurant category tagging was inconsistent and I used a Naive Bayes model on tip text to fill in missing categories.\n",
    "\n",
    "Be sure to be very visual in your explanations (basically, if it can be graphed, do it).  The format should be you showing off your website (if you have one) and code.\n",
    "\n",
    "**Sample Screencasts:**\n",
    "- Here's one that's thematically similar, discussing building a `reddit` recommender: https://www.youtube.com/watch?v=lGXQ8mQMR0s\n",
    "- Some more from the same Harvard class (CS 109) about [the flu](https://www.youtube.com/watch?v=_eUDtxGzOMo), [predicting salaries](https://www.youtube.com/watch?v=9odQde25oSQ), [predicting NBA games](https://www.youtube.com/watch?v=HlF6eXJ4UgQ), [Twitter response to the Boston Marathon bombing](https://www.youtube.com/watch?v=IbXRxmNn-Jk)\n",
    "\n",
    "**Resources:**\n",
    "1. You can use your camera to record the introduction of yourself and your project.\n",
    "1. You can do a screencast (recording your audio and your desktop as you scroll through demoing things) for the demo portion.  Here are instructions for doing it on [OSX](http://thenextweb.com/apple/2011/01/15/how-to-record-quick-easy-screencast-videos-with-mac-osx/).1. [Recommended Project Structure](Project_Structure.ipynb)"
   ]
  },
  {
   "cell_type": "markdown",
   "metadata": {},
   "source": [
    "## Overview for Week 1:\n"
   ]
  },
  {
   "cell_type": "markdown",
   "metadata": {},
   "source": [
    "**Goal:** Developing familiarity with basic Python tools and getting practice with them for data analysis\n",
    "\n",
    "- [NumPy and SciPy](../data-wrangling/DW_Numpy_Scipy.ipynb)\n",
    "- [Matplotlib](../data-wrangling/DW_Matplotlib.ipynb)\n",
    "- [Pandas](../data-wrangling/DW_Pandas.ipynb)\n",
    "- [Scraping](../data-wrangling/DW_Scraping.ipynb)\n",
    "- [APIs and JSON](../data-wrangling/DW_APIs_and_JSON.ipynb)\n",
    "- [Advanced SQL](../data-wrangling/DW_Advanced_SQL.ipynb)\n",
    "- [Good Engineering Practice](../data-wrangling/DW_Good_Engineering_Practice.ipynb)\n",
    "\n",
    "**Optional Topics:**\n",
    "\n",
    "- [Handling Strings in Python](../data-wrangling/DW_Dealing_with_Strings.ipynb)\n",
    "- [Iterators and Generators](../data-wrangling/DW_Iterators_Generators_and_Coroutines.ipynb)\n",
    "- [What Technology to Use](../data-wrangling/DW_What_Technology_to_Use.ipynb)\n"
   ]
  },
  {
   "cell_type": "markdown",
   "metadata": {},
   "source": [
    "## Overview for Week 2:\n"
   ]
  },
  {
   "cell_type": "markdown",
   "metadata": {},
   "source": [
    "**Goal:** Developing familiarity with machine-learning and the Python tooling around it\n",
    "\n",
    "- [Intro Machine Learning](../machine-learning/ML_Introduction.ipynb)\n",
    "- [Overfitting](../machine-learning/ML_Overfitting.ipynb)\n",
    "- [Regression](../machine-learning/ML_Regression.ipynb)\n",
    "- [Unsupervised Learning](../machine-learning/ML_Unsupervised_Learning.ipynb)\n",
    "- [Scikit-learn Workflow](../machine-learning/ML_Scikit_Learn_Workflow.ipynb)\n",
    "\n",
    "**Optional Topics:**\n",
    "- [K Nearest Neighbors](../machine-learning/ML_K_Nearest_Neighbors.ipynb)"
   ]
  },
  {
   "cell_type": "markdown",
   "metadata": {},
   "source": [
    "## Overview for Week 3:\n"
   ]
  },
  {
   "cell_type": "markdown",
   "metadata": {},
   "source": [
    "**Goal:** Data Science in Production\n",
    "- [Bash](../production/PR_Bash.ipynb)\n",
    "- [git](../production/PR_git.ipynb)\n",
    "- [SSH](../production/PR_SSH.ipynb)\n"
   ]
  },
  {
   "cell_type": "markdown",
   "metadata": {},
   "source": [
    "## Overview for Week 4:\n"
   ]
  },
  {
   "cell_type": "markdown",
   "metadata": {},
   "source": [
    "**Goal:** Thinking about and practicing data visualization\n",
    "- [Visualization Theory](../viz/VZ_Perception_and_Data_Visualization.ipynb)\n",
    "- [Layout & Design](../viz/VZ_Layout_and_Design.ipynb)\n",
    "- [Exploratory Visualization](../viz/VZ_Exploratory_Visualization.ipynb)\n",
    "- [JavaScript in Python](../viz/VZ_JavaScript_In_Python.ipynb)\n",
    "- [JavaScript Primer](../viz/VZ_JavaScript_Primer.ipynb)\n",
    "- [JavaScript and the DOM](../viz/VZ_JavaScript_The_DOM.ipynb)\n",
    "- [Explanatory Visualization with D3](../viz/VZ_D3js_Explanatory_Visualization.ipynb)\n"
   ]
  },
  {
   "cell_type": "markdown",
   "metadata": {},
   "source": [
    "### Optional topics"
   ]
  },
  {
   "cell_type": "markdown",
   "metadata": {},
   "source": [
    "- [Visualizing Large / High Dimensional Data sets](../viz/VZ_Exploratory_Visualization_of_Large_Datasets.ipynb)\n",
    "- [Advanced D3](../viz/VZ_D3js_Advanced_Topics.ipynb)\n",
    "\n",
    "**Action Item (ungraded):** Update your 12-day project to include real-time interactivity such as sliders or drop-down menus. Feel free to use different data sets (e.g. Yelp reviews) to make something interesting and attractive."
   ]
  },
  {
   "cell_type": "markdown",
   "metadata": {},
   "source": [
    "## Overview for Week 5:\n"
   ]
  },
  {
   "cell_type": "markdown",
   "metadata": {},
   "source": [
    "**Goal:** More advanced topics in machine-learning and statistics.\n",
    "\n",
    "- [Support Vector Machines](../advanced-machine-learning/AM_Support_Vector_Machines.ipynb)\n",
    "- [Decision Trees and Random Forests](../advanced-machine-learning/AM_Decision_Trees_and_Random_Forests.ipynb)\n",
    "- [Choosing ML Algorithms](../advanced-machine-learning/AM_Choosing_ML_Algorithms.ipynb)\n",
    "- [Natural Language Processing](../advanced-machine-learning/AM_Natural_Language_Processing.ipynb)\n",
    "- [Time Series](../advanced-machine-learning/AM_Time_Series.ipynb)\n",
    "\n",
    "**Optional Topics:**\n",
    "\n",
    "- [Outlier Detection](../advanced-machine-learning/AM_Outlier_Detection.ipynb)\n",
    "- [Recommendation Engines](../advanced-machine-learning/AM_Recommendation_Engines.ipynb)\n",
    "- [Unbalanced Classes](../advanced-machine-learning/AM_Unbalanced_Classes.ipynb)\n",
    "- [Digital Signals](../advanced-machine-learning/AM_Digital_Signals.ipynb)"
   ]
  },
  {
   "cell_type": "markdown",
   "metadata": {},
   "source": [
    "## Overview for Week 6:\n"
   ]
  },
  {
   "cell_type": "markdown",
   "metadata": {},
   "source": [
    "**Goal:** Introduce Spark and the Python/Scala APIs; get a feel for a production data workload\n",
    "- [Intro to PySpark](../spark/SP_Python_API.ipynb)\n",
    "- [PySpark DataFrames](../spark/SP_Python_DataFrames.ipynb)\n",
    "- [PySpark MLlib](../spark/SP_Python_MLlib.ipynb)\n",
    "- [Creating Spark Applications](../spark/SP_Creating_Applications.ipynb)\n",
    "- [Spark Advanced Topics](../spark/SP_Python_Advanced_Topics.ipynb)\n"
   ]
  },
  {
   "cell_type": "markdown",
   "metadata": {},
   "source": [
    "### Scala versions"
   ]
  },
  {
   "cell_type": "markdown",
   "metadata": {},
   "source": [
    "- [Scala Primer](../spark/SP_Scala_Primer.ipynb)\n",
    "- [Intro to Scala Spark](../spark/SP_Scala_API.ipynb)\n",
    "- [Scala DataFrames](../spark/SP_Scala_DataFrames.ipynb)\n",
    "- [Scala MLlib](../spark/SP_Scala_MLlib.ipynb)\n"
   ]
  },
  {
   "cell_type": "markdown",
   "metadata": {},
   "source": [
    "### Optional topics"
   ]
  },
  {
   "cell_type": "markdown",
   "metadata": {},
   "source": [
    "- [Intro to SparkR](../spark/SP_R_API.ipynb)\n",
    "- [Spark Streaming](../spark/SP_Scala_Streaming.ipynb)\n",
    "- [PySpark Analysis Demo](../spark/SP_Python_Tweet_Analysis.ipynb)\n",
    "- [Scalding](../spark/SP_Scalding.ipynb)"
   ]
  },
  {
   "cell_type": "markdown",
   "metadata": {},
   "source": [
    "## Overview for Week 7:\n"
   ]
  },
  {
   "cell_type": "markdown",
   "metadata": {},
   "source": [
    "**Goal:** Thinking more broadly about data and interview prep\n",
    "- [Hypothesis Testing](../thinking-outside-data/DB_Hypothesis_Testing.ipynb)\n",
    "- [Thinking Outside the Data](../thinking-outside-data/DB_Thinking_Outside_the_Data.ipynb)\n",
    "- [Case Studies](../thinking-outside-data/DB_Case_Studies.ipynb)\n",
    "\n",
    "**Optional Topics:**\n",
    "- [Algorithms and Data Structures](../thinking-outside-data/DB_Algorithms_and_Data_Structures.ipynb)\n",
    "- [Statistics](../thinking-outside-data/DB_Statistics.ipynb)\n",
    "- [Personal Interview Questions](../thinking-outside-data/DB_Personal_Interview_Questions.ipynb)"
   ]
  },
  {
   "cell_type": "markdown",
   "metadata": {},
   "source": [
    "## Overview for Week 8:\n"
   ]
  },
  {
   "cell_type": "markdown",
   "metadata": {},
   "source": [
    "**Goal:** Deep learning and TensorFlow\n",
    "- [Intro to TensorFlow](../tensorflow/TF_Intro_to_Tensorflow.ipynb)\n",
    "- [Iterative Algorithms](../tensorflow/TF_Iterative_Algorithms.ipynb)\n",
    "- [Basic Neural Networks](../tensorflow/TF_Basic_Neural_Networks.ipynb)\n",
    "- [Deep Neural Networks](../tensorflow/TF_Deep_NN.ipynb)\n",
    "- [Convolutional Neural Networks](../tensorflow/TF_Convolutional_NN.ipynb)\n",
    "- [Recurrent Neural Networks](../tensorflow/TF_Recurrent_Neural_Networks.ipynb)\n"
   ]
  },
  {
   "cell_type": "markdown",
   "metadata": {},
   "source": [
    "### Optional Topics:"
   ]
  },
  {
   "cell_type": "markdown",
   "metadata": {},
   "source": [
    "- [Variational Autoencoders](../tensorflow/TF_Variational_Auto_Encoders.ipynb)\n",
    "- [Adversarial Noise](../tensorflow/TF_Adversarial_Noise.ipynb)\n",
    "- [DeepDream](../tensorflow/TF_DeepDream.ipynb)\n",
    "- [Optimization](../tensorflow/TF_Optimization.ipynb)\n"
   ]
  },
  {
   "cell_type": "markdown",
   "metadata": {},
   "source": [
    "*Copyright &copy; 2019 The Data Incubator.  All rights reserved.*"
   ]
  }
 ],
 "metadata": {
  "kernelspec": {
   "display_name": "Python 3",
   "language": "python",
   "name": "python3"
  },
  "nbclean": true
 },
 "nbformat": 4,
 "nbformat_minor": 0
}
