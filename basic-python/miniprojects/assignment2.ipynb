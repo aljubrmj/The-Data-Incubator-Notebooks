{
 "cells": [
  {
   "cell_type": "code",
   "execution_count": null,
   "metadata": {},
   "outputs": [],
   "source": [
    "%matplotlib inline\n",
    "import matplotlib\n",
    "import seaborn as sns\n",
    "sns.set()\n",
    "matplotlib.rcParams['figure.dpi'] = 144"
   ]
  },
  {
   "cell_type": "code",
   "execution_count": null,
   "metadata": {},
   "outputs": [],
   "source": [
    "from static_grader import grader"
   ]
  },
  {
   "cell_type": "markdown",
   "metadata": {},
   "source": [
    "# Assignment 2: Basic Python"
   ]
  },
  {
   "cell_type": "markdown",
   "metadata": {},
   "source": [
    "The purpose of this assignment is to test your Python skills. Try to solve each problem as efficiently as you can."
   ]
  },
  {
   "cell_type": "markdown",
   "metadata": {},
   "source": [
    "## Question 1\n",
    "\n",
    "The sum of all odd perfect squares less than $10^2$ is \n",
    "\n",
    "$$ 1+9+25+49+81 = 165 $$\n",
    "\n",
    "What is the sum of all odd perfect squares less than $10^8$?"
   ]
  },
  {
   "cell_type": "code",
   "execution_count": null,
   "metadata": {},
   "outputs": [],
   "source": [
    "sum_ = ..."
   ]
  },
  {
   "cell_type": "code",
   "execution_count": null,
   "metadata": {},
   "outputs": [],
   "source": [
    "grader.score(\"assignment2__odd_square_sum\", sum_)"
   ]
  },
  {
   "cell_type": "markdown",
   "metadata": {},
   "source": [
    "## Question 2\n",
    "\n",
    "The [Collatz conjecture](https://en.wikipedia.org/wiki/Collatz_conjecture) is concerned with the following process: given a positive integer $n$, we recursively replace $n$ by $n \\div 2$ if $n$ is even, or by $3n+1$ if $n$ is odd. This process is repeated until we reach the value $1$. For example, if we start with $n=3$, then we get the sequence\n",
    "\n",
    "$$3, 10, 5, 16, 8, 4, 2, 1$$\n",
    "\n",
    "and which has length $8$. Write a function that takes a positive integer as input and returns the length of its Collatz sequence."
   ]
  },
  {
   "cell_type": "code",
   "execution_count": null,
   "metadata": {},
   "outputs": [],
   "source": [
    "def collatz_length(n):\n",
    "    ... "
   ]
  },
  {
   "cell_type": "code",
   "execution_count": null,
   "metadata": {},
   "outputs": [],
   "source": [
    "grader.score(\"assignment2__collatz\", collatz_length)"
   ]
  },
  {
   "cell_type": "markdown",
   "metadata": {},
   "source": [
    "## Question 3\n",
    "\n",
    "This is a two part question about strings. \n",
    "\n",
    "First, write a function that rearranges the words in a string to be in alphabetical order. "
   ]
  },
  {
   "cell_type": "code",
   "execution_count": null,
   "metadata": {},
   "outputs": [],
   "source": [
    "def sort_words(string):\n",
    "    ..."
   ]
  },
  {
   "cell_type": "markdown",
   "metadata": {},
   "source": [
    "**Checkpoint:** Your function should turn `\"python is pretty cool\"` into `\"cool is pretty python\"`. "
   ]
  },
  {
   "cell_type": "markdown",
   "metadata": {},
   "source": [
    "You may assume that the input strings are nice:\n",
    "\n",
    "* Input strings consist only of words separated by single spaces.\n",
    "* They have no punctuation and are all lower case.\n",
    "\n",
    "Next, write a function that takes a list of words as input and applies `sort_words` to each."
   ]
  },
  {
   "cell_type": "code",
   "execution_count": null,
   "metadata": {},
   "outputs": [],
   "source": [
    "def apply_to_list(string_list):\n",
    "    ..."
   ]
  },
  {
   "cell_type": "markdown",
   "metadata": {},
   "source": [
    "**Checkpoint:** Your function should turn `[\"banana apple\", \"cat elephant dog\"]` into `[\"apple banana\", \"cat dog elephant\"]`."
   ]
  },
  {
   "cell_type": "code",
   "execution_count": null,
   "metadata": {},
   "outputs": [],
   "source": [
    "grader.score(\"assignment2__sorting_fun\", apply_to_list)"
   ]
  },
  {
   "cell_type": "markdown",
   "metadata": {},
   "source": [
    "## Question 4\n",
    "\n",
    "The first part of this question is about reading data from a file.\n",
    "\n",
    "First we'll download the file from Amazon S3:"
   ]
  },
  {
   "cell_type": "code",
   "execution_count": null,
   "metadata": {},
   "outputs": [],
   "source": [
    "!aws s3 sync s3://dataincubator-course/assignment2/ . --exclude '*' --include 'list.json'"
   ]
  },
  {
   "cell_type": "markdown",
   "metadata": {},
   "source": [
    "Load the content of `list.json` into memory as a python list called `data`. \n",
    "\n",
    "Note that the file is in JSON format. We recommend using the [`json` module](https://docs.python.org/3/library/json.html) to decode it."
   ]
  },
  {
   "cell_type": "code",
   "execution_count": null,
   "metadata": {},
   "outputs": [],
   "source": [
    "data = ..."
   ]
  },
  {
   "cell_type": "markdown",
   "metadata": {},
   "source": [
    "`data` is a list whose elements alternate between pairs of letters (like `aa`) and sequences of digits (like `3, 6, 7...`):\n",
    "\n",
    ">  `['aa', 3, 6, 7, 1, 5, 1, 8, 7, 'ab', 3, 2, 9, 4, 1, 4, 2, 6, 8, 'ac', 9, 2, 5, 8, 4, 1, 6, 4, 'ad', 2, 5, 'ae', 9, 6, 6, 'af', 2, 5, 'ag', 8,` ...\n",
    "\n",
    ">  ... `'zv', 8, 7, 6, 8, 6, 3, 3, 'zw', 3, 4, 5, 5, 5, 7, 2, 'zx', 4, 1, 3, 3, 7, 1, 8, 3, 'zy', 8, 2, 3, 4, 7, 1, 3, 3, 6, 'zz', 9, 3, 3, 4, 3, 7]`\n",
    "\n",
    "Create a dictionary `answer` that counts the number of digits following each pair of letters.\n",
    "\n",
    "For example, we should have `answer['aa'] = 8` because `aa` is followed by `3, 6, 7, 1, 5, 1, 8, 7`."
   ]
  },
  {
   "cell_type": "code",
   "execution_count": null,
   "metadata": {},
   "outputs": [],
   "source": [
    "answer = ..."
   ]
  },
  {
   "cell_type": "markdown",
   "metadata": {},
   "source": [
    "**Checkpoint:** Your answer should satisfy `answer['ab'] = 9` and `answer['zz'] = 6`."
   ]
  },
  {
   "cell_type": "code",
   "execution_count": null,
   "metadata": {},
   "outputs": [],
   "source": [
    "grader.score(\"assignment2__dictionary_building\", answer)"
   ]
  },
  {
   "cell_type": "markdown",
   "metadata": {},
   "source": [
    "*Copyright &copy; 2019 The Data Incubator.  All rights reserved.*"
   ]
  }
 ],
 "metadata": {
  "kernelspec": {
   "display_name": "Python 3",
   "language": "python",
   "name": "python3"
  },
  "nbclean": true
 },
 "nbformat": 4,
 "nbformat_minor": 0
}
