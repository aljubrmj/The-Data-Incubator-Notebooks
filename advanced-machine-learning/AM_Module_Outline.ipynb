{
 "cells": [
  {
   "cell_type": "code",
   "execution_count": null,
   "metadata": {},
   "outputs": [],
   "source": [
    "%matplotlib inline\n",
    "import matplotlib\n",
    "import seaborn as sns\n",
    "sns.set()\n",
    "matplotlib.rcParams['figure.dpi'] = 144"
   ]
  },
  {
   "cell_type": "markdown",
   "metadata": {},
   "source": [
    "# Advanced Machine Learning\n",
    "<!--exclude from index-->"
   ]
  },
  {
   "cell_type": "markdown",
   "metadata": {},
   "source": [
    "## Module description"
   ]
  },
  {
   "cell_type": "markdown",
   "metadata": {},
   "source": [
    "Advanced Machine Learning is a continuation of our Machine Learning study track.  As the module name suggests, we push beyond the basics into advanced techniques with a particular focus on handling unstructured data such as text.  We discuss \"bag of words\" models, feature engineering, and topic modeling to extract useful information from text including sentiment analysis.  We also explore techniques such as support vector machines, decision trees, random forests, time series, and signal processing.  Students come away with intuition about the suitability of different techniques for different problems.  \n",
    "\n",
    "Several real-world applications such as recommendation systems, outlier detection, and sentiment analysis are included in the module, with case studies that demonstrate advanced machine learning methods to solve common problems.   \n",
    "\n",
    "We continue coverage of the powerful and widely-used Python package `Scikit-Learn` including implementation of customized transformers and estimators to develop a full \"Extract-Transform-Load\" pipeline that turns raw data into useful outcomes.  "
   ]
  },
  {
   "cell_type": "markdown",
   "metadata": {},
   "source": [
    "## Learning outcomes\n",
    "\n",
    "At the conclusion of this module, students should: \n",
    "\n",
    "* Have familiarity with advanced machine learning tools in Scikit-Learn such as:\n",
    "   - `CountVectorizer`, `HashingVectorizer`, and `TfidfVectorizer` for working with text data\n",
    "   - Support Vector Machines for regression and classification, as well as outlier/novelty detection\n",
    "   - Decision Trees and Random Forests\n",
    "* Be familiar with methods for processing text data for topic classification and sentiment analysis\n",
    "* Understand different metrics for measuring the performance of machine learning models, e.g. accuracy vs precision in classification, and when those metrics are appropriate to be used\n",
    "* Be able to work with the Scikit-Learn API, specifically: \n",
    "   - Know how to create custom estimators and transformers to manipulate data effectively and build specialized prediction methods\n",
    "   - Be able to effectively use built-in tools such as `Pipeline` and `FeatureUnion` to produce a \"start-to-end\" ETL workflow\n",
    "* Know common procedures for analyzing time series data\n",
    "* Have a good intuition about what machine learning methods are appropriate for use in different situations\n"
   ]
  },
  {
   "cell_type": "markdown",
   "metadata": {},
   "source": [
    "## Prerequisites\n",
    "\n",
    "We assume an understanding of the Python programming language, including data types such as `list`, `dict`, and `tuple`, list and dictionary comprehensions, writing functions, and basic object-oriented programming techniques in Python.  \n",
    "\n",
    "In addition, students should have understanding of the Pandas `DataFrame` data structure, and methods to manipulate data in a `DataFrame` (such as selecting, filtering, creating new columns from existing columns, and understanding the various ways of indexing and slicing DataFrames), and NumPy arrays.  \n",
    "\n",
    "We also expect students to have familiarity with some basic machine learning algorithms such as linear regression, logistic regression, $k$-nearest neighbors, and decision trees, together with knowledge of how these methods can be used for regression or classification purposes.  \n",
    "\n",
    "Finally, students should be able to use the `Pipeline` and `FeatureUnion` objects in the Scikit-Learn library, together with transformers and estimators, to construct a start-to-end \"Extract-Transform-Load\" pipeline taking data from raw form to final prediction.    "
   ]
  },
  {
   "cell_type": "markdown",
   "metadata": {},
   "source": [
    "## Suggested notebooks\n",
    "\n",
    "Due to time constraints, it is unlikely that all of these notebooks will be covered during the course of the module.  We begin with `AM_Natural_Language_Processing`, but which additional notebooks are covered can depend upon the desires of the students and/or the instructor.  \n",
    "\n",
    "1.  `AM_Natural_Language_Processing`\n",
    "1.  `AM_Sentiment_Analysis`\n",
    "1.  `AM_Decision_Trees_and_Random_Forests`\n",
    "1.  `AM_Support_Vector_Machines`\n",
    "1.  `AM_Time_Series`\n",
    "1.  `AM_Naive_Bayes`\n",
    "1.  `AM_Outlier_Detection`\n",
    "1.  `AM_Unbalanced_Classes`\n",
    "1.  `AM_Recommendation_Engines`\n",
    "1.  `AM_Digital_Signals`\n",
    "1.  `AM_Choosing_ML_Algorithms`"
   ]
  },
  {
   "cell_type": "markdown",
   "metadata": {},
   "source": [
    "## Additional resources\n",
    "\n",
    "### General Machine Learning \n",
    "\n",
    "* Wikipedia's articles on \n",
    "   - Machine Learning: https://en.wikipedia.org/wiki/Machine_learning\n",
    "   - Supervised (Machine) Learning: https://en.wikipedia.org/wiki/Supervised_learning  \n",
    "   - Unsupervised (Machine) Learning: https://en.wikipedia.org/wiki/Unsupervised_learning\n",
    "   \n",
    "### Scikit-Learn\n",
    "\n",
    "* The online Scikit-Learn documentation is extensive:\n",
    "https://scikit-learn.org/stable/\n",
    "\n",
    "* Scikit-Learn's introductory tutorial:\n",
    "https://scikit-learn.org/stable/tutorial/basic/tutorial.html\n",
    "\n",
    "* The Scikit-Learn algorithm cheat sheet:\n",
    "https://scikit-learn.org/stable/tutorial/machine_learning_map/index.html\n",
    "\n",
    "*  The Scikit-Learn `Pipeline` object: \n",
    "https://scikit-learn.org/stable/modules/generated/sklearn.pipeline.Pipeline.html\n",
    "\n",
    "### Pandas and NumPy\n",
    "\n",
    "Pandas DataFrames and NumPy arrays are commonly-used data structures that interact well with the Scikit-Learn Machine Learning API.  \n",
    "\n",
    "**Pandas**\n",
    "* A cheat sheet with a summary of commonly-used Pandas operations:\n",
    "http://pandas.pydata.org/Pandas_Cheat_Sheet.pdf\n",
    "\n",
    "* A blog post discussing the connection between Pandas and NumPy: https://blog.thedataincubator.com/2018/02/numpy-and-pandas/\n",
    "\n",
    "**NumPy**\n",
    "* A quick-start tutorial on NumPy:\n",
    "https://docs.scipy.org/doc/numpy/user/quickstart.html\n",
    "\n",
    "* A NumPy cheat sheet geared for those transitioning from MATLAB:\n",
    "https://docs.scipy.org/doc/numpy/user/numpy-for-matlab-users.html\n",
    "\n",
    "* 100 NumPy exercises: \n",
    "http://www.labri.fr/perso/nrougier/teaching/numpy.100/\n",
    "\n",
    "### Data Sources\n",
    "Where can one find data sets to try out machine learning algorithms?  Here's a few online sources.  \n",
    "\n",
    "* University of California Irvine Machine Learning Repository: https://archive.ics.uci.edu/ml/index.php (This is a well-known repository of common and some not-so-common data sets.)\n",
    "\n",
    "* Google Dataset Search: https://toolbox.google.com/datasetsearch (Provides links to various online data sets, try a keyword search.)\n",
    "\n",
    "###  The Mathematics of Machine Learning\n",
    "\n",
    "You can do machine learning without the need to understand the fine details of the mathematics that underlies it, but if you want to delve into this world, here is a good starting point:\n",
    "*  __[The Elements of Statistical Learning](https://web.stanford.edu/~hastie/ElemStatLearn/)__ by Trevor Hastie, Robert Tibshirani, and Jerome Friedman (A rather comprehensive treatment, available for free online.)\n",
    "*  __[An Introduction to Statistical Learning](https://www-bcf.usc.edu/~gareth/ISL/)__ by Gareth James, Daniela Witten, Trevor Hastie and Robert Tibshirani  (A gentler introduction, i.e. less mathematically intense, than the above book.)"
   ]
  },
  {
   "cell_type": "markdown",
   "metadata": {},
   "source": [
    "*Copyright &copy; 2019 The Data Incubator.  All rights reserved.*"
   ]
  }
 ],
 "metadata": {
  "kernelspec": {
   "display_name": "Python 3",
   "language": "python",
   "name": "python3"
  },
  "nbclean": true
 },
 "nbformat": 4,
 "nbformat_minor": 0
}
