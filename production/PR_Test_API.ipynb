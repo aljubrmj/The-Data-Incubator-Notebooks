{
 "cells": [
  {
   "cell_type": "code",
   "execution_count": null,
   "metadata": {},
   "outputs": [],
   "source": [
    "%matplotlib inline\n",
    "import matplotlib\n",
    "import seaborn as sns\n",
    "sns.set()\n",
    "matplotlib.rcParams['figure.dpi'] = 144"
   ]
  },
  {
   "cell_type": "markdown",
   "metadata": {},
   "source": [
    "# Test API"
   ]
  },
  {
   "cell_type": "markdown",
   "metadata": {},
   "source": [
    "This is a mock of the API exposed by the model for the project.  By this we mean it accepts the same sort of endpoints and data, and returns the same form of data, but doesn't actually train and run the model.  This can be very useful not only for testing purposes, but also for quick and local iteration.  As you are working on your project locally, feel free to spin up this server and point your app at this REST endpoint."
   ]
  },
  {
   "cell_type": "code",
   "execution_count": null,
   "metadata": {},
   "outputs": [],
   "source": [
    "from flask import Flask, request, jsonify\n",
    "import json\n",
    "from datetime import datetime, timedelta\n",
    "import random\n",
    "\n",
    "app = Flask(__name__)\n",
    "\n",
    "secret_key = 'I am a secret'\n",
    "\n",
    "def gen_day(i):\n",
    "    return str(datetime.now() + timedelta(days=i))\n",
    "\n",
    "@app.route('/', methods=['POST'])\n",
    "def index():\n",
    "    data = json.loads(request.data)\n",
    "    try:\n",
    "        key = data['key']\n",
    "    except KeyError:\n",
    "        return 'No key in POST request', 404\n",
    "    if key != secret_key:\n",
    "        return 'invalid secret key', 404\n",
    "    else:\n",
    "        periods = data.get('periods', 100)\n",
    "        # Really simple model, RANDOM!\n",
    "        forecast = {'ds':{i: gen_day(i) for i in range(periods)}}\n",
    "        for ele in ['trend','trend_lower','trend_upper','yhat_lower',\n",
    "                    'yhat_upper','seasonal','seasonal_lower','seasonal_upper',\n",
    "                    'seasonalities','seasonalities_lower','seasonalities_upper',\n",
    "                    'weekly','weekly_lower','weekly_upper','yearly',\n",
    "                    'yearly_lower','yearly_upper','yhat']:\n",
    "            forecast[ele] = {i: random.random() for i in range(periods)}\n",
    "        return jsonify(forecast)\n",
    "\n",
    "if __name__ == '__main__':\n",
    "    print('Starting Server')\n",
    "    # UNCOMMENT TO RUN\n",
    "    # app.run(port=9000)"
   ]
  },
  {
   "cell_type": "markdown",
   "metadata": {},
   "source": [
    "In order to show the following example, we will need to run on a multi-threaded server that can handle more than one request simultaneously, this means we will need to pass in the `threaded=True` argument to our run method."
   ]
  },
  {
   "cell_type": "code",
   "execution_count": null,
   "metadata": {},
   "outputs": [],
   "source": [
    "import time\n",
    "bad_app = Flask(__name__)\n",
    "\n",
    "data = {}\n",
    "data['user'] = ''\n",
    "\n",
    "@bad_app.route('/')\n",
    "def index():\n",
    "    data['user'] = request.args['user']\n",
    "    time.sleep(1)\n",
    "    return data['user']\n",
    "\n",
    "if __name__ == '__main__':\n",
    "    print('Starting Server')\n",
    "    # UNCOMMENT TO RUN\n",
    "    # bad_app.run(port=9000,threaded=True)"
   ]
  },
  {
   "cell_type": "markdown",
   "metadata": {},
   "source": [
    "*Copyright &copy; 2018 The Data Incubator.  All rights reserved.*"
   ]
  }
 ],
 "metadata": {
  "kernelspec": {
   "display_name": "Python 3",
   "language": "python",
   "name": "python3"
  },
  "nbclean": true
 },
 "nbformat": 4,
 "nbformat_minor": 0
}
