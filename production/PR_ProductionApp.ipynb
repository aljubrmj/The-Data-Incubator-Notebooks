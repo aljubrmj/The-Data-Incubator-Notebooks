{
 "cells": [
  {
   "cell_type": "code",
   "execution_count": null,
   "metadata": {},
   "outputs": [],
   "source": [
    "%matplotlib inline\n",
    "import matplotlib\n",
    "import seaborn as sns\n",
    "sns.set()\n",
    "matplotlib.rcParams['figure.dpi'] = 144"
   ]
  },
  {
   "cell_type": "markdown",
   "metadata": {},
   "source": [
    "# Production App"
   ]
  },
  {
   "cell_type": "markdown",
   "metadata": {},
   "source": [
    "This notebook will introduce you to some of the concepts necessary to build the Production App project as a team.  Note that this is a rather opinionated guide which promotes the way we will be pursuing this project, there are many other successful ways of engineering software and your production practices will vary wildly depending on factors like the size the team, nature of your project, and most importantly, the opinions of your superiors."
   ]
  },
  {
   "cell_type": "markdown",
   "metadata": {},
   "source": [
    "## Project Overview\n"
   ]
  },
  {
   "cell_type": "markdown",
   "metadata": {},
   "source": [
    "The goal of this project is to work as a team to produce a web app which is centered around a general predictive model for time series applied to stock market data (obtained from Quandl).  The model has been built and deployed by the instructors and is based on the `fbprophet` package from Facebook.  We have wrapped some small functionality of the `fbprophet` package in a flask app to expose a REST service, containerized it, and deployed it on a Kubernetes cluster (Please ask about these things if you are interested!).  The idea here is that the model part has been built and exposed as a service. You will need to use it (flaws and all).  \n",
    "This project will get you used to working on version controlled software which has a production deploy system on a good size team.  You will need to work with your peers to do the following:\n",
    "\n",
    "1. Choose a direction for the app.  The general idea is to make stock predictions, many different ways you might choose to take this.  We have left this open ended, be creative and have some fun!\n",
    "2. Once you have a direction, break the large direction into smaller tasks and work in teams on each task (Zach and Dylan will help here).\n",
    "3. Start coding, testing, deploying, breaking, fixing, ruminating, succeeding, and having fun!"
   ]
  },
  {
   "cell_type": "markdown",
   "metadata": {},
   "source": [
    "## Workflow\n"
   ]
  },
  {
   "cell_type": "markdown",
   "metadata": {},
   "source": [
    "The creation of this app will take place in a single GitHub repo where you will *all* have push access (please don't abuse this, on the other hand, don't be afraid of making mistakes, we can always revert things!).  One big general git rule:\n",
    "\n",
    "1. No force pushing on master. Ever. No exceptions.  If you need to get rid of a previous commit, then revert the commit by using `git revert`. \n",
    "\n",
    "The code review process will take place as follows:\n",
    "1. Open an issue on the issue tracker, this is for both bugs and enhancements.  Assign yourself to this issue.  Dylan or Zach will assign another fellow to review your code.\n",
    "2. Make a new branch (usually based off of master) and make a few commits.  Please do write good commit messages that actually mean something.\n",
    "3. Open a Pull Request (usually against master) and request a review from both the other person assigned to the PR and either Dylan or Zach.  Assign both of these people to the PR.  \n",
    "4. Your code gets reviewed by both the reviewers, politely have a conversation about changes if necessary.\n",
    "5. When both reviewers are satisfied, and all tests pass, merge the pull request into master.  We prefer you use either the rebase and merge or squash and merge styles of merging.\n",
    "\n",
    "The app will have CI set up to test and deploy the application to a Heroku server.\n",
    "\n",
    "One big general workflow rule:\n",
    "\n",
    "1. Be polite to your peers, give criticism respectfully and constructively.  Remember they have spent time writing that code, respect their time and effort."
   ]
  },
  {
   "cell_type": "markdown",
   "metadata": {},
   "source": [
    "## API\n"
   ]
  },
  {
   "cell_type": "markdown",
   "metadata": {},
   "source": [
    "The model API is pretty simple, you give it a time series and a secret key and gives you back some predictions using [`fbprophet`](https://github.com/facebook/prophet).  The location of the running service as well as the secret key will be saved as environment variables on Heroku, *do not* put these into source control.  We don't want people who are not us to be able to hit our servers.  There are few reasons we are choosing to architect the application in this:\n",
    "\n",
    "1. Its a good example of microservices.  Our main application shouldn't have to care exactly how these predictions are made, only the interface necessary to interact with the service that makes the predictions.\n",
    "2. Heroku servers have pretty low RAM by default.  `fbprophet` (and many models) need more than 512 Mb.  Moving this to another server allows us to use much more RAM while still retaining the simplicity and ease of deploying to Heroku for our main application.\n",
    "3. We want to protect the server address and secret key so that malicious users cannot overload our servers.\n",
    "\n",
    "API spec:\n",
    "\n",
    "This API exposes one endpoint (\"/\") and a post request of the following format for a training set of length N\n",
    "\n",
    "```\n",
    "\n",
    "{\n",
    "  \"key\": Secret key\n",
    "  \"periods\": Number of periods (usually days) to predict (default 100)\n",
    "  \"ds\": [days] * N\n",
    "  \"y\": [quantity to prediction] * N\n",
    "}\n",
    "\n",
    "```\n",
    "\n",
    "and the return will be an object of the form\n",
    "\n",
    "```\n",
    "{\n",
    "   \"ds\": {\"index\": Date}\n",
    "   \"yhat\": {\"index\": predicted Value}\n",
    "   \"trend\": {\"index\": Predicted Value}\n",
    "   \"trend_lower\": {\"index\": Predicted Value}\n",
    "   \"trend_upper\": {\"index\": Predicted Value}\n",
    "   \"yhat_lower\": {\"index\": Predicted Value}\n",
    "   \"yhat_upper\": {\"index\": Predicted Value}\n",
    "   \"seasonal\": {\"index\": Predicted Value}\n",
    "   \"seasonal_lower\": {\"index\": Predicted Value}\n",
    "   \"seasonal_upper\": {\"index\": Predicted Value}\n",
    "   \"seasonalities\": {\"index\": Predicted Value}\n",
    "   \"seasonalities_lower\": {\"index\": Predicted Value}\n",
    "   \"seasonalities_upper\": {\"index\": Predicted Value}\n",
    "   \"weekly\": {\"index\": Predicted Value}\n",
    "   \"weekly_lower\": {\"index\": Predicted Value}\n",
    "   \"weekly_upper\": {\"index\": Predicted Value}\n",
    "   \"yearly\": {\"index\": Predicted Value}\n",
    "   \"yearly_lower\": {\"index\": Predicted Value}\n",
    "   \"yearly_upper\": {\"index\": Predicted Value}\n",
    "   \"yhat\": {\"index\": Predicted Value}\n",
    "}\n",
    "\n",
    "```\n",
    "\n",
    "In order to understand this better better, we have made a mock-up of this API in `FO_TEST_API.ipynb`.  Run this notebook (after uncommenting the `app.run` command) and a local server will be started which exposes the same API.  This might be very useful as you are building your app, but don't want to hit the production modeling framework as that will generally take a bit longer to run."
   ]
  },
  {
   "cell_type": "code",
   "execution_count": null,
   "metadata": {},
   "outputs": [],
   "source": [
    "from datetime import datetime, timedelta\n",
    "import random\n",
    "import json\n",
    "periods = 100\n",
    "def gen_day(i):\n",
    "    return str(datetime.now() + timedelta(days=i))\n",
    "\n",
    "url = 'http://localhost:9000'"
   ]
  },
  {
   "cell_type": "code",
   "execution_count": null,
   "metadata": {},
   "outputs": [],
   "source": [
    "import requests\n",
    "def make_request(key, periods=100):\n",
    "    data = {'ds':[gen_day(i) for i in range(100)],\n",
    "            'y': [random.random() for _ in range(100)],\n",
    "            'periods':periods}\n",
    "    if key is not None:\n",
    "        data['key'] = key\n",
    "    try:\n",
    "        r = requests.post(url, data=json.dumps(data))\n",
    "    except requests.ConnectionError:\n",
    "        return \"make sure you have started a server on port 9000\"\n",
    "    if not r.ok:\n",
    "        return \"Error = {}, message = {}\".format(r.status_code, r.text)\n",
    "    return json.loads(r.text)"
   ]
  },
  {
   "cell_type": "code",
   "execution_count": null,
   "metadata": {},
   "outputs": [],
   "source": [
    "make_request(None)"
   ]
  },
  {
   "cell_type": "code",
   "execution_count": null,
   "metadata": {},
   "outputs": [],
   "source": [
    "make_request('random')"
   ]
  },
  {
   "cell_type": "code",
   "execution_count": null,
   "metadata": {},
   "outputs": [],
   "source": [
    "make_request('I am a secret')"
   ]
  },
  {
   "cell_type": "code",
   "execution_count": null,
   "metadata": {},
   "outputs": [],
   "source": [
    "make_request('I am a secret', 10)"
   ]
  },
  {
   "cell_type": "markdown",
   "metadata": {},
   "source": [
    "## The big no-no\n"
   ]
  },
  {
   "cell_type": "markdown",
   "metadata": {},
   "source": [
    "After reviewing your 12-Day projects, the biggest mistake we have noticed, is that people holding state within an application.  While this works just fine with only a single user and a single server (at least most of the time), it will break when running with multiple users or multiple servers.  For example, in `PR_Test_API.ipynb`, we have an example of this which we have suggestively called `bad_app`. \n",
    "\n",
    "First lets run a set of single queries and see what we get"
   ]
  },
  {
   "cell_type": "code",
   "execution_count": null,
   "metadata": {},
   "outputs": [],
   "source": [
    "users = ['zach', 'dylan', 'robert']\n",
    "for user in users:\n",
    "    try:\n",
    "        r = requests.get(url, params={'user': user})\n",
    "    except requests.ConnectionError:\n",
    "        print(\"make sure you have started a server on port 9000\")\n",
    "    else:\n",
    "        print(user, r.text)"
   ]
  },
  {
   "cell_type": "markdown",
   "metadata": {},
   "source": [
    "Things worked just fine here.  Now lets issue these requests, but we won't wait for the response before we issue the next one, this will simulate a multi-user environment."
   ]
  },
  {
   "cell_type": "code",
   "execution_count": null,
   "metadata": {},
   "outputs": [],
   "source": [
    "from requests_futures.sessions import FuturesSession\n",
    "session = FuturesSession(max_workers=5)\n",
    "\n",
    "futures = [session.get(url, params={'user': user}) for user in users]\n",
    "result = []\n",
    "for future in futures:\n",
    "    try:\n",
    "        result.extend(future.result())\n",
    "    except requests.ConnectionError:\n",
    "        print(\"make sure you have started a server on port 9000\")\n",
    "print(list(zip(users, result)))"
   ]
  },
  {
   "cell_type": "markdown",
   "metadata": {},
   "source": [
    "*Copyright &copy; 2018 The Data Incubator.  All rights reserved.*"
   ]
  }
 ],
 "metadata": {
  "kernelspec": {
   "display_name": "Python 3",
   "language": "python",
   "name": "python3"
  },
  "nbclean": true
 },
 "nbformat": 4,
 "nbformat_minor": 0
}
